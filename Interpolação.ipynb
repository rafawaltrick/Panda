{
  "nbformat": 4,
  "nbformat_minor": 0,
  "metadata": {
    "colab": {
      "provenance": [],
      "mount_file_id": "1z3xNm080IySSiie8azsuq_mobT89IN6X",
      "authorship_tag": "ABX9TyO/TUus1kQv5A1O8Nu1FrnH",
      "include_colab_link": true
    },
    "kernelspec": {
      "name": "python3",
      "display_name": "Python 3"
    },
    "language_info": {
      "name": "python"
    }
  },
  "cells": [
    {
      "cell_type": "markdown",
      "metadata": {
        "id": "view-in-github",
        "colab_type": "text"
      },
      "source": [
        "<a href=\"https://colab.research.google.com/github/rafawaltrick/Pandas/blob/main/Interpola%C3%A7%C3%A3o.ipynb\" target=\"_parent\"><img src=\"https://colab.research.google.com/assets/colab-badge.svg\" alt=\"Open In Colab\"/></a>"
      ]
    },
    {
      "cell_type": "code",
      "execution_count": 50,
      "metadata": {
        "id": "kcoJxekihbAr"
      },
      "outputs": [],
      "source": [
        "import pandas as pd"
      ]
    },
    {
      "cell_type": "markdown",
      "source": [
        "# Foi criada uma coluna com a variável dados 'Series(dados)'."
      ],
      "metadata": {
        "id": "yhuRkjUMrObF"
      }
    },
    {
      "cell_type": "code",
      "source": [
        "dados = [0.5, None, None, 0.52, 0.54, None, None, 0.59, 0.6, None, 0.7]\n",
        "s = pd.Series(dados)"
      ],
      "metadata": {
        "id": "AAMFHAmkjkLN"
      },
      "execution_count": 51,
      "outputs": []
    },
    {
      "cell_type": "code",
      "source": [
        "s"
      ],
      "metadata": {
        "colab": {
          "base_uri": "https://localhost:8080/"
        },
        "id": "heXyNfnCj2OU",
        "outputId": "051aa0ed-3bf6-474d-e333-2af32a8ffa0e"
      },
      "execution_count": 52,
      "outputs": [
        {
          "output_type": "execute_result",
          "data": {
            "text/plain": [
              "0     0.50\n",
              "1      NaN\n",
              "2      NaN\n",
              "3     0.52\n",
              "4     0.54\n",
              "5      NaN\n",
              "6      NaN\n",
              "7     0.59\n",
              "8     0.60\n",
              "9      NaN\n",
              "10    0.70\n",
              "dtype: float64"
            ]
          },
          "metadata": {},
          "execution_count": 52
        }
      ]
    },
    {
      "cell_type": "markdown",
      "source": [
        "# Para renomear os valores NaN da 'Series( )' 's', usamos a função '.fillna( ), que troca todos os valores NaN por 0, no caso abaixo."
      ],
      "metadata": {
        "id": "YGb-wMvZrxqG"
      }
    },
    {
      "cell_type": "code",
      "source": [
        "s.fillna(0)"
      ],
      "metadata": {
        "colab": {
          "base_uri": "https://localhost:8080/"
        },
        "id": "Y9f0I8hNj210",
        "outputId": "7932d102-753f-4231-be70-a6cfafddec9e"
      },
      "execution_count": 53,
      "outputs": [
        {
          "output_type": "execute_result",
          "data": {
            "text/plain": [
              "0     0.50\n",
              "1     0.00\n",
              "2     0.00\n",
              "3     0.52\n",
              "4     0.54\n",
              "5     0.00\n",
              "6     0.00\n",
              "7     0.59\n",
              "8     0.60\n",
              "9     0.00\n",
              "10    0.70\n",
              "dtype: float64"
            ]
          },
          "metadata": {},
          "execution_count": 53
        }
      ]
    },
    {
      "cell_type": "markdown",
      "source": [
        "# Podemos renomear os valores NaN, usando o metodo 'ffill', que vai usar o valor anterior para ocupar os espaços NaN."
      ],
      "metadata": {
        "id": "RLJtFb3DsSIV"
      }
    },
    {
      "cell_type": "code",
      "source": [
        "s.fillna(method = 'ffill')"
      ],
      "metadata": {
        "colab": {
          "base_uri": "https://localhost:8080/"
        },
        "id": "8K_YcqeKj6vs",
        "outputId": "6bbf5571-dc23-4a23-eb0f-3d3a2a986852"
      },
      "execution_count": 54,
      "outputs": [
        {
          "output_type": "execute_result",
          "data": {
            "text/plain": [
              "0     0.50\n",
              "1     0.50\n",
              "2     0.50\n",
              "3     0.52\n",
              "4     0.54\n",
              "5     0.54\n",
              "6     0.54\n",
              "7     0.59\n",
              "8     0.60\n",
              "9     0.60\n",
              "10    0.70\n",
              "dtype: float64"
            ]
          },
          "metadata": {},
          "execution_count": 54
        }
      ]
    },
    {
      "cell_type": "markdown",
      "source": [
        "# Com o metodo 'bfill' é feito a mesma coisa que o metodo 'ffill' mas de baixo para cima."
      ],
      "metadata": {
        "id": "vhEnO5uHsuce"
      }
    },
    {
      "cell_type": "code",
      "source": [
        "s.fillna(method = 'bfill')"
      ],
      "metadata": {
        "colab": {
          "base_uri": "https://localhost:8080/"
        },
        "id": "R2l5iYyekBJz",
        "outputId": "eb41f3c4-1a20-4d11-adbe-8e617d8ab024"
      },
      "execution_count": 55,
      "outputs": [
        {
          "output_type": "execute_result",
          "data": {
            "text/plain": [
              "0     0.50\n",
              "1     0.52\n",
              "2     0.52\n",
              "3     0.52\n",
              "4     0.54\n",
              "5     0.59\n",
              "6     0.59\n",
              "7     0.59\n",
              "8     0.60\n",
              "9     0.70\n",
              "10    0.70\n",
              "dtype: float64"
            ]
          },
          "metadata": {},
          "execution_count": 55
        }
      ]
    },
    {
      "cell_type": "markdown",
      "source": [
        "# podemos usar o '.fillna' integrando o método 'mean( )' para substituir os espaços NaN pela média."
      ],
      "metadata": {
        "id": "qRo35jY2s_w9"
      }
    },
    {
      "cell_type": "code",
      "source": [
        "s.fillna(s.mean())"
      ],
      "metadata": {
        "colab": {
          "base_uri": "https://localhost:8080/"
        },
        "id": "BrMTy2SukV5s",
        "outputId": "9e8e2dca-c09e-4e46-f6cd-d7c63bdda2fc"
      },
      "execution_count": 56,
      "outputs": [
        {
          "output_type": "execute_result",
          "data": {
            "text/plain": [
              "0     0.500\n",
              "1     0.575\n",
              "2     0.575\n",
              "3     0.520\n",
              "4     0.540\n",
              "5     0.575\n",
              "6     0.575\n",
              "7     0.590\n",
              "8     0.600\n",
              "9     0.575\n",
              "10    0.700\n",
              "dtype: float64"
            ]
          },
          "metadata": {},
          "execution_count": 56
        }
      ]
    },
    {
      "cell_type": "markdown",
      "source": [],
      "metadata": {
        "id": "4q_8zE2FxMfO"
      }
    },
    {
      "cell_type": "code",
      "source": [
        "s"
      ],
      "metadata": {
        "colab": {
          "base_uri": "https://localhost:8080/"
        },
        "id": "EtMk7r8dlxss",
        "outputId": "63081cc7-b6aa-4832-f6b6-ee6613e0e5fb"
      },
      "execution_count": 57,
      "outputs": [
        {
          "output_type": "execute_result",
          "data": {
            "text/plain": [
              "0     0.50\n",
              "1      NaN\n",
              "2      NaN\n",
              "3     0.52\n",
              "4     0.54\n",
              "5      NaN\n",
              "6      NaN\n",
              "7     0.59\n",
              "8     0.60\n",
              "9      NaN\n",
              "10    0.70\n",
              "dtype: float64"
            ]
          },
          "metadata": {},
          "execution_count": 57
        }
      ]
    },
    {
      "cell_type": "markdown",
      "source": [
        "# Usamos 'limit = ' para adicionar um limite ao preenchimento dos valores NaN.\n",
        "# Ao criar a variável 's1', podemos preencher os valores NaN, primeiro copiando o de cima e na sequencia copiado o de baixo."
      ],
      "metadata": {
        "id": "FZxxhrmBxOk2"
      }
    },
    {
      "cell_type": "code",
      "source": [
        "s1 = s.fillna(method = 'ffill', limit = 1)"
      ],
      "metadata": {
        "id": "qMyWcph9kf8E"
      },
      "execution_count": 58,
      "outputs": []
    },
    {
      "cell_type": "code",
      "source": [
        "s1"
      ],
      "metadata": {
        "colab": {
          "base_uri": "https://localhost:8080/"
        },
        "id": "OwyEQgbKk8eL",
        "outputId": "c2e7bbdc-252f-4f2d-a0c4-e3d79fc00ab2"
      },
      "execution_count": 59,
      "outputs": [
        {
          "output_type": "execute_result",
          "data": {
            "text/plain": [
              "0     0.50\n",
              "1     0.50\n",
              "2      NaN\n",
              "3     0.52\n",
              "4     0.54\n",
              "5     0.54\n",
              "6      NaN\n",
              "7     0.59\n",
              "8     0.60\n",
              "9     0.60\n",
              "10    0.70\n",
              "dtype: float64"
            ]
          },
          "metadata": {},
          "execution_count": 59
        }
      ]
    },
    {
      "cell_type": "markdown",
      "source": [
        "# O mesmo limite pode ser usado de baixo para cima."
      ],
      "metadata": {
        "id": "rKGfPXdwxvvW"
      }
    },
    {
      "cell_type": "code",
      "source": [
        "s1 = s1.fillna(method = 'bfill', limit = 1)"
      ],
      "metadata": {
        "id": "w5ZgIQndmH-k"
      },
      "execution_count": 60,
      "outputs": []
    },
    {
      "cell_type": "code",
      "source": [
        "s1"
      ],
      "metadata": {
        "colab": {
          "base_uri": "https://localhost:8080/"
        },
        "id": "6RywwDBvmOKT",
        "outputId": "0cfc4d90-f118-47f6-a4d7-82b53804f25b"
      },
      "execution_count": 61,
      "outputs": [
        {
          "output_type": "execute_result",
          "data": {
            "text/plain": [
              "0     0.50\n",
              "1     0.50\n",
              "2     0.52\n",
              "3     0.52\n",
              "4     0.54\n",
              "5     0.54\n",
              "6     0.59\n",
              "7     0.59\n",
              "8     0.60\n",
              "9     0.60\n",
              "10    0.70\n",
              "dtype: float64"
            ]
          },
          "metadata": {},
          "execution_count": 61
        }
      ]
    },
    {
      "cell_type": "code",
      "source": [],
      "metadata": {
        "id": "K3Hpl1tomPWE"
      },
      "execution_count": 61,
      "outputs": []
    }
  ]
}