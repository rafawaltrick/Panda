{
  "nbformat": 4,
  "nbformat_minor": 0,
  "metadata": {
    "colab": {
      "provenance": [],
      "mount_file_id": "1PY5O1lfSurSd6gN8TvxpocizD1T9MMFC",
      "authorship_tag": "ABX9TyOZ8dspB9x3Sg0WfFLWR1oA",
      "include_colab_link": true
    },
    "kernelspec": {
      "name": "python3",
      "display_name": "Python 3"
    },
    "language_info": {
      "name": "python"
    }
  },
  "cells": [
    {
      "cell_type": "markdown",
      "metadata": {
        "id": "view-in-github",
        "colab_type": "text"
      },
      "source": [
        "<a href=\"https://colab.research.google.com/github/rafawaltrick/Pandas/blob/main/prot%C3%B3tipo_amaz%C3%B4nia.ipynb\" target=\"_parent\"><img src=\"https://colab.research.google.com/assets/colab-badge.svg\" alt=\"Open In Colab\"/></a>"
      ]
    },
    {
      "cell_type": "code",
      "execution_count": 222,
      "metadata": {
        "id": "T2egCFLHe3Sd"
      },
      "outputs": [],
      "source": [
        "import pandas as pd\n",
        "import datetime as dt\n",
        "%matplotlib inline\n",
        "import matplotlib.pyplot as plt\n",
        "plt.rc('figure', figsize = (15, 8))"
      ]
    },
    {
      "cell_type": "code",
      "source": [
        "focos22 = '/content/drive/MyDrive/Colab Notebooks/dados prot_amazonas/dados/focos-22.csv'\n",
        "focosUC22 = '/content/drive/MyDrive/Colab Notebooks/dados prot_amazonas/dados/focos-UC-2022.csv'\n",
        "focosTI22 = '/content/drive/MyDrive/Colab Notebooks/dados prot_amazonas/dados/focos-TI-2022.csv'"
      ],
      "metadata": {
        "id": "2FXiRDiEfkAN"
      },
      "execution_count": 223,
      "outputs": []
    },
    {
      "cell_type": "code",
      "source": [
        "df_ti22 = pd.read_csv(focosTI22)\n",
        "df_focos22 = pd.read_csv(focos22)\n",
        "df_uc22 = pd.read_csv(focosUC22)\n"
      ],
      "metadata": {
        "id": "ULyZrp_vgQ6B"
      },
      "execution_count": 224,
      "outputs": []
    },
    {
      "cell_type": "code",
      "source": [
        "#df_ti22.datahora = pd.to_datetime(df_ti22.datahora)"
      ],
      "metadata": {
        "id": "1VH5SoTBD4qH"
      },
      "execution_count": 220,
      "outputs": []
    },
    {
      "cell_type": "code",
      "source": [
        "df_ti22.info()"
      ],
      "metadata": {
        "colab": {
          "base_uri": "https://localhost:8080/"
        },
        "id": "K1goAuEDDxuF",
        "outputId": "2eca7ff2-e4a4-4b59-8f7d-6d60929fc8bf"
      },
      "execution_count": 225,
      "outputs": [
        {
          "output_type": "stream",
          "name": "stdout",
          "text": [
            "<class 'pandas.core.frame.DataFrame'>\n",
            "RangeIndex: 125856 entries, 0 to 125855\n",
            "Data columns (total 17 columns):\n",
            " #   Column      Non-Null Count   Dtype  \n",
            "---  ------      --------------   -----  \n",
            " 0   datahora    125856 non-null  object \n",
            " 1   satelite    125856 non-null  object \n",
            " 2   pais        125856 non-null  object \n",
            " 3   estado      125856 non-null  object \n",
            " 4   municipio   125856 non-null  object \n",
            " 5   bioma       125856 non-null  object \n",
            " 6   diasemchuv  122491 non-null  float64\n",
            " 7   precipitac  122491 non-null  float64\n",
            " 8   riscofogo   122491 non-null  float64\n",
            " 9   latitude    125856 non-null  float64\n",
            " 10  longitude   125856 non-null  float64\n",
            " 11  frp         113400 non-null  float64\n",
            " 12  id          125856 non-null  int64  \n",
            " 13  terrai_cod  125856 non-null  int64  \n",
            " 14  terrai_nom  125856 non-null  object \n",
            " 15  etnia_nome  125856 non-null  object \n",
            " 16  fase_ti     125856 non-null  object \n",
            "dtypes: float64(6), int64(2), object(9)\n",
            "memory usage: 16.3+ MB\n"
          ]
        }
      ]
    },
    {
      "cell_type": "code",
      "source": [
        "md = df_ti22.loc[0, \"datahora\"]"
      ],
      "metadata": {
        "id": "zkZwx5nbks2X"
      },
      "execution_count": 226,
      "outputs": []
    },
    {
      "cell_type": "code",
      "source": [
        "md"
      ],
      "metadata": {
        "colab": {
          "base_uri": "https://localhost:8080/",
          "height": 35
        },
        "id": "EMYbhyCcfqqY",
        "outputId": "e46975b2-bd69-479f-b49e-2ae269ca4b1d"
      },
      "execution_count": 227,
      "outputs": [
        {
          "output_type": "execute_result",
          "data": {
            "text/plain": [
              "'2022/08/12 01:58:00'"
            ],
            "application/vnd.google.colaboratory.intrinsic+json": {
              "type": "string"
            }
          },
          "metadata": {},
          "execution_count": 227
        }
      ]
    },
    {
      "cell_type": "code",
      "source": [
        "data_atual = dt.date.today()"
      ],
      "metadata": {
        "id": "WSnMHQQDfqlh"
      },
      "execution_count": 198,
      "outputs": []
    },
    {
      "cell_type": "code",
      "source": [
        "data_atual"
      ],
      "metadata": {
        "colab": {
          "base_uri": "https://localhost:8080/"
        },
        "id": "zJQNbWRzfqgh",
        "outputId": "485a63a3-e77d-4a0b-d3cc-e2acfb2d0bb5"
      },
      "execution_count": 228,
      "outputs": [
        {
          "output_type": "execute_result",
          "data": {
            "text/plain": [
              "datetime.date(2023, 1, 18)"
            ]
          },
          "metadata": {},
          "execution_count": 228
        }
      ]
    },
    {
      "cell_type": "code",
      "source": [
        "print(data_atual)"
      ],
      "metadata": {
        "colab": {
          "base_uri": "https://localhost:8080/"
        },
        "id": "z0cBv2IVfqbh",
        "outputId": "9456671f-dbb1-4f50-c035-3dd08008b825"
      },
      "execution_count": 229,
      "outputs": [
        {
          "output_type": "stream",
          "name": "stdout",
          "text": [
            "2023-01-18\n"
          ]
        }
      ]
    },
    {
      "cell_type": "code",
      "source": [
        "data_atual.year"
      ],
      "metadata": {
        "colab": {
          "base_uri": "https://localhost:8080/"
        },
        "id": "MxZ2y69FfqVf",
        "outputId": "36c762e5-5486-4c3c-aeea-de7da83de351"
      },
      "execution_count": 230,
      "outputs": [
        {
          "output_type": "execute_result",
          "data": {
            "text/plain": [
              "2023"
            ]
          },
          "metadata": {},
          "execution_count": 230
        }
      ]
    },
    {
      "cell_type": "code",
      "source": [
        "data_atual.month"
      ],
      "metadata": {
        "colab": {
          "base_uri": "https://localhost:8080/"
        },
        "id": "tBNvfby5fqQJ",
        "outputId": "638da7a2-3919-465e-a5af-0f05ffd4e7a8"
      },
      "execution_count": 231,
      "outputs": [
        {
          "output_type": "execute_result",
          "data": {
            "text/plain": [
              "1"
            ]
          },
          "metadata": {},
          "execution_count": 231
        }
      ]
    },
    {
      "cell_type": "code",
      "source": [
        "data_atual.day"
      ],
      "metadata": {
        "colab": {
          "base_uri": "https://localhost:8080/"
        },
        "id": "BQrmtXIAfqLB",
        "outputId": "cb180f4a-c627-466c-80e4-9162af28b020"
      },
      "execution_count": 232,
      "outputs": [
        {
          "output_type": "execute_result",
          "data": {
            "text/plain": [
              "18"
            ]
          },
          "metadata": {},
          "execution_count": 232
        }
      ]
    },
    {
      "cell_type": "code",
      "source": [
        "data_atual.timetuple()"
      ],
      "metadata": {
        "colab": {
          "base_uri": "https://localhost:8080/"
        },
        "id": "xMiEwBltfqEQ",
        "outputId": "501b90f4-9b6b-4bc3-a0f4-7d63d19f1b29"
      },
      "execution_count": 233,
      "outputs": [
        {
          "output_type": "execute_result",
          "data": {
            "text/plain": [
              "time.struct_time(tm_year=2023, tm_mon=1, tm_mday=18, tm_hour=0, tm_min=0, tm_sec=0, tm_wday=2, tm_yday=18, tm_isdst=-1)"
            ]
          },
          "metadata": {},
          "execution_count": 233
        }
      ]
    },
    {
      "cell_type": "code",
      "source": [
        "jld_atual = data_atual.timetuple().tm_yday\n",
        "print(jld_atual)"
      ],
      "metadata": {
        "colab": {
          "base_uri": "https://localhost:8080/"
        },
        "id": "iPjNAeNRhUPS",
        "outputId": "3205f27e-4ffe-4913-a68e-5d84829f3de3"
      },
      "execution_count": 234,
      "outputs": [
        {
          "output_type": "stream",
          "name": "stdout",
          "text": [
            "18\n"
          ]
        }
      ]
    },
    {
      "cell_type": "code",
      "source": [
        "nova_data = dt.date(2022,10,4)\n",
        "print(nova_data)"
      ],
      "metadata": {
        "colab": {
          "base_uri": "https://localhost:8080/"
        },
        "id": "E0LMtvEwhUUg",
        "outputId": "29fc6c1c-89ac-4f7a-d428-59d005123ef5"
      },
      "execution_count": 235,
      "outputs": [
        {
          "output_type": "stream",
          "name": "stdout",
          "text": [
            "2022-10-04\n"
          ]
        }
      ]
    },
    {
      "cell_type": "code",
      "source": [
        "md"
      ],
      "metadata": {
        "colab": {
          "base_uri": "https://localhost:8080/",
          "height": 35
        },
        "id": "x3cRaholhUXj",
        "outputId": "c1e717b4-1021-4530-da27-3545ca68e162"
      },
      "execution_count": 236,
      "outputs": [
        {
          "output_type": "execute_result",
          "data": {
            "text/plain": [
              "'2022/08/12 01:58:00'"
            ],
            "application/vnd.google.colaboratory.intrinsic+json": {
              "type": "string"
            }
          },
          "metadata": {},
          "execution_count": 236
        }
      ]
    },
    {
      "cell_type": "code",
      "source": [
        "nova_data = dt.datetime.strptime(md, \"%Y/%m/%d %H:%M:%S\")"
      ],
      "metadata": {
        "id": "GR_WpmV8hUa8"
      },
      "execution_count": 237,
      "outputs": []
    },
    {
      "cell_type": "code",
      "source": [
        "nova_data.strftime(\"%j\")"
      ],
      "metadata": {
        "colab": {
          "base_uri": "https://localhost:8080/",
          "height": 35
        },
        "id": "pb_DjTyrhUdo",
        "outputId": "e83a5ea1-2371-4c55-e69c-71ed88e032c2"
      },
      "execution_count": 238,
      "outputs": [
        {
          "output_type": "execute_result",
          "data": {
            "text/plain": [
              "'224'"
            ],
            "application/vnd.google.colaboratory.intrinsic+json": {
              "type": "string"
            }
          },
          "metadata": {},
          "execution_count": 238
        }
      ]
    },
    {
      "cell_type": "code",
      "source": [
        "data_atual"
      ],
      "metadata": {
        "colab": {
          "base_uri": "https://localhost:8080/"
        },
        "id": "nXNjeEjKhUhM",
        "outputId": "9cc0bc18-de66-4822-8c2b-d890f6ee1eec"
      },
      "execution_count": 239,
      "outputs": [
        {
          "output_type": "execute_result",
          "data": {
            "text/plain": [
              "datetime.date(2023, 1, 18)"
            ]
          },
          "metadata": {},
          "execution_count": 239
        }
      ]
    },
    {
      "cell_type": "code",
      "source": [
        "inicio_aa1 = dt.date(2022,1,1)"
      ],
      "metadata": {
        "id": "bgGXn3nphUjz"
      },
      "execution_count": 240,
      "outputs": []
    },
    {
      "cell_type": "code",
      "source": [
        "inicio_aa1 - dt.timedelta(days=1)"
      ],
      "metadata": {
        "colab": {
          "base_uri": "https://localhost:8080/"
        },
        "id": "rgsTsi8bldbD",
        "outputId": "884b85e6-ba9f-4697-d88e-9d790f56bacd"
      },
      "execution_count": 241,
      "outputs": [
        {
          "output_type": "execute_result",
          "data": {
            "text/plain": [
              "datetime.date(2021, 12, 31)"
            ]
          },
          "metadata": {},
          "execution_count": 241
        }
      ]
    },
    {
      "cell_type": "code",
      "source": [
        "dt.timedelta(days=1)"
      ],
      "metadata": {
        "colab": {
          "base_uri": "https://localhost:8080/"
        },
        "id": "m9UoaGcqldd5",
        "outputId": "1dc2011a-b9d7-4ccf-b502-5944a0ebfbaf"
      },
      "execution_count": 242,
      "outputs": [
        {
          "output_type": "execute_result",
          "data": {
            "text/plain": [
              "datetime.timedelta(days=1)"
            ]
          },
          "metadata": {},
          "execution_count": 242
        }
      ]
    },
    {
      "cell_type": "code",
      "source": [
        "nova_data = dt.date(data_atual.year, (data_atual.month +1), 1)\n",
        "nova_data - dt.timedelta(days=1)"
      ],
      "metadata": {
        "colab": {
          "base_uri": "https://localhost:8080/"
        },
        "id": "bC0TVl34ldhC",
        "outputId": "abd75afe-f27b-4547-eb2f-9af4bf777d9a"
      },
      "execution_count": 243,
      "outputs": [
        {
          "output_type": "execute_result",
          "data": {
            "text/plain": [
              "datetime.date(2023, 1, 31)"
            ]
          },
          "metadata": {},
          "execution_count": 243
        }
      ]
    },
    {
      "cell_type": "code",
      "source": [
        "print(inicio_aa1)"
      ],
      "metadata": {
        "colab": {
          "base_uri": "https://localhost:8080/"
        },
        "id": "zA1ya2JghUlh",
        "outputId": "8ee20038-4fe8-4ca1-d400-ceb0532f500b"
      },
      "execution_count": 244,
      "outputs": [
        {
          "output_type": "stream",
          "name": "stdout",
          "text": [
            "2022-01-01\n"
          ]
        }
      ]
    },
    {
      "cell_type": "code",
      "source": [
        "print(data_atual.year - 1)"
      ],
      "metadata": {
        "colab": {
          "base_uri": "https://localhost:8080/"
        },
        "id": "3aih-sdihUnu",
        "outputId": "4e5cf601-5f14-48e9-a7bb-2a1e1c15d203"
      },
      "execution_count": 245,
      "outputs": [
        {
          "output_type": "stream",
          "name": "stdout",
          "text": [
            "2022\n"
          ]
        }
      ]
    },
    {
      "cell_type": "code",
      "source": [
        "df_ti22['estado'].value_counts()"
      ],
      "metadata": {
        "colab": {
          "base_uri": "https://localhost:8080/"
        },
        "id": "wV39kNfVlhBd",
        "outputId": "0f83b574-6bcb-40e4-fc21-3d1bd70fc8bf"
      },
      "execution_count": 246,
      "outputs": [
        {
          "output_type": "execute_result",
          "data": {
            "text/plain": [
              "MATO GROSSO    49464\n",
              "PARA           40825\n",
              "RORAIMA        11681\n",
              "AMAZONAS        9394\n",
              "RONDONIA        9382\n",
              "ACRE            1894\n",
              "MARANHAO        1634\n",
              "AMAPA           1579\n",
              "TOCANTINS          3\n",
              "Name: estado, dtype: int64"
            ]
          },
          "metadata": {},
          "execution_count": 246
        }
      ]
    },
    {
      "cell_type": "code",
      "source": [
        "df_ti22.loc[115678:125765]"
      ],
      "metadata": {
        "colab": {
          "base_uri": "https://localhost:8080/",
          "height": 424
        },
        "id": "f0OtPfDuu1-K",
        "outputId": "4ae137d0-96b8-48fd-e781-73ce2a9dd123"
      },
      "execution_count": 247,
      "outputs": [
        {
          "output_type": "execute_result",
          "data": {
            "text/plain": [
              "                   datahora satelite    pais    estado           municipio  \\\n",
              "115678  2022/06/18 17:39:00  NPP-375  Brasil  AMAZONAS            MANICORE   \n",
              "115679  2022/06/18 17:39:00  NPP-375  Brasil  AMAZONAS            MANICORE   \n",
              "115680  2022/06/18 17:39:00  NPP-375  Brasil  AMAZONAS            MANICORE   \n",
              "115681  2022/06/18 17:39:00  NPP-375  Brasil  AMAZONAS            MANICORE   \n",
              "115682  2022/06/18 17:39:00  NPP-375  Brasil  AMAZONAS            MANICORE   \n",
              "...                     ...      ...     ...       ...                 ...   \n",
              "125761  2022/08/11 16:37:00  NOAA-20  Brasil      PARA        JACAREACANGA   \n",
              "125762  2022/08/11 16:37:00  NOAA-20  Brasil      PARA  SAO FELIX DO XINGU   \n",
              "125763  2022/08/11 16:37:00  NOAA-20  Brasil      PARA  SAO FELIX DO XINGU   \n",
              "125764  2022/08/11 16:37:00  NOAA-20  Brasil      PARA  SAO FELIX DO XINGU   \n",
              "125765  2022/08/11 16:37:00  NOAA-20  Brasil      PARA  SAO FELIX DO XINGU   \n",
              "\n",
              "           bioma  diasemchuv  precipitac  riscofogo  latitude  longitude  \\\n",
              "115678  Amazonia         4.0         0.0       0.61  -8.45942  -61.80344   \n",
              "115679  Amazonia         4.0         0.0       0.61  -8.45996  -61.80698   \n",
              "115680  Amazonia         3.0         0.0       0.61  -8.46214  -61.82111   \n",
              "115681  Amazonia         3.0         0.0       0.61  -8.46269  -61.82465   \n",
              "115682  Amazonia         3.0         0.0       0.60  -8.46323  -61.82818   \n",
              "...          ...         ...         ...        ...       ...        ...   \n",
              "125761  Amazonia         0.0         0.0       0.19  -8.40582  -57.67667   \n",
              "125762  Amazonia        18.0         0.0       0.95  -5.61702  -52.22726   \n",
              "125763  Amazonia         1.0         0.2       0.50  -5.83171  -52.07731   \n",
              "125764  Amazonia         1.0         0.0       0.65  -5.84096  -52.33949   \n",
              "125765  Amazonia         1.0         0.0       0.64  -5.84497  -52.33891   \n",
              "\n",
              "         frp   id  terrai_cod         terrai_nom etnia_nome       fase_ti  \n",
              "115678   6.9  253       44801  Tenharim Marmelos   Tenharim  Regularizada  \n",
              "115679   3.8  253       44801  Tenharim Marmelos   Tenharim  Regularizada  \n",
              "115680   5.0  253       44801  Tenharim Marmelos   Tenharim  Regularizada  \n",
              "115681   5.0  253       44801  Tenharim Marmelos   Tenharim  Regularizada  \n",
              "115682   3.2  253       44801  Tenharim Marmelos   Tenharim  Regularizada  \n",
              "...      ...  ...         ...                ...        ...           ...  \n",
              "125761  20.5  281       22902             Kayabi     Kaiabi  Regularizada  \n",
              "125762   7.4  127        3002          Apyterewa   Parakanã  Regularizada  \n",
              "125763   6.6  127        3002          Apyterewa   Parakanã  Regularizada  \n",
              "125764  20.8  127        3002          Apyterewa   Parakanã  Regularizada  \n",
              "125765  22.5  127        3002          Apyterewa   Parakanã  Regularizada  \n",
              "\n",
              "[10088 rows x 17 columns]"
            ],
            "text/html": [
              "\n",
              "  <div id=\"df-6b715adb-d7f1-40fa-b198-9e459e1a3be6\">\n",
              "    <div class=\"colab-df-container\">\n",
              "      <div>\n",
              "<style scoped>\n",
              "    .dataframe tbody tr th:only-of-type {\n",
              "        vertical-align: middle;\n",
              "    }\n",
              "\n",
              "    .dataframe tbody tr th {\n",
              "        vertical-align: top;\n",
              "    }\n",
              "\n",
              "    .dataframe thead th {\n",
              "        text-align: right;\n",
              "    }\n",
              "</style>\n",
              "<table border=\"1\" class=\"dataframe\">\n",
              "  <thead>\n",
              "    <tr style=\"text-align: right;\">\n",
              "      <th></th>\n",
              "      <th>datahora</th>\n",
              "      <th>satelite</th>\n",
              "      <th>pais</th>\n",
              "      <th>estado</th>\n",
              "      <th>municipio</th>\n",
              "      <th>bioma</th>\n",
              "      <th>diasemchuv</th>\n",
              "      <th>precipitac</th>\n",
              "      <th>riscofogo</th>\n",
              "      <th>latitude</th>\n",
              "      <th>longitude</th>\n",
              "      <th>frp</th>\n",
              "      <th>id</th>\n",
              "      <th>terrai_cod</th>\n",
              "      <th>terrai_nom</th>\n",
              "      <th>etnia_nome</th>\n",
              "      <th>fase_ti</th>\n",
              "    </tr>\n",
              "  </thead>\n",
              "  <tbody>\n",
              "    <tr>\n",
              "      <th>115678</th>\n",
              "      <td>2022/06/18 17:39:00</td>\n",
              "      <td>NPP-375</td>\n",
              "      <td>Brasil</td>\n",
              "      <td>AMAZONAS</td>\n",
              "      <td>MANICORE</td>\n",
              "      <td>Amazonia</td>\n",
              "      <td>4.0</td>\n",
              "      <td>0.0</td>\n",
              "      <td>0.61</td>\n",
              "      <td>-8.45942</td>\n",
              "      <td>-61.80344</td>\n",
              "      <td>6.9</td>\n",
              "      <td>253</td>\n",
              "      <td>44801</td>\n",
              "      <td>Tenharim Marmelos</td>\n",
              "      <td>Tenharim</td>\n",
              "      <td>Regularizada</td>\n",
              "    </tr>\n",
              "    <tr>\n",
              "      <th>115679</th>\n",
              "      <td>2022/06/18 17:39:00</td>\n",
              "      <td>NPP-375</td>\n",
              "      <td>Brasil</td>\n",
              "      <td>AMAZONAS</td>\n",
              "      <td>MANICORE</td>\n",
              "      <td>Amazonia</td>\n",
              "      <td>4.0</td>\n",
              "      <td>0.0</td>\n",
              "      <td>0.61</td>\n",
              "      <td>-8.45996</td>\n",
              "      <td>-61.80698</td>\n",
              "      <td>3.8</td>\n",
              "      <td>253</td>\n",
              "      <td>44801</td>\n",
              "      <td>Tenharim Marmelos</td>\n",
              "      <td>Tenharim</td>\n",
              "      <td>Regularizada</td>\n",
              "    </tr>\n",
              "    <tr>\n",
              "      <th>115680</th>\n",
              "      <td>2022/06/18 17:39:00</td>\n",
              "      <td>NPP-375</td>\n",
              "      <td>Brasil</td>\n",
              "      <td>AMAZONAS</td>\n",
              "      <td>MANICORE</td>\n",
              "      <td>Amazonia</td>\n",
              "      <td>3.0</td>\n",
              "      <td>0.0</td>\n",
              "      <td>0.61</td>\n",
              "      <td>-8.46214</td>\n",
              "      <td>-61.82111</td>\n",
              "      <td>5.0</td>\n",
              "      <td>253</td>\n",
              "      <td>44801</td>\n",
              "      <td>Tenharim Marmelos</td>\n",
              "      <td>Tenharim</td>\n",
              "      <td>Regularizada</td>\n",
              "    </tr>\n",
              "    <tr>\n",
              "      <th>115681</th>\n",
              "      <td>2022/06/18 17:39:00</td>\n",
              "      <td>NPP-375</td>\n",
              "      <td>Brasil</td>\n",
              "      <td>AMAZONAS</td>\n",
              "      <td>MANICORE</td>\n",
              "      <td>Amazonia</td>\n",
              "      <td>3.0</td>\n",
              "      <td>0.0</td>\n",
              "      <td>0.61</td>\n",
              "      <td>-8.46269</td>\n",
              "      <td>-61.82465</td>\n",
              "      <td>5.0</td>\n",
              "      <td>253</td>\n",
              "      <td>44801</td>\n",
              "      <td>Tenharim Marmelos</td>\n",
              "      <td>Tenharim</td>\n",
              "      <td>Regularizada</td>\n",
              "    </tr>\n",
              "    <tr>\n",
              "      <th>115682</th>\n",
              "      <td>2022/06/18 17:39:00</td>\n",
              "      <td>NPP-375</td>\n",
              "      <td>Brasil</td>\n",
              "      <td>AMAZONAS</td>\n",
              "      <td>MANICORE</td>\n",
              "      <td>Amazonia</td>\n",
              "      <td>3.0</td>\n",
              "      <td>0.0</td>\n",
              "      <td>0.60</td>\n",
              "      <td>-8.46323</td>\n",
              "      <td>-61.82818</td>\n",
              "      <td>3.2</td>\n",
              "      <td>253</td>\n",
              "      <td>44801</td>\n",
              "      <td>Tenharim Marmelos</td>\n",
              "      <td>Tenharim</td>\n",
              "      <td>Regularizada</td>\n",
              "    </tr>\n",
              "    <tr>\n",
              "      <th>...</th>\n",
              "      <td>...</td>\n",
              "      <td>...</td>\n",
              "      <td>...</td>\n",
              "      <td>...</td>\n",
              "      <td>...</td>\n",
              "      <td>...</td>\n",
              "      <td>...</td>\n",
              "      <td>...</td>\n",
              "      <td>...</td>\n",
              "      <td>...</td>\n",
              "      <td>...</td>\n",
              "      <td>...</td>\n",
              "      <td>...</td>\n",
              "      <td>...</td>\n",
              "      <td>...</td>\n",
              "      <td>...</td>\n",
              "      <td>...</td>\n",
              "    </tr>\n",
              "    <tr>\n",
              "      <th>125761</th>\n",
              "      <td>2022/08/11 16:37:00</td>\n",
              "      <td>NOAA-20</td>\n",
              "      <td>Brasil</td>\n",
              "      <td>PARA</td>\n",
              "      <td>JACAREACANGA</td>\n",
              "      <td>Amazonia</td>\n",
              "      <td>0.0</td>\n",
              "      <td>0.0</td>\n",
              "      <td>0.19</td>\n",
              "      <td>-8.40582</td>\n",
              "      <td>-57.67667</td>\n",
              "      <td>20.5</td>\n",
              "      <td>281</td>\n",
              "      <td>22902</td>\n",
              "      <td>Kayabi</td>\n",
              "      <td>Kaiabi</td>\n",
              "      <td>Regularizada</td>\n",
              "    </tr>\n",
              "    <tr>\n",
              "      <th>125762</th>\n",
              "      <td>2022/08/11 16:37:00</td>\n",
              "      <td>NOAA-20</td>\n",
              "      <td>Brasil</td>\n",
              "      <td>PARA</td>\n",
              "      <td>SAO FELIX DO XINGU</td>\n",
              "      <td>Amazonia</td>\n",
              "      <td>18.0</td>\n",
              "      <td>0.0</td>\n",
              "      <td>0.95</td>\n",
              "      <td>-5.61702</td>\n",
              "      <td>-52.22726</td>\n",
              "      <td>7.4</td>\n",
              "      <td>127</td>\n",
              "      <td>3002</td>\n",
              "      <td>Apyterewa</td>\n",
              "      <td>Parakanã</td>\n",
              "      <td>Regularizada</td>\n",
              "    </tr>\n",
              "    <tr>\n",
              "      <th>125763</th>\n",
              "      <td>2022/08/11 16:37:00</td>\n",
              "      <td>NOAA-20</td>\n",
              "      <td>Brasil</td>\n",
              "      <td>PARA</td>\n",
              "      <td>SAO FELIX DO XINGU</td>\n",
              "      <td>Amazonia</td>\n",
              "      <td>1.0</td>\n",
              "      <td>0.2</td>\n",
              "      <td>0.50</td>\n",
              "      <td>-5.83171</td>\n",
              "      <td>-52.07731</td>\n",
              "      <td>6.6</td>\n",
              "      <td>127</td>\n",
              "      <td>3002</td>\n",
              "      <td>Apyterewa</td>\n",
              "      <td>Parakanã</td>\n",
              "      <td>Regularizada</td>\n",
              "    </tr>\n",
              "    <tr>\n",
              "      <th>125764</th>\n",
              "      <td>2022/08/11 16:37:00</td>\n",
              "      <td>NOAA-20</td>\n",
              "      <td>Brasil</td>\n",
              "      <td>PARA</td>\n",
              "      <td>SAO FELIX DO XINGU</td>\n",
              "      <td>Amazonia</td>\n",
              "      <td>1.0</td>\n",
              "      <td>0.0</td>\n",
              "      <td>0.65</td>\n",
              "      <td>-5.84096</td>\n",
              "      <td>-52.33949</td>\n",
              "      <td>20.8</td>\n",
              "      <td>127</td>\n",
              "      <td>3002</td>\n",
              "      <td>Apyterewa</td>\n",
              "      <td>Parakanã</td>\n",
              "      <td>Regularizada</td>\n",
              "    </tr>\n",
              "    <tr>\n",
              "      <th>125765</th>\n",
              "      <td>2022/08/11 16:37:00</td>\n",
              "      <td>NOAA-20</td>\n",
              "      <td>Brasil</td>\n",
              "      <td>PARA</td>\n",
              "      <td>SAO FELIX DO XINGU</td>\n",
              "      <td>Amazonia</td>\n",
              "      <td>1.0</td>\n",
              "      <td>0.0</td>\n",
              "      <td>0.64</td>\n",
              "      <td>-5.84497</td>\n",
              "      <td>-52.33891</td>\n",
              "      <td>22.5</td>\n",
              "      <td>127</td>\n",
              "      <td>3002</td>\n",
              "      <td>Apyterewa</td>\n",
              "      <td>Parakanã</td>\n",
              "      <td>Regularizada</td>\n",
              "    </tr>\n",
              "  </tbody>\n",
              "</table>\n",
              "<p>10088 rows × 17 columns</p>\n",
              "</div>\n",
              "      <button class=\"colab-df-convert\" onclick=\"convertToInteractive('df-6b715adb-d7f1-40fa-b198-9e459e1a3be6')\"\n",
              "              title=\"Convert this dataframe to an interactive table.\"\n",
              "              style=\"display:none;\">\n",
              "        \n",
              "  <svg xmlns=\"http://www.w3.org/2000/svg\" height=\"24px\"viewBox=\"0 0 24 24\"\n",
              "       width=\"24px\">\n",
              "    <path d=\"M0 0h24v24H0V0z\" fill=\"none\"/>\n",
              "    <path d=\"M18.56 5.44l.94 2.06.94-2.06 2.06-.94-2.06-.94-.94-2.06-.94 2.06-2.06.94zm-11 1L8.5 8.5l.94-2.06 2.06-.94-2.06-.94L8.5 2.5l-.94 2.06-2.06.94zm10 10l.94 2.06.94-2.06 2.06-.94-2.06-.94-.94-2.06-.94 2.06-2.06.94z\"/><path d=\"M17.41 7.96l-1.37-1.37c-.4-.4-.92-.59-1.43-.59-.52 0-1.04.2-1.43.59L10.3 9.45l-7.72 7.72c-.78.78-.78 2.05 0 2.83L4 21.41c.39.39.9.59 1.41.59.51 0 1.02-.2 1.41-.59l7.78-7.78 2.81-2.81c.8-.78.8-2.07 0-2.86zM5.41 20L4 18.59l7.72-7.72 1.47 1.35L5.41 20z\"/>\n",
              "  </svg>\n",
              "      </button>\n",
              "      \n",
              "  <style>\n",
              "    .colab-df-container {\n",
              "      display:flex;\n",
              "      flex-wrap:wrap;\n",
              "      gap: 12px;\n",
              "    }\n",
              "\n",
              "    .colab-df-convert {\n",
              "      background-color: #E8F0FE;\n",
              "      border: none;\n",
              "      border-radius: 50%;\n",
              "      cursor: pointer;\n",
              "      display: none;\n",
              "      fill: #1967D2;\n",
              "      height: 32px;\n",
              "      padding: 0 0 0 0;\n",
              "      width: 32px;\n",
              "    }\n",
              "\n",
              "    .colab-df-convert:hover {\n",
              "      background-color: #E2EBFA;\n",
              "      box-shadow: 0px 1px 2px rgba(60, 64, 67, 0.3), 0px 1px 3px 1px rgba(60, 64, 67, 0.15);\n",
              "      fill: #174EA6;\n",
              "    }\n",
              "\n",
              "    [theme=dark] .colab-df-convert {\n",
              "      background-color: #3B4455;\n",
              "      fill: #D2E3FC;\n",
              "    }\n",
              "\n",
              "    [theme=dark] .colab-df-convert:hover {\n",
              "      background-color: #434B5C;\n",
              "      box-shadow: 0px 1px 3px 1px rgba(0, 0, 0, 0.15);\n",
              "      filter: drop-shadow(0px 1px 2px rgba(0, 0, 0, 0.3));\n",
              "      fill: #FFFFFF;\n",
              "    }\n",
              "  </style>\n",
              "\n",
              "      <script>\n",
              "        const buttonEl =\n",
              "          document.querySelector('#df-6b715adb-d7f1-40fa-b198-9e459e1a3be6 button.colab-df-convert');\n",
              "        buttonEl.style.display =\n",
              "          google.colab.kernel.accessAllowed ? 'block' : 'none';\n",
              "\n",
              "        async function convertToInteractive(key) {\n",
              "          const element = document.querySelector('#df-6b715adb-d7f1-40fa-b198-9e459e1a3be6');\n",
              "          const dataTable =\n",
              "            await google.colab.kernel.invokeFunction('convertToInteractive',\n",
              "                                                     [key], {});\n",
              "          if (!dataTable) return;\n",
              "\n",
              "          const docLinkHtml = 'Like what you see? Visit the ' +\n",
              "            '<a target=\"_blank\" href=https://colab.research.google.com/notebooks/data_table.ipynb>data table notebook</a>'\n",
              "            + ' to learn more about interactive tables.';\n",
              "          element.innerHTML = '';\n",
              "          dataTable['output_type'] = 'display_data';\n",
              "          await google.colab.output.renderOutput(dataTable, element);\n",
              "          const docLink = document.createElement('div');\n",
              "          docLink.innerHTML = docLinkHtml;\n",
              "          element.appendChild(docLink);\n",
              "        }\n",
              "      </script>\n",
              "    </div>\n",
              "  </div>\n",
              "  "
            ]
          },
          "metadata": {},
          "execution_count": 247
        }
      ]
    },
    {
      "cell_type": "code",
      "source": [
        "df_ti22.datahora = pd.to_datetime(df_ti22.datahora)"
      ],
      "metadata": {
        "id": "YQb553OVH5LJ"
      },
      "execution_count": 287,
      "outputs": []
    },
    {
      "cell_type": "code",
      "source": [
        "data_inicial = dt.datetime.strptime('2022/08/12', \"%Y/%m/%d\").date()\n",
        "data_final = dt.datetime.strptime('2022/08/13', \"%Y/%m/%d\").date()\n",
        "print(data_inicial)"
      ],
      "metadata": {
        "colab": {
          "base_uri": "https://localhost:8080/"
        },
        "id": "pd84wuFpoK07",
        "outputId": "d7b74eda-9057-47e1-93fc-cbee7ae74157"
      },
      "execution_count": 300,
      "outputs": [
        {
          "output_type": "stream",
          "name": "stdout",
          "text": [
            "2022-08-12\n"
          ]
        }
      ]
    },
    {
      "cell_type": "code",
      "source": [
        "df_ti22.datahora = pd.to_datetime(df_ti22.datahora)"
      ],
      "metadata": {
        "id": "ICVPmhhf6RGB"
      },
      "execution_count": 293,
      "outputs": []
    },
    {
      "cell_type": "code",
      "source": [
        "df_ti22['datahora'].dt.date == data_inicial, ['NPP-375']"
      ],
      "metadata": {
        "colab": {
          "base_uri": "https://localhost:8080/"
        },
        "id": "Lf8hsFbXnBJS",
        "outputId": "fe8cb559-87ed-4bef-a182-c0e692bd640a"
      },
      "execution_count": 294,
      "outputs": [
        {
          "output_type": "execute_result",
          "data": {
            "text/plain": [
              "(0         True\n",
              " 1         True\n",
              " 2         True\n",
              " 3         True\n",
              " 4         True\n",
              "           ... \n",
              " 125851    True\n",
              " 125852    True\n",
              " 125853    True\n",
              " 125854    True\n",
              " 125855    True\n",
              " Name: datahora, Length: 125856, dtype: bool, ['NPP-375'])"
            ]
          },
          "metadata": {},
          "execution_count": 294
        }
      ]
    },
    {
      "cell_type": "code",
      "source": [
        "df_ti22[ ((df_ti22['datahora'].dt.date  >= data_inicial) & (df_ti22['datahora'].dt.date  < data_final) )].datahora.dt.date.value_counts()"
      ],
      "metadata": {
        "colab": {
          "base_uri": "https://localhost:8080/"
        },
        "id": "WIVU-nDSn5Vs",
        "outputId": "52f3bc82-4eba-4608-fef6-ff48edcd987e"
      },
      "execution_count": 301,
      "outputs": [
        {
          "output_type": "execute_result",
          "data": {
            "text/plain": [
              "2022-08-12    255\n",
              "Name: datahora, dtype: int64"
            ]
          },
          "metadata": {},
          "execution_count": 301
        }
      ]
    },
    {
      "cell_type": "code",
      "source": [],
      "metadata": {
        "id": "K5AK55dXrP4C"
      },
      "execution_count": 252,
      "outputs": []
    },
    {
      "cell_type": "code",
      "source": [
        "data_inicial = dt.datetime.strptime('2022/01/01', \"%Y/%m/%d\").date()\n",
        "data_final = dt.datetime.strptime('2022/01/02', \"%Y/%m/%d\").date()\n",
        "print(data_inicial)"
      ],
      "metadata": {
        "colab": {
          "base_uri": "https://localhost:8080/"
        },
        "id": "0lyVapNKrQA5",
        "outputId": "dbd1904b-23b8-4e14-ef3b-d3c8ed68c278"
      },
      "execution_count": 314,
      "outputs": [
        {
          "output_type": "stream",
          "name": "stdout",
          "text": [
            "2022-01-01\n"
          ]
        }
      ]
    },
    {
      "cell_type": "code",
      "source": [
        "data_inicial"
      ],
      "metadata": {
        "colab": {
          "base_uri": "https://localhost:8080/"
        },
        "id": "E4MX-CULNzn5",
        "outputId": "aaed6ca4-69aa-45ad-8784-e5271eb3cc55"
      },
      "execution_count": 318,
      "outputs": [
        {
          "output_type": "execute_result",
          "data": {
            "text/plain": [
              "datetime.date(2022, 1, 1)"
            ]
          },
          "metadata": {},
          "execution_count": 318
        }
      ]
    },
    {
      "cell_type": "code",
      "source": [
        "df_ti22['datahora'].min()"
      ],
      "metadata": {
        "colab": {
          "base_uri": "https://localhost:8080/"
        },
        "id": "AD0Cz2rUrGAr",
        "outputId": "15638b68-3f2c-4747-efd8-140e3d22b831"
      },
      "execution_count": 254,
      "outputs": [
        {
          "output_type": "execute_result",
          "data": {
            "text/plain": [
              "Timestamp('2022-01-01 16:56:00')"
            ]
          },
          "metadata": {},
          "execution_count": 254
        }
      ]
    },
    {
      "cell_type": "code",
      "source": [
        "df_ti22[(df_ti22.datahora >= data_inicial) & (df_ti22.datahora < data_final) & (df_ti22.satelite == 'NPP-375')]"
      ],
      "metadata": {
        "colab": {
          "base_uri": "https://localhost:8080/",
          "height": 112
        },
        "id": "8Fk_JpTorxka",
        "outputId": "7511a828-5d3a-44c5-866b-9f9eda1614eb"
      },
      "execution_count": 255,
      "outputs": [
        {
          "output_type": "execute_result",
          "data": {
            "text/plain": [
              "                  datahora satelite    pais   estado  municipio     bioma  \\\n",
              "104205 2022-01-01 16:56:00  NPP-375  Brasil  RORAIMA  PACARAIMA  Amazonia   \n",
              "104206 2022-01-01 16:56:00  NPP-375  Brasil  RORAIMA  PACARAIMA  Amazonia   \n",
              "\n",
              "        diasemchuv  precipitac  riscofogo  latitude  longitude  frp    id  \\\n",
              "104205         4.0         0.0        0.6   4.12398  -60.52748  7.7  1536   \n",
              "104206         4.0         0.0        0.7   3.91820  -60.70644  7.6   188   \n",
              "\n",
              "        terrai_cod           terrai_nom                          etnia_nome  \\\n",
              "104205       37901  Raposa Serra do Sol  Taulipáng,Makuxí,Ingarikó,Wapixana   \n",
              "104206       58401      São Marcos - RR                     Makuxí,Wapixana   \n",
              "\n",
              "             fase_ti  \n",
              "104205  Regularizada  \n",
              "104206  Regularizada  "
            ],
            "text/html": [
              "\n",
              "  <div id=\"df-e965940d-263c-4291-9aa3-5c5b969d35f7\">\n",
              "    <div class=\"colab-df-container\">\n",
              "      <div>\n",
              "<style scoped>\n",
              "    .dataframe tbody tr th:only-of-type {\n",
              "        vertical-align: middle;\n",
              "    }\n",
              "\n",
              "    .dataframe tbody tr th {\n",
              "        vertical-align: top;\n",
              "    }\n",
              "\n",
              "    .dataframe thead th {\n",
              "        text-align: right;\n",
              "    }\n",
              "</style>\n",
              "<table border=\"1\" class=\"dataframe\">\n",
              "  <thead>\n",
              "    <tr style=\"text-align: right;\">\n",
              "      <th></th>\n",
              "      <th>datahora</th>\n",
              "      <th>satelite</th>\n",
              "      <th>pais</th>\n",
              "      <th>estado</th>\n",
              "      <th>municipio</th>\n",
              "      <th>bioma</th>\n",
              "      <th>diasemchuv</th>\n",
              "      <th>precipitac</th>\n",
              "      <th>riscofogo</th>\n",
              "      <th>latitude</th>\n",
              "      <th>longitude</th>\n",
              "      <th>frp</th>\n",
              "      <th>id</th>\n",
              "      <th>terrai_cod</th>\n",
              "      <th>terrai_nom</th>\n",
              "      <th>etnia_nome</th>\n",
              "      <th>fase_ti</th>\n",
              "    </tr>\n",
              "  </thead>\n",
              "  <tbody>\n",
              "    <tr>\n",
              "      <th>104205</th>\n",
              "      <td>2022-01-01 16:56:00</td>\n",
              "      <td>NPP-375</td>\n",
              "      <td>Brasil</td>\n",
              "      <td>RORAIMA</td>\n",
              "      <td>PACARAIMA</td>\n",
              "      <td>Amazonia</td>\n",
              "      <td>4.0</td>\n",
              "      <td>0.0</td>\n",
              "      <td>0.6</td>\n",
              "      <td>4.12398</td>\n",
              "      <td>-60.52748</td>\n",
              "      <td>7.7</td>\n",
              "      <td>1536</td>\n",
              "      <td>37901</td>\n",
              "      <td>Raposa Serra do Sol</td>\n",
              "      <td>Taulipáng,Makuxí,Ingarikó,Wapixana</td>\n",
              "      <td>Regularizada</td>\n",
              "    </tr>\n",
              "    <tr>\n",
              "      <th>104206</th>\n",
              "      <td>2022-01-01 16:56:00</td>\n",
              "      <td>NPP-375</td>\n",
              "      <td>Brasil</td>\n",
              "      <td>RORAIMA</td>\n",
              "      <td>PACARAIMA</td>\n",
              "      <td>Amazonia</td>\n",
              "      <td>4.0</td>\n",
              "      <td>0.0</td>\n",
              "      <td>0.7</td>\n",
              "      <td>3.91820</td>\n",
              "      <td>-60.70644</td>\n",
              "      <td>7.6</td>\n",
              "      <td>188</td>\n",
              "      <td>58401</td>\n",
              "      <td>São Marcos - RR</td>\n",
              "      <td>Makuxí,Wapixana</td>\n",
              "      <td>Regularizada</td>\n",
              "    </tr>\n",
              "  </tbody>\n",
              "</table>\n",
              "</div>\n",
              "      <button class=\"colab-df-convert\" onclick=\"convertToInteractive('df-e965940d-263c-4291-9aa3-5c5b969d35f7')\"\n",
              "              title=\"Convert this dataframe to an interactive table.\"\n",
              "              style=\"display:none;\">\n",
              "        \n",
              "  <svg xmlns=\"http://www.w3.org/2000/svg\" height=\"24px\"viewBox=\"0 0 24 24\"\n",
              "       width=\"24px\">\n",
              "    <path d=\"M0 0h24v24H0V0z\" fill=\"none\"/>\n",
              "    <path d=\"M18.56 5.44l.94 2.06.94-2.06 2.06-.94-2.06-.94-.94-2.06-.94 2.06-2.06.94zm-11 1L8.5 8.5l.94-2.06 2.06-.94-2.06-.94L8.5 2.5l-.94 2.06-2.06.94zm10 10l.94 2.06.94-2.06 2.06-.94-2.06-.94-.94-2.06-.94 2.06-2.06.94z\"/><path d=\"M17.41 7.96l-1.37-1.37c-.4-.4-.92-.59-1.43-.59-.52 0-1.04.2-1.43.59L10.3 9.45l-7.72 7.72c-.78.78-.78 2.05 0 2.83L4 21.41c.39.39.9.59 1.41.59.51 0 1.02-.2 1.41-.59l7.78-7.78 2.81-2.81c.8-.78.8-2.07 0-2.86zM5.41 20L4 18.59l7.72-7.72 1.47 1.35L5.41 20z\"/>\n",
              "  </svg>\n",
              "      </button>\n",
              "      \n",
              "  <style>\n",
              "    .colab-df-container {\n",
              "      display:flex;\n",
              "      flex-wrap:wrap;\n",
              "      gap: 12px;\n",
              "    }\n",
              "\n",
              "    .colab-df-convert {\n",
              "      background-color: #E8F0FE;\n",
              "      border: none;\n",
              "      border-radius: 50%;\n",
              "      cursor: pointer;\n",
              "      display: none;\n",
              "      fill: #1967D2;\n",
              "      height: 32px;\n",
              "      padding: 0 0 0 0;\n",
              "      width: 32px;\n",
              "    }\n",
              "\n",
              "    .colab-df-convert:hover {\n",
              "      background-color: #E2EBFA;\n",
              "      box-shadow: 0px 1px 2px rgba(60, 64, 67, 0.3), 0px 1px 3px 1px rgba(60, 64, 67, 0.15);\n",
              "      fill: #174EA6;\n",
              "    }\n",
              "\n",
              "    [theme=dark] .colab-df-convert {\n",
              "      background-color: #3B4455;\n",
              "      fill: #D2E3FC;\n",
              "    }\n",
              "\n",
              "    [theme=dark] .colab-df-convert:hover {\n",
              "      background-color: #434B5C;\n",
              "      box-shadow: 0px 1px 3px 1px rgba(0, 0, 0, 0.15);\n",
              "      filter: drop-shadow(0px 1px 2px rgba(0, 0, 0, 0.3));\n",
              "      fill: #FFFFFF;\n",
              "    }\n",
              "  </style>\n",
              "\n",
              "      <script>\n",
              "        const buttonEl =\n",
              "          document.querySelector('#df-e965940d-263c-4291-9aa3-5c5b969d35f7 button.colab-df-convert');\n",
              "        buttonEl.style.display =\n",
              "          google.colab.kernel.accessAllowed ? 'block' : 'none';\n",
              "\n",
              "        async function convertToInteractive(key) {\n",
              "          const element = document.querySelector('#df-e965940d-263c-4291-9aa3-5c5b969d35f7');\n",
              "          const dataTable =\n",
              "            await google.colab.kernel.invokeFunction('convertToInteractive',\n",
              "                                                     [key], {});\n",
              "          if (!dataTable) return;\n",
              "\n",
              "          const docLinkHtml = 'Like what you see? Visit the ' +\n",
              "            '<a target=\"_blank\" href=https://colab.research.google.com/notebooks/data_table.ipynb>data table notebook</a>'\n",
              "            + ' to learn more about interactive tables.';\n",
              "          element.innerHTML = '';\n",
              "          dataTable['output_type'] = 'display_data';\n",
              "          await google.colab.output.renderOutput(dataTable, element);\n",
              "          const docLink = document.createElement('div');\n",
              "          docLink.innerHTML = docLinkHtml;\n",
              "          element.appendChild(docLink);\n",
              "        }\n",
              "      </script>\n",
              "    </div>\n",
              "  </div>\n",
              "  "
            ]
          },
          "metadata": {},
          "execution_count": 255
        }
      ]
    },
    {
      "cell_type": "code",
      "source": [
        "filtrado = df_ti22[(df_ti22.datahora >= data_inicial) & (df_ti22.datahora < data_final)]"
      ],
      "metadata": {
        "id": "5ek96FEqrGKR"
      },
      "execution_count": 256,
      "outputs": []
    },
    {
      "cell_type": "code",
      "source": [
        "filtrado.datahora.min(), filtrado.datahora.max()"
      ],
      "metadata": {
        "colab": {
          "base_uri": "https://localhost:8080/"
        },
        "id": "N9T8kGmIrGQ9",
        "outputId": "01977046-05cd-490d-b579-389805b2620a"
      },
      "execution_count": 257,
      "outputs": [
        {
          "output_type": "execute_result",
          "data": {
            "text/plain": [
              "(Timestamp('2022-01-01 16:56:00'), Timestamp('2022-01-01 18:35:53'))"
            ]
          },
          "metadata": {},
          "execution_count": 257
        }
      ]
    },
    {
      "cell_type": "code",
      "source": [
        "df_ti22.loc[df_ti22['datahora'] == '2022/08/11', ['estado']].value_counts()"
      ],
      "metadata": {
        "colab": {
          "base_uri": "https://localhost:8080/"
        },
        "id": "t5ecO0s-m3-w",
        "outputId": "5fbe08dd-442e-4436-e17b-5d8a3dc02d92"
      },
      "execution_count": 258,
      "outputs": [
        {
          "output_type": "execute_result",
          "data": {
            "text/plain": [
              "Series([], dtype: int64)"
            ]
          },
          "metadata": {},
          "execution_count": 258
        }
      ]
    },
    {
      "cell_type": "code",
      "source": [
        "df_ti22.datahora.max()"
      ],
      "metadata": {
        "colab": {
          "base_uri": "https://localhost:8080/"
        },
        "id": "R_iMI4f3okWr",
        "outputId": "22978ede-1f8e-43f2-df0a-56906173d12e"
      },
      "execution_count": 259,
      "outputs": [
        {
          "output_type": "execute_result",
          "data": {
            "text/plain": [
              "Timestamp('2022-12-31 18:10:00')"
            ]
          },
          "metadata": {},
          "execution_count": 259
        }
      ]
    },
    {
      "cell_type": "code",
      "source": [
        "df_ti22.loc[df_ti22['datahora'] == '2022/06/18 17:39:00', ['estado']].value_counts()"
      ],
      "metadata": {
        "colab": {
          "base_uri": "https://localhost:8080/"
        },
        "id": "qCnohRSgttVk",
        "outputId": "4ddf3b06-5f55-4570-f909-fc5697600e01"
      },
      "execution_count": 316,
      "outputs": [
        {
          "output_type": "execute_result",
          "data": {
            "text/plain": [
              "estado     \n",
              "AMAZONAS       22\n",
              "MATO GROSSO     9\n",
              "RONDONIA        1\n",
              "dtype: int64"
            ]
          },
          "metadata": {},
          "execution_count": 316
        }
      ]
    },
    {
      "cell_type": "code",
      "source": [
        "df_ti22.loc[df_ti22['datahora'] == data_inicial, ['estado']].value_counts()"
      ],
      "metadata": {
        "colab": {
          "base_uri": "https://localhost:8080/"
        },
        "id": "detJw93AMyXS",
        "outputId": "72b49eaa-b747-4eb6-96d8-73ffffe83991"
      },
      "execution_count": 317,
      "outputs": [
        {
          "output_type": "execute_result",
          "data": {
            "text/plain": [
              "Series([], dtype: int64)"
            ]
          },
          "metadata": {},
          "execution_count": 317
        }
      ]
    },
    {
      "cell_type": "code",
      "source": [
        "df_ti22.datahora"
      ],
      "metadata": {
        "colab": {
          "base_uri": "https://localhost:8080/"
        },
        "id": "8obJS_DxLCJK",
        "outputId": "f86993a4-caef-4e82-cbe2-bb683ae5131a"
      },
      "execution_count": 311,
      "outputs": [
        {
          "output_type": "execute_result",
          "data": {
            "text/plain": [
              "0        2022-08-12 01:58:00\n",
              "1        2022-08-12 01:58:00\n",
              "2        2022-08-12 01:58:00\n",
              "3        2022-08-12 03:40:00\n",
              "4        2022-08-12 03:40:00\n",
              "                 ...        \n",
              "125851   2022-08-12 02:01:29\n",
              "125852   2022-08-12 02:01:29\n",
              "125853   2022-08-12 02:01:29\n",
              "125854   2022-08-12 02:01:59\n",
              "125855   2022-08-12 02:01:35\n",
              "Name: datahora, Length: 125856, dtype: datetime64[ns]"
            ]
          },
          "metadata": {},
          "execution_count": 311
        }
      ]
    },
    {
      "cell_type": "code",
      "source": [
        "df_ti22.loc[df_ti22['datahora'] == '2022/06/18 17:39:00', ['estado']].value_counts().plot.bar(color = 'orange')\n",
        "plt.title('Queimadas por Estado no Bioma Amazônico nas Terras Indígenas')\n",
        "plt.xlabel('Estados')\n",
        "plt.ylabel('Quantidade de focos')"
      ],
      "metadata": {
        "colab": {
          "base_uri": "https://localhost:8080/",
          "height": 605
        },
        "id": "6rt2gXvMwjS_",
        "outputId": "dd40db0b-0ff9-464d-c506-77d3fee8e3c5"
      },
      "execution_count": 315,
      "outputs": [
        {
          "output_type": "execute_result",
          "data": {
            "text/plain": [
              "Text(0, 0.5, 'Quantidade de focos')"
            ]
          },
          "metadata": {},
          "execution_count": 315
        },
        {
          "output_type": "display_data",
          "data": {
            "text/plain": [
              "<Figure size 1080x576 with 1 Axes>"
            ],
            "image/png": "[encoded data removed]"
          },
          "metadata": {
            "needs_background": "light"
          }
        }
      ]
    },
    {
      "cell_type": "code",
      "source": [
        "data_atual = dt.date.today()\n",
        "data_atual"
      ],
      "metadata": {
        "colab": {
          "base_uri": "https://localhost:8080/"
        },
        "id": "BqBNIYNZDL32",
        "outputId": "d1957c3e-614e-4515-fd47-0f458dce5ca0"
      },
      "execution_count": 268,
      "outputs": [
        {
          "output_type": "execute_result",
          "data": {
            "text/plain": [
              "datetime.date(2023, 1, 18)"
            ]
          },
          "metadata": {},
          "execution_count": 268
        }
      ]
    },
    {
      "cell_type": "code",
      "source": [
        "data_atual.timetuple()"
      ],
      "metadata": {
        "colab": {
          "base_uri": "https://localhost:8080/"
        },
        "id": "IGCVJPZyGB-I",
        "outputId": "e1bb6e8c-bc9b-4320-b7e5-47d635761919"
      },
      "execution_count": 269,
      "outputs": [
        {
          "output_type": "execute_result",
          "data": {
            "text/plain": [
              "time.struct_time(tm_year=2023, tm_mon=1, tm_mday=18, tm_hour=0, tm_min=0, tm_sec=0, tm_wday=2, tm_yday=18, tm_isdst=-1)"
            ]
          },
          "metadata": {},
          "execution_count": 269
        }
      ]
    },
    {
      "cell_type": "code",
      "source": [
        "df_focos22.loc[df_focos22['datahora'] == '2022/06/18 17:39:00', ['estado']].value_counts().plot.pie()\n",
        "plt.title('Queimadas por Estado no Bioma Amazônico nas Terras Indiígenas')\n",
        "plt.xlabel('Estados')\n",
        "plt.ylabel('Quantidade de focos')\n"
      ],
      "metadata": {
        "colab": {
          "base_uri": "https://localhost:8080/",
          "height": 513
        },
        "id": "dh9tlnke3j-Q",
        "outputId": "a72e8ec2-b4af-41c0-b05d-e3cce4d16639"
      },
      "execution_count": 270,
      "outputs": [
        {
          "output_type": "execute_result",
          "data": {
            "text/plain": [
              "Text(0, 0.5, 'Quantidade de focos')"
            ]
          },
          "metadata": {},
          "execution_count": 270
        },
        {
          "output_type": "display_data",
          "data": {
            "text/plain": [
              "<Figure size 1080x576 with 1 Axes>"
            ],
            "image/png": "[encoded data removed]"
          },
          "metadata": {}
        }
      ]
    }
  ]
}