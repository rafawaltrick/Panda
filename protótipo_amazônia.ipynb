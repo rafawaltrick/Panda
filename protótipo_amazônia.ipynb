{
  "nbformat": 4,
  "nbformat_minor": 0,
  "metadata": {
    "colab": {
      "provenance": [],
      "mount_file_id": "1PY5O1lfSurSd6gN8TvxpocizD1T9MMFC",
      "authorship_tag": "ABX9TyNCK2hXhCWSWEi52OKso6UC",
      "include_colab_link": true
    },
    "kernelspec": {
      "name": "python3",
      "display_name": "Python 3"
    },
    "language_info": {
      "name": "python"
    }
  },
  "cells": [
    {
      "cell_type": "markdown",
      "metadata": {
        "id": "view-in-github",
        "colab_type": "text"
      },
      "source": [
        "<a href=\"https://colab.research.google.com/github/rafawaltrick/Pandas/blob/main/prot%C3%B3tipo_amaz%C3%B4nia.ipynb\" target=\"_parent\"><img src=\"https://colab.research.google.com/assets/colab-badge.svg\" alt=\"Open In Colab\"/></a>"
      ]
    },
    {
      "cell_type": "code",
      "execution_count": 2,
      "metadata": {
        "id": "T2egCFLHe3Sd"
      },
      "outputs": [],
      "source": [
        "import pandas as pd\n",
        "import datetime as dt\n",
        "%matplotlib inline\n",
        "import matplotlib.pyplot as plt\n",
        "plt.rc('figure', figsize = (15, 8))"
      ]
    },
    {
      "cell_type": "code",
      "source": [
        "focos22 = '/content/drive/MyDrive/Colab Notebooks/dados prot_amazonas/dados/focos 2022/focos-22.csv'\n",
        "focosUC22 = '/content/drive/MyDrive/Colab Notebooks/dados prot_amazonas/dados/focos 2022/focos-UC-2022.csv'\n",
        "focosTI22 = '/content/drive/MyDrive/Colab Notebooks/dados prot_amazonas/dados/focos 2022/focos-TI-2022.csv'"
      ],
      "metadata": {
        "id": "2FXiRDiEfkAN"
      },
      "execution_count": null,
      "outputs": []
    },
    {
      "cell_type": "code",
      "source": [
        "focos21 = '/content/drive/MyDrive/Colab Notebooks/dados prot_amazonas/dados/focos 2021/focos-21.csv'\n",
        "focosUC21 = '/content/drive/MyDrive/Colab Notebooks/dados prot_amazonas/dados/focos 2021/focos-UC-21.csv'\n",
        "focosTI21 = '/content/drive/MyDrive/Colab Notebooks/dados prot_amazonas/dados/focos 2021/focos-TI-21.csv'"
      ],
      "metadata": {
        "id": "jYgf-p-56oRz"
      },
      "execution_count": null,
      "outputs": []
    },
    {
      "cell_type": "code",
      "source": [
        "focos20 = '/content/drive/MyDrive/Colab Notebooks/dados prot_amazonas/dados/focos 2020/focos_20.csv'\n",
        "focosUC20 = '/content/drive/MyDrive/Colab Notebooks/dados prot_amazonas/dados/focos 2020/focos_UC_20.csv'\n",
        "focosTI20 = '/content/drive/MyDrive/Colab Notebooks/dados prot_amazonas/dados/focos 2020/focos_TI_20.csv'"
      ],
      "metadata": {
        "id": "4EyjLDjw6pPm"
      },
      "execution_count": null,
      "outputs": []
    },
    {
      "cell_type": "code",
      "source": [
        "df_ti22 = pd.read_csv(focosTI22)\n",
        "df_focos22 = pd.read_csv(focos22)\n",
        "df_uc22 = pd.read_csv(focosUC22)"
      ],
      "metadata": {
        "id": "ULyZrp_vgQ6B"
      },
      "execution_count": null,
      "outputs": []
    },
    {
      "cell_type": "code",
      "source": [
        "df_ti21 = pd.read_csv(focosTI21)\n",
        "df_focos21 = pd.read_csv(focos21)\n",
        "df_uc21 = pd.read_csv(focosUC21)"
      ],
      "metadata": {
        "id": "m7AC9VTx7YQL"
      },
      "execution_count": null,
      "outputs": []
    },
    {
      "cell_type": "code",
      "source": [
        "df_ti20 = pd.read_csv(focosTI20)\n",
        "df_focos20 = pd.read_csv(focos20)\n",
        "df_uc20 = pd.read_csv(focosUC20)"
      ],
      "metadata": {
        "id": "qIgxViUP7ZHL"
      },
      "execution_count": null,
      "outputs": []
    },
    {
      "cell_type": "code",
      "source": [
        "#df_ti22.datahora = pd.to_datetime(df_ti22.datahora)"
      ],
      "metadata": {
        "id": "1VH5SoTBD4qH"
      },
      "execution_count": null,
      "outputs": []
    },
    {
      "cell_type": "code",
      "source": [
        "df_ti22.info()"
      ],
      "metadata": {
        "colab": {
          "base_uri": "https://localhost:8080/"
        },
        "id": "K1goAuEDDxuF",
        "outputId": "aac516f4-b10c-4ea1-bce9-a1aed7d7ef5e"
      },
      "execution_count": null,
      "outputs": [
        {
          "output_type": "stream",
          "name": "stdout",
          "text": [
            "<class 'pandas.core.frame.DataFrame'>\n",
            "RangeIndex: 125856 entries, 0 to 125855\n",
            "Data columns (total 17 columns):\n",
            " #   Column      Non-Null Count   Dtype  \n",
            "---  ------      --------------   -----  \n",
            " 0   datahora    125856 non-null  object \n",
            " 1   satelite    125856 non-null  object \n",
            " 2   pais        125856 non-null  object \n",
            " 3   estado      125856 non-null  object \n",
            " 4   municipio   125856 non-null  object \n",
            " 5   bioma       125856 non-null  object \n",
            " 6   diasemchuv  122491 non-null  float64\n",
            " 7   precipitac  122491 non-null  float64\n",
            " 8   riscofogo   122491 non-null  float64\n",
            " 9   latitude    125856 non-null  float64\n",
            " 10  longitude   125856 non-null  float64\n",
            " 11  frp         113400 non-null  float64\n",
            " 12  id          125856 non-null  int64  \n",
            " 13  terrai_cod  125856 non-null  int64  \n",
            " 14  terrai_nom  125856 non-null  object \n",
            " 15  etnia_nome  125856 non-null  object \n",
            " 16  fase_ti     125856 non-null  object \n",
            "dtypes: float64(6), int64(2), object(9)\n",
            "memory usage: 16.3+ MB\n"
          ]
        }
      ]
    },
    {
      "cell_type": "code",
      "source": [
        "md = df_ti22.loc[0, \"datahora\"]"
      ],
      "metadata": {
        "id": "zkZwx5nbks2X"
      },
      "execution_count": null,
      "outputs": []
    },
    {
      "cell_type": "code",
      "source": [
        "md"
      ],
      "metadata": {
        "colab": {
          "base_uri": "https://localhost:8080/",
          "height": 35
        },
        "id": "EMYbhyCcfqqY",
        "outputId": "ab843d21-bfd2-496d-c6f5-1cd3cdb50458"
      },
      "execution_count": null,
      "outputs": [
        {
          "output_type": "execute_result",
          "data": {
            "text/plain": [
              "'2022/08/12 01:58:00'"
            ],
            "application/vnd.google.colaboratory.intrinsic+json": {
              "type": "string"
            }
          },
          "metadata": {},
          "execution_count": 11
        }
      ]
    },
    {
      "cell_type": "code",
      "source": [
        "data_atual = dt.date.today()"
      ],
      "metadata": {
        "id": "WSnMHQQDfqlh"
      },
      "execution_count": null,
      "outputs": []
    },
    {
      "cell_type": "code",
      "source": [
        "data_atual"
      ],
      "metadata": {
        "colab": {
          "base_uri": "https://localhost:8080/"
        },
        "id": "zJQNbWRzfqgh",
        "outputId": "395eed45-a7de-4087-9824-a9dd7ed2529b"
      },
      "execution_count": null,
      "outputs": [
        {
          "output_type": "execute_result",
          "data": {
            "text/plain": [
              "datetime.date(2023, 1, 20)"
            ]
          },
          "metadata": {},
          "execution_count": 13
        }
      ]
    },
    {
      "cell_type": "code",
      "source": [
        "print(data_atual)"
      ],
      "metadata": {
        "colab": {
          "base_uri": "https://localhost:8080/"
        },
        "id": "z0cBv2IVfqbh",
        "outputId": "edb61c0e-6aa2-453f-92a3-f6f768aa5c18"
      },
      "execution_count": null,
      "outputs": [
        {
          "output_type": "stream",
          "name": "stdout",
          "text": [
            "2023-01-20\n"
          ]
        }
      ]
    },
    {
      "cell_type": "code",
      "source": [
        "data_atual.year"
      ],
      "metadata": {
        "colab": {
          "base_uri": "https://localhost:8080/"
        },
        "id": "MxZ2y69FfqVf",
        "outputId": "a6277ce6-281c-45e8-b4da-edc1332991f7"
      },
      "execution_count": null,
      "outputs": [
        {
          "output_type": "execute_result",
          "data": {
            "text/plain": [
              "2023"
            ]
          },
          "metadata": {},
          "execution_count": 15
        }
      ]
    },
    {
      "cell_type": "code",
      "source": [
        "data_atual.month"
      ],
      "metadata": {
        "colab": {
          "base_uri": "https://localhost:8080/"
        },
        "id": "tBNvfby5fqQJ",
        "outputId": "f4266f93-b3d7-4038-bfc4-ba351eb7696f"
      },
      "execution_count": null,
      "outputs": [
        {
          "output_type": "execute_result",
          "data": {
            "text/plain": [
              "1"
            ]
          },
          "metadata": {},
          "execution_count": 16
        }
      ]
    },
    {
      "cell_type": "code",
      "source": [
        "data_atual.day"
      ],
      "metadata": {
        "colab": {
          "base_uri": "https://localhost:8080/"
        },
        "id": "BQrmtXIAfqLB",
        "outputId": "1f79f1ef-f7dd-47b8-8828-a2e958a8b853"
      },
      "execution_count": null,
      "outputs": [
        {
          "output_type": "execute_result",
          "data": {
            "text/plain": [
              "20"
            ]
          },
          "metadata": {},
          "execution_count": 17
        }
      ]
    },
    {
      "cell_type": "code",
      "source": [
        "data_atual.timetuple()"
      ],
      "metadata": {
        "colab": {
          "base_uri": "https://localhost:8080/"
        },
        "id": "xMiEwBltfqEQ",
        "outputId": "0386c3a5-c604-4b56-d272-76084e3d446a"
      },
      "execution_count": null,
      "outputs": [
        {
          "output_type": "execute_result",
          "data": {
            "text/plain": [
              "time.struct_time(tm_year=2023, tm_mon=1, tm_mday=20, tm_hour=0, tm_min=0, tm_sec=0, tm_wday=4, tm_yday=20, tm_isdst=-1)"
            ]
          },
          "metadata": {},
          "execution_count": 18
        }
      ]
    },
    {
      "cell_type": "code",
      "source": [
        "jld_atual = data_atual.timetuple().tm_yday\n",
        "print(jld_atual)"
      ],
      "metadata": {
        "colab": {
          "base_uri": "https://localhost:8080/"
        },
        "id": "iPjNAeNRhUPS",
        "outputId": "691c7a68-f3ca-4bc0-a6d5-1b351e6952e1"
      },
      "execution_count": null,
      "outputs": [
        {
          "output_type": "stream",
          "name": "stdout",
          "text": [
            "20\n"
          ]
        }
      ]
    },
    {
      "cell_type": "code",
      "source": [
        "nova_data = dt.date(2022,10,4)\n",
        "print(nova_data)"
      ],
      "metadata": {
        "colab": {
          "base_uri": "https://localhost:8080/"
        },
        "id": "E0LMtvEwhUUg",
        "outputId": "1fe39cad-7a47-43b9-c194-3643033002bc"
      },
      "execution_count": null,
      "outputs": [
        {
          "output_type": "stream",
          "name": "stdout",
          "text": [
            "2022-10-04\n"
          ]
        }
      ]
    },
    {
      "cell_type": "code",
      "source": [
        "md"
      ],
      "metadata": {
        "colab": {
          "base_uri": "https://localhost:8080/",
          "height": 35
        },
        "id": "x3cRaholhUXj",
        "outputId": "aaa6f1a6-6594-4de8-ee82-63c85fe19acf"
      },
      "execution_count": null,
      "outputs": [
        {
          "output_type": "execute_result",
          "data": {
            "text/plain": [
              "'2022/08/12 01:58:00'"
            ],
            "application/vnd.google.colaboratory.intrinsic+json": {
              "type": "string"
            }
          },
          "metadata": {},
          "execution_count": 21
        }
      ]
    },
    {
      "cell_type": "code",
      "source": [
        "nova_data = dt.datetime.strptime(md, \"%Y/%m/%d %H:%M:%S\")"
      ],
      "metadata": {
        "id": "GR_WpmV8hUa8"
      },
      "execution_count": null,
      "outputs": []
    },
    {
      "cell_type": "code",
      "source": [
        "nova_data.strftime(\"%j\")"
      ],
      "metadata": {
        "colab": {
          "base_uri": "https://localhost:8080/",
          "height": 35
        },
        "id": "pb_DjTyrhUdo",
        "outputId": "304a28ea-88ed-47dd-828a-515aec22abed"
      },
      "execution_count": null,
      "outputs": [
        {
          "output_type": "execute_result",
          "data": {
            "text/plain": [
              "'224'"
            ],
            "application/vnd.google.colaboratory.intrinsic+json": {
              "type": "string"
            }
          },
          "metadata": {},
          "execution_count": 23
        }
      ]
    },
    {
      "cell_type": "code",
      "source": [
        "data_atual"
      ],
      "metadata": {
        "colab": {
          "base_uri": "https://localhost:8080/"
        },
        "id": "nXNjeEjKhUhM",
        "outputId": "0fbdc8f9-2584-4a20-f002-beaa9d3bf535"
      },
      "execution_count": null,
      "outputs": [
        {
          "output_type": "execute_result",
          "data": {
            "text/plain": [
              "datetime.date(2023, 1, 20)"
            ]
          },
          "metadata": {},
          "execution_count": 24
        }
      ]
    },
    {
      "cell_type": "code",
      "source": [
        "inicio_aa1 = dt.date(2022,1,1)"
      ],
      "metadata": {
        "id": "bgGXn3nphUjz"
      },
      "execution_count": null,
      "outputs": []
    },
    {
      "cell_type": "code",
      "source": [
        "inicio_aa1 - dt.timedelta(days=1)"
      ],
      "metadata": {
        "colab": {
          "base_uri": "https://localhost:8080/"
        },
        "id": "rgsTsi8bldbD",
        "outputId": "44b4d994-44fd-45bc-c3b0-d5e162cfd0ed"
      },
      "execution_count": null,
      "outputs": [
        {
          "output_type": "execute_result",
          "data": {
            "text/plain": [
              "datetime.date(2021, 12, 31)"
            ]
          },
          "metadata": {},
          "execution_count": 26
        }
      ]
    },
    {
      "cell_type": "code",
      "source": [
        "dt.timedelta(days=1)"
      ],
      "metadata": {
        "colab": {
          "base_uri": "https://localhost:8080/"
        },
        "id": "m9UoaGcqldd5",
        "outputId": "38c70e0f-530b-40e2-f491-fef18e686c76"
      },
      "execution_count": null,
      "outputs": [
        {
          "output_type": "execute_result",
          "data": {
            "text/plain": [
              "datetime.timedelta(days=1)"
            ]
          },
          "metadata": {},
          "execution_count": 27
        }
      ]
    },
    {
      "cell_type": "code",
      "source": [
        "nova_data = dt.date(data_atual.year, (data_atual.month +1), 1)\n",
        "nova_data - dt.timedelta(days=1)"
      ],
      "metadata": {
        "colab": {
          "base_uri": "https://localhost:8080/"
        },
        "id": "bC0TVl34ldhC",
        "outputId": "fce3e503-686b-45e9-d5c0-33e113a65015"
      },
      "execution_count": null,
      "outputs": [
        {
          "output_type": "execute_result",
          "data": {
            "text/plain": [
              "datetime.date(2023, 1, 31)"
            ]
          },
          "metadata": {},
          "execution_count": 28
        }
      ]
    },
    {
      "cell_type": "code",
      "source": [
        "print(inicio_aa1)"
      ],
      "metadata": {
        "colab": {
          "base_uri": "https://localhost:8080/"
        },
        "id": "zA1ya2JghUlh",
        "outputId": "77909052-7a8e-4b8c-a137-9d3a6b67904d"
      },
      "execution_count": null,
      "outputs": [
        {
          "output_type": "stream",
          "name": "stdout",
          "text": [
            "2022-01-01\n"
          ]
        }
      ]
    },
    {
      "cell_type": "code",
      "source": [
        "print(data_atual.year - 1)"
      ],
      "metadata": {
        "colab": {
          "base_uri": "https://localhost:8080/"
        },
        "id": "3aih-sdihUnu",
        "outputId": "bb175d2c-29c6-4c3f-9ed5-f688352e79ba"
      },
      "execution_count": null,
      "outputs": [
        {
          "output_type": "stream",
          "name": "stdout",
          "text": [
            "2022\n"
          ]
        }
      ]
    },
    {
      "cell_type": "code",
      "source": [
        "df_ti22['estado'].value_counts()"
      ],
      "metadata": {
        "colab": {
          "base_uri": "https://localhost:8080/"
        },
        "id": "wV39kNfVlhBd",
        "outputId": "206e5874-b6f2-4dad-9908-23e490c8eeec"
      },
      "execution_count": null,
      "outputs": [
        {
          "output_type": "execute_result",
          "data": {
            "text/plain": [
              "MATO GROSSO    49464\n",
              "PARA           40825\n",
              "RORAIMA        11681\n",
              "AMAZONAS        9394\n",
              "RONDONIA        9382\n",
              "ACRE            1894\n",
              "MARANHAO        1634\n",
              "AMAPA           1579\n",
              "TOCANTINS          3\n",
              "Name: estado, dtype: int64"
            ]
          },
          "metadata": {},
          "execution_count": 31
        }
      ]
    },
    {
      "cell_type": "code",
      "source": [
        "df_ti22.loc[115678:125765]"
      ],
      "metadata": {
        "colab": {
          "base_uri": "https://localhost:8080/",
          "height": 424
        },
        "id": "f0OtPfDuu1-K",
        "outputId": "9b49fd4f-dfd3-4a09-bc6e-04ecbd60e113"
      },
      "execution_count": null,
      "outputs": [
        {
          "output_type": "execute_result",
          "data": {
            "text/plain": [
              "                   datahora satelite    pais    estado           municipio  \\\n",
              "115678  2022/06/18 17:39:00  NPP-375  Brasil  AMAZONAS            MANICORE   \n",
              "115679  2022/06/18 17:39:00  NPP-375  Brasil  AMAZONAS            MANICORE   \n",
              "115680  2022/06/18 17:39:00  NPP-375  Brasil  AMAZONAS            MANICORE   \n",
              "115681  2022/06/18 17:39:00  NPP-375  Brasil  AMAZONAS            MANICORE   \n",
              "115682  2022/06/18 17:39:00  NPP-375  Brasil  AMAZONAS            MANICORE   \n",
              "...                     ...      ...     ...       ...                 ...   \n",
              "125761  2022/08/11 16:37:00  NOAA-20  Brasil      PARA        JACAREACANGA   \n",
              "125762  2022/08/11 16:37:00  NOAA-20  Brasil      PARA  SAO FELIX DO XINGU   \n",
              "125763  2022/08/11 16:37:00  NOAA-20  Brasil      PARA  SAO FELIX DO XINGU   \n",
              "125764  2022/08/11 16:37:00  NOAA-20  Brasil      PARA  SAO FELIX DO XINGU   \n",
              "125765  2022/08/11 16:37:00  NOAA-20  Brasil      PARA  SAO FELIX DO XINGU   \n",
              "\n",
              "           bioma  diasemchuv  precipitac  riscofogo  latitude  longitude  \\\n",
              "115678  Amazonia         4.0         0.0       0.61  -8.45942  -61.80344   \n",
              "115679  Amazonia         4.0         0.0       0.61  -8.45996  -61.80698   \n",
              "115680  Amazonia         3.0         0.0       0.61  -8.46214  -61.82111   \n",
              "115681  Amazonia         3.0         0.0       0.61  -8.46269  -61.82465   \n",
              "115682  Amazonia         3.0         0.0       0.60  -8.46323  -61.82818   \n",
              "...          ...         ...         ...        ...       ...        ...   \n",
              "125761  Amazonia         0.0         0.0       0.19  -8.40582  -57.67667   \n",
              "125762  Amazonia        18.0         0.0       0.95  -5.61702  -52.22726   \n",
              "125763  Amazonia         1.0         0.2       0.50  -5.83171  -52.07731   \n",
              "125764  Amazonia         1.0         0.0       0.65  -5.84096  -52.33949   \n",
              "125765  Amazonia         1.0         0.0       0.64  -5.84497  -52.33891   \n",
              "\n",
              "         frp   id  terrai_cod         terrai_nom etnia_nome       fase_ti  \n",
              "115678   6.9  253       44801  Tenharim Marmelos   Tenharim  Regularizada  \n",
              "115679   3.8  253       44801  Tenharim Marmelos   Tenharim  Regularizada  \n",
              "115680   5.0  253       44801  Tenharim Marmelos   Tenharim  Regularizada  \n",
              "115681   5.0  253       44801  Tenharim Marmelos   Tenharim  Regularizada  \n",
              "115682   3.2  253       44801  Tenharim Marmelos   Tenharim  Regularizada  \n",
              "...      ...  ...         ...                ...        ...           ...  \n",
              "125761  20.5  281       22902             Kayabi     Kaiabi  Regularizada  \n",
              "125762   7.4  127        3002          Apyterewa   Parakanã  Regularizada  \n",
              "125763   6.6  127        3002          Apyterewa   Parakanã  Regularizada  \n",
              "125764  20.8  127        3002          Apyterewa   Parakanã  Regularizada  \n",
              "125765  22.5  127        3002          Apyterewa   Parakanã  Regularizada  \n",
              "\n",
              "[10088 rows x 17 columns]"
            ],
            "text/html": [
              "\n",
              "  <div id=\"df-aa17e0b9-8b82-4fee-9660-3c0fe88f2839\">\n",
              "    <div class=\"colab-df-container\">\n",
              "      <div>\n",
              "<style scoped>\n",
              "    .dataframe tbody tr th:only-of-type {\n",
              "        vertical-align: middle;\n",
              "    }\n",
              "\n",
              "    .dataframe tbody tr th {\n",
              "        vertical-align: top;\n",
              "    }\n",
              "\n",
              "    .dataframe thead th {\n",
              "        text-align: right;\n",
              "    }\n",
              "</style>\n",
              "<table border=\"1\" class=\"dataframe\">\n",
              "  <thead>\n",
              "    <tr style=\"text-align: right;\">\n",
              "      <th></th>\n",
              "      <th>datahora</th>\n",
              "      <th>satelite</th>\n",
              "      <th>pais</th>\n",
              "      <th>estado</th>\n",
              "      <th>municipio</th>\n",
              "      <th>bioma</th>\n",
              "      <th>diasemchuv</th>\n",
              "      <th>precipitac</th>\n",
              "      <th>riscofogo</th>\n",
              "      <th>latitude</th>\n",
              "      <th>longitude</th>\n",
              "      <th>frp</th>\n",
              "      <th>id</th>\n",
              "      <th>terrai_cod</th>\n",
              "      <th>terrai_nom</th>\n",
              "      <th>etnia_nome</th>\n",
              "      <th>fase_ti</th>\n",
              "    </tr>\n",
              "  </thead>\n",
              "  <tbody>\n",
              "    <tr>\n",
              "      <th>115678</th>\n",
              "      <td>2022/06/18 17:39:00</td>\n",
              "      <td>NPP-375</td>\n",
              "      <td>Brasil</td>\n",
              "      <td>AMAZONAS</td>\n",
              "      <td>MANICORE</td>\n",
              "      <td>Amazonia</td>\n",
              "      <td>4.0</td>\n",
              "      <td>0.0</td>\n",
              "      <td>0.61</td>\n",
              "      <td>-8.45942</td>\n",
              "      <td>-61.80344</td>\n",
              "      <td>6.9</td>\n",
              "      <td>253</td>\n",
              "      <td>44801</td>\n",
              "      <td>Tenharim Marmelos</td>\n",
              "      <td>Tenharim</td>\n",
              "      <td>Regularizada</td>\n",
              "    </tr>\n",
              "    <tr>\n",
              "      <th>115679</th>\n",
              "      <td>2022/06/18 17:39:00</td>\n",
              "      <td>NPP-375</td>\n",
              "      <td>Brasil</td>\n",
              "      <td>AMAZONAS</td>\n",
              "      <td>MANICORE</td>\n",
              "      <td>Amazonia</td>\n",
              "      <td>4.0</td>\n",
              "      <td>0.0</td>\n",
              "      <td>0.61</td>\n",
              "      <td>-8.45996</td>\n",
              "      <td>-61.80698</td>\n",
              "      <td>3.8</td>\n",
              "      <td>253</td>\n",
              "      <td>44801</td>\n",
              "      <td>Tenharim Marmelos</td>\n",
              "      <td>Tenharim</td>\n",
              "      <td>Regularizada</td>\n",
              "    </tr>\n",
              "    <tr>\n",
              "      <th>115680</th>\n",
              "      <td>2022/06/18 17:39:00</td>\n",
              "      <td>NPP-375</td>\n",
              "      <td>Brasil</td>\n",
              "      <td>AMAZONAS</td>\n",
              "      <td>MANICORE</td>\n",
              "      <td>Amazonia</td>\n",
              "      <td>3.0</td>\n",
              "      <td>0.0</td>\n",
              "      <td>0.61</td>\n",
              "      <td>-8.46214</td>\n",
              "      <td>-61.82111</td>\n",
              "      <td>5.0</td>\n",
              "      <td>253</td>\n",
              "      <td>44801</td>\n",
              "      <td>Tenharim Marmelos</td>\n",
              "      <td>Tenharim</td>\n",
              "      <td>Regularizada</td>\n",
              "    </tr>\n",
              "    <tr>\n",
              "      <th>115681</th>\n",
              "      <td>2022/06/18 17:39:00</td>\n",
              "      <td>NPP-375</td>\n",
              "      <td>Brasil</td>\n",
              "      <td>AMAZONAS</td>\n",
              "      <td>MANICORE</td>\n",
              "      <td>Amazonia</td>\n",
              "      <td>3.0</td>\n",
              "      <td>0.0</td>\n",
              "      <td>0.61</td>\n",
              "      <td>-8.46269</td>\n",
              "      <td>-61.82465</td>\n",
              "      <td>5.0</td>\n",
              "      <td>253</td>\n",
              "      <td>44801</td>\n",
              "      <td>Tenharim Marmelos</td>\n",
              "      <td>Tenharim</td>\n",
              "      <td>Regularizada</td>\n",
              "    </tr>\n",
              "    <tr>\n",
              "      <th>115682</th>\n",
              "      <td>2022/06/18 17:39:00</td>\n",
              "      <td>NPP-375</td>\n",
              "      <td>Brasil</td>\n",
              "      <td>AMAZONAS</td>\n",
              "      <td>MANICORE</td>\n",
              "      <td>Amazonia</td>\n",
              "      <td>3.0</td>\n",
              "      <td>0.0</td>\n",
              "      <td>0.60</td>\n",
              "      <td>-8.46323</td>\n",
              "      <td>-61.82818</td>\n",
              "      <td>3.2</td>\n",
              "      <td>253</td>\n",
              "      <td>44801</td>\n",
              "      <td>Tenharim Marmelos</td>\n",
              "      <td>Tenharim</td>\n",
              "      <td>Regularizada</td>\n",
              "    </tr>\n",
              "    <tr>\n",
              "      <th>...</th>\n",
              "      <td>...</td>\n",
              "      <td>...</td>\n",
              "      <td>...</td>\n",
              "      <td>...</td>\n",
              "      <td>...</td>\n",
              "      <td>...</td>\n",
              "      <td>...</td>\n",
              "      <td>...</td>\n",
              "      <td>...</td>\n",
              "      <td>...</td>\n",
              "      <td>...</td>\n",
              "      <td>...</td>\n",
              "      <td>...</td>\n",
              "      <td>...</td>\n",
              "      <td>...</td>\n",
              "      <td>...</td>\n",
              "      <td>...</td>\n",
              "    </tr>\n",
              "    <tr>\n",
              "      <th>125761</th>\n",
              "      <td>2022/08/11 16:37:00</td>\n",
              "      <td>NOAA-20</td>\n",
              "      <td>Brasil</td>\n",
              "      <td>PARA</td>\n",
              "      <td>JACAREACANGA</td>\n",
              "      <td>Amazonia</td>\n",
              "      <td>0.0</td>\n",
              "      <td>0.0</td>\n",
              "      <td>0.19</td>\n",
              "      <td>-8.40582</td>\n",
              "      <td>-57.67667</td>\n",
              "      <td>20.5</td>\n",
              "      <td>281</td>\n",
              "      <td>22902</td>\n",
              "      <td>Kayabi</td>\n",
              "      <td>Kaiabi</td>\n",
              "      <td>Regularizada</td>\n",
              "    </tr>\n",
              "    <tr>\n",
              "      <th>125762</th>\n",
              "      <td>2022/08/11 16:37:00</td>\n",
              "      <td>NOAA-20</td>\n",
              "      <td>Brasil</td>\n",
              "      <td>PARA</td>\n",
              "      <td>SAO FELIX DO XINGU</td>\n",
              "      <td>Amazonia</td>\n",
              "      <td>18.0</td>\n",
              "      <td>0.0</td>\n",
              "      <td>0.95</td>\n",
              "      <td>-5.61702</td>\n",
              "      <td>-52.22726</td>\n",
              "      <td>7.4</td>\n",
              "      <td>127</td>\n",
              "      <td>3002</td>\n",
              "      <td>Apyterewa</td>\n",
              "      <td>Parakanã</td>\n",
              "      <td>Regularizada</td>\n",
              "    </tr>\n",
              "    <tr>\n",
              "      <th>125763</th>\n",
              "      <td>2022/08/11 16:37:00</td>\n",
              "      <td>NOAA-20</td>\n",
              "      <td>Brasil</td>\n",
              "      <td>PARA</td>\n",
              "      <td>SAO FELIX DO XINGU</td>\n",
              "      <td>Amazonia</td>\n",
              "      <td>1.0</td>\n",
              "      <td>0.2</td>\n",
              "      <td>0.50</td>\n",
              "      <td>-5.83171</td>\n",
              "      <td>-52.07731</td>\n",
              "      <td>6.6</td>\n",
              "      <td>127</td>\n",
              "      <td>3002</td>\n",
              "      <td>Apyterewa</td>\n",
              "      <td>Parakanã</td>\n",
              "      <td>Regularizada</td>\n",
              "    </tr>\n",
              "    <tr>\n",
              "      <th>125764</th>\n",
              "      <td>2022/08/11 16:37:00</td>\n",
              "      <td>NOAA-20</td>\n",
              "      <td>Brasil</td>\n",
              "      <td>PARA</td>\n",
              "      <td>SAO FELIX DO XINGU</td>\n",
              "      <td>Amazonia</td>\n",
              "      <td>1.0</td>\n",
              "      <td>0.0</td>\n",
              "      <td>0.65</td>\n",
              "      <td>-5.84096</td>\n",
              "      <td>-52.33949</td>\n",
              "      <td>20.8</td>\n",
              "      <td>127</td>\n",
              "      <td>3002</td>\n",
              "      <td>Apyterewa</td>\n",
              "      <td>Parakanã</td>\n",
              "      <td>Regularizada</td>\n",
              "    </tr>\n",
              "    <tr>\n",
              "      <th>125765</th>\n",
              "      <td>2022/08/11 16:37:00</td>\n",
              "      <td>NOAA-20</td>\n",
              "      <td>Brasil</td>\n",
              "      <td>PARA</td>\n",
              "      <td>SAO FELIX DO XINGU</td>\n",
              "      <td>Amazonia</td>\n",
              "      <td>1.0</td>\n",
              "      <td>0.0</td>\n",
              "      <td>0.64</td>\n",
              "      <td>-5.84497</td>\n",
              "      <td>-52.33891</td>\n",
              "      <td>22.5</td>\n",
              "      <td>127</td>\n",
              "      <td>3002</td>\n",
              "      <td>Apyterewa</td>\n",
              "      <td>Parakanã</td>\n",
              "      <td>Regularizada</td>\n",
              "    </tr>\n",
              "  </tbody>\n",
              "</table>\n",
              "<p>10088 rows × 17 columns</p>\n",
              "</div>\n",
              "      <button class=\"colab-df-convert\" onclick=\"convertToInteractive('df-aa17e0b9-8b82-4fee-9660-3c0fe88f2839')\"\n",
              "              title=\"Convert this dataframe to an interactive table.\"\n",
              "              style=\"display:none;\">\n",
              "        \n",
              "  <svg xmlns=\"http://www.w3.org/2000/svg\" height=\"24px\"viewBox=\"0 0 24 24\"\n",
              "       width=\"24px\">\n",
              "    <path d=\"M0 0h24v24H0V0z\" fill=\"none\"/>\n",
              "    <path d=\"M18.56 5.44l.94 2.06.94-2.06 2.06-.94-2.06-.94-.94-2.06-.94 2.06-2.06.94zm-11 1L8.5 8.5l.94-2.06 2.06-.94-2.06-.94L8.5 2.5l-.94 2.06-2.06.94zm10 10l.94 2.06.94-2.06 2.06-.94-2.06-.94-.94-2.06-.94 2.06-2.06.94z\"/><path d=\"M17.41 7.96l-1.37-1.37c-.4-.4-.92-.59-1.43-.59-.52 0-1.04.2-1.43.59L10.3 9.45l-7.72 7.72c-.78.78-.78 2.05 0 2.83L4 21.41c.39.39.9.59 1.41.59.51 0 1.02-.2 1.41-.59l7.78-7.78 2.81-2.81c.8-.78.8-2.07 0-2.86zM5.41 20L4 18.59l7.72-7.72 1.47 1.35L5.41 20z\"/>\n",
              "  </svg>\n",
              "      </button>\n",
              "      \n",
              "  <style>\n",
              "    .colab-df-container {\n",
              "      display:flex;\n",
              "      flex-wrap:wrap;\n",
              "      gap: 12px;\n",
              "    }\n",
              "\n",
              "    .colab-df-convert {\n",
              "      background-color: #E8F0FE;\n",
              "      border: none;\n",
              "      border-radius: 50%;\n",
              "      cursor: pointer;\n",
              "      display: none;\n",
              "      fill: #1967D2;\n",
              "      height: 32px;\n",
              "      padding: 0 0 0 0;\n",
              "      width: 32px;\n",
              "    }\n",
              "\n",
              "    .colab-df-convert:hover {\n",
              "      background-color: #E2EBFA;\n",
              "      box-shadow: 0px 1px 2px rgba(60, 64, 67, 0.3), 0px 1px 3px 1px rgba(60, 64, 67, 0.15);\n",
              "      fill: #174EA6;\n",
              "    }\n",
              "\n",
              "    [theme=dark] .colab-df-convert {\n",
              "      background-color: #3B4455;\n",
              "      fill: #D2E3FC;\n",
              "    }\n",
              "\n",
              "    [theme=dark] .colab-df-convert:hover {\n",
              "      background-color: #434B5C;\n",
              "      box-shadow: 0px 1px 3px 1px rgba(0, 0, 0, 0.15);\n",
              "      filter: drop-shadow(0px 1px 2px rgba(0, 0, 0, 0.3));\n",
              "      fill: #FFFFFF;\n",
              "    }\n",
              "  </style>\n",
              "\n",
              "      <script>\n",
              "        const buttonEl =\n",
              "          document.querySelector('#df-aa17e0b9-8b82-4fee-9660-3c0fe88f2839 button.colab-df-convert');\n",
              "        buttonEl.style.display =\n",
              "          google.colab.kernel.accessAllowed ? 'block' : 'none';\n",
              "\n",
              "        async function convertToInteractive(key) {\n",
              "          const element = document.querySelector('#df-aa17e0b9-8b82-4fee-9660-3c0fe88f2839');\n",
              "          const dataTable =\n",
              "            await google.colab.kernel.invokeFunction('convertToInteractive',\n",
              "                                                     [key], {});\n",
              "          if (!dataTable) return;\n",
              "\n",
              "          const docLinkHtml = 'Like what you see? Visit the ' +\n",
              "            '<a target=\"_blank\" href=https://colab.research.google.com/notebooks/data_table.ipynb>data table notebook</a>'\n",
              "            + ' to learn more about interactive tables.';\n",
              "          element.innerHTML = '';\n",
              "          dataTable['output_type'] = 'display_data';\n",
              "          await google.colab.output.renderOutput(dataTable, element);\n",
              "          const docLink = document.createElement('div');\n",
              "          docLink.innerHTML = docLinkHtml;\n",
              "          element.appendChild(docLink);\n",
              "        }\n",
              "      </script>\n",
              "    </div>\n",
              "  </div>\n",
              "  "
            ]
          },
          "metadata": {},
          "execution_count": 32
        }
      ]
    },
    {
      "cell_type": "code",
      "source": [
        "df_ti22.datahora = pd.to_datetime(df_ti22.datahora)\n",
        "df_uc22.datahora = pd.to_datetime(df_uc22.datahora)\n",
        "df_focos22.datahora = pd.to_datetime(df_focos22.datahora)"
      ],
      "metadata": {
        "id": "YQb553OVH5LJ"
      },
      "execution_count": null,
      "outputs": []
    },
    {
      "cell_type": "code",
      "source": [
        "data_inicial = dt.datetime.strptime('2022/08/12', \"%Y/%m/%d\").date()\n",
        "data_final = dt.datetime.strptime('2022/08/13', \"%Y/%m/%d\").date()\n",
        "print(data_inicial)"
      ],
      "metadata": {
        "colab": {
          "base_uri": "https://localhost:8080/"
        },
        "id": "pd84wuFpoK07",
        "outputId": "e1a64ae4-1d2c-4dba-afa5-de384392835f"
      },
      "execution_count": null,
      "outputs": [
        {
          "output_type": "stream",
          "name": "stdout",
          "text": [
            "2022-08-12\n"
          ]
        }
      ]
    },
    {
      "cell_type": "code",
      "source": [
        "df_uc20.datahora = pd.to_datetime(df_uc20.datahora)\n",
        "df_focos20.datahora = pd.to_datetime(df_focos20.datahora)\n",
        "df_ti20.datahora = pd.to_datetime(df_ti20.datahora)"
      ],
      "metadata": {
        "id": "ICVPmhhf6RGB"
      },
      "execution_count": null,
      "outputs": []
    },
    {
      "cell_type": "code",
      "source": [
        "df_focos21.datahora = pd.to_datetime(df_focos21.datahora)\n",
        "df_uc21.datahora = pd.to_datetime(df_uc21.datahora)\n",
        "df_ti21.datahora = pd.to_datetime(df_ti21.datahora)"
      ],
      "metadata": {
        "id": "LgAYWWI4hbQe"
      },
      "execution_count": null,
      "outputs": []
    },
    {
      "cell_type": "code",
      "source": [
        "df_ti22['datahora'].dt.date == data_inicial, ['NPP-375']"
      ],
      "metadata": {
        "colab": {
          "base_uri": "https://localhost:8080/"
        },
        "id": "Lf8hsFbXnBJS",
        "outputId": "9cab492f-b1b2-4d35-e0be-10d473ecb9c2"
      },
      "execution_count": null,
      "outputs": [
        {
          "output_type": "execute_result",
          "data": {
            "text/plain": [
              "(0         True\n",
              " 1         True\n",
              " 2         True\n",
              " 3         True\n",
              " 4         True\n",
              "           ... \n",
              " 125851    True\n",
              " 125852    True\n",
              " 125853    True\n",
              " 125854    True\n",
              " 125855    True\n",
              " Name: datahora, Length: 125856, dtype: bool, ['NPP-375'])"
            ]
          },
          "metadata": {},
          "execution_count": 36
        }
      ]
    },
    {
      "cell_type": "code",
      "source": [
        "df_ti22[ ((df_ti22['datahora'].dt.date  >= data_inicial) & (df_ti22['datahora'].dt.date  < data_final) )].datahora.dt.date.value_counts()"
      ],
      "metadata": {
        "colab": {
          "base_uri": "https://localhost:8080/"
        },
        "id": "WIVU-nDSn5Vs",
        "outputId": "ab20b115-f64b-482b-b355-e66d632cf2e4"
      },
      "execution_count": null,
      "outputs": [
        {
          "output_type": "execute_result",
          "data": {
            "text/plain": [
              "2022-08-12    255\n",
              "Name: datahora, dtype: int64"
            ]
          },
          "metadata": {},
          "execution_count": 37
        }
      ]
    },
    {
      "cell_type": "code",
      "source": [],
      "metadata": {
        "id": "K5AK55dXrP4C"
      },
      "execution_count": null,
      "outputs": []
    },
    {
      "cell_type": "code",
      "source": [
        "data_inicial = dt.datetime.strptime('2022/01/01', \"%Y/%m/%d\").date()\n",
        "data_final = dt.datetime.strptime('2022/01/31', \"%Y/%m/%d\").date()\n",
        "print(data_inicial)"
      ],
      "metadata": {
        "colab": {
          "base_uri": "https://localhost:8080/"
        },
        "id": "0lyVapNKrQA5",
        "outputId": "8afa97f9-f728-465d-a794-246d89daa09f"
      },
      "execution_count": null,
      "outputs": [
        {
          "output_type": "stream",
          "name": "stdout",
          "text": [
            "2022-01-01\n"
          ]
        }
      ]
    },
    {
      "cell_type": "code",
      "source": [
        "data_inicial"
      ],
      "metadata": {
        "colab": {
          "base_uri": "https://localhost:8080/"
        },
        "id": "E4MX-CULNzn5",
        "outputId": "15dd84ac-fdcf-4475-9da4-73cdd5ec7bb1"
      },
      "execution_count": null,
      "outputs": [
        {
          "output_type": "execute_result",
          "data": {
            "text/plain": [
              "datetime.date(2022, 1, 1)"
            ]
          },
          "metadata": {},
          "execution_count": 39
        }
      ]
    },
    {
      "cell_type": "code",
      "source": [
        "df_ti22['datahora'].min()"
      ],
      "metadata": {
        "colab": {
          "base_uri": "https://localhost:8080/"
        },
        "id": "AD0Cz2rUrGAr",
        "outputId": "215d97d9-96c7-4c72-d1dc-38609537e8f3"
      },
      "execution_count": null,
      "outputs": [
        {
          "output_type": "execute_result",
          "data": {
            "text/plain": [
              "Timestamp('2022-01-01 16:56:00')"
            ]
          },
          "metadata": {},
          "execution_count": 40
        }
      ]
    },
    {
      "cell_type": "code",
      "source": [
        "df_ti22[(df_ti22.datahora.dt.date >= data_inicial) & (df_ti22.datahora.dt.date < data_final) & (df_ti22.satelite == 'NPP-375')]"
      ],
      "metadata": {
        "colab": {
          "base_uri": "https://localhost:8080/",
          "height": 641
        },
        "id": "8Fk_JpTorxka",
        "outputId": "f493c2f4-1b87-4b98-af12-69230a575404"
      },
      "execution_count": null,
      "outputs": [
        {
          "output_type": "execute_result",
          "data": {
            "text/plain": [
              "                  datahora satelite    pais    estado  \\\n",
              "104171 2022-01-04 17:38:00  NPP-375  Brasil   RORAIMA   \n",
              "104172 2022-01-04 17:38:00  NPP-375  Brasil   RORAIMA   \n",
              "104183 2022-01-21 17:19:00  NPP-375  Brasil   RORAIMA   \n",
              "104184 2022-01-21 17:19:00  NPP-375  Brasil   RORAIMA   \n",
              "104185 2022-01-21 17:19:00  NPP-375  Brasil   RORAIMA   \n",
              "...                    ...      ...     ...       ...   \n",
              "108865 2022-01-30 17:49:00  NPP-375  Brasil  AMAZONAS   \n",
              "108866 2022-01-30 17:49:00  NPP-375  Brasil  AMAZONAS   \n",
              "108867 2022-01-30 17:49:00  NPP-375  Brasil  AMAZONAS   \n",
              "108868 2022-01-30 17:49:00  NPP-375  Brasil  AMAZONAS   \n",
              "108878 2022-01-30 17:49:00  NPP-375  Brasil  AMAZONAS   \n",
              "\n",
              "                       municipio     bioma  diasemchuv  precipitac  riscofogo  \\\n",
              "104171                 PACARAIMA  Amazonia         4.0         0.0        0.8   \n",
              "104172                  UIRAMUTA  Amazonia         4.0         0.0        1.0   \n",
              "104183                  UIRAMUTA  Amazonia         4.0         2.4        0.7   \n",
              "104184                 NORMANDIA  Amazonia         6.0         0.0        1.0   \n",
              "104185                 NORMANDIA  Amazonia         6.0         0.0        1.0   \n",
              "...                          ...       ...         ...         ...        ...   \n",
              "108865  SAO GABRIEL DA CACHOEIRA  Amazonia         1.0         0.0        0.0   \n",
              "108866  SAO GABRIEL DA CACHOEIRA  Amazonia         3.0         0.0        0.0   \n",
              "108867  SAO GABRIEL DA CACHOEIRA  Amazonia         3.0         0.0        0.0   \n",
              "108868  SAO GABRIEL DA CACHOEIRA  Amazonia         3.0         0.0        0.0   \n",
              "108878  SAO GABRIEL DA CACHOEIRA  Amazonia         2.0         0.0        0.0   \n",
              "\n",
              "        latitude  longitude   frp    id  terrai_cod           terrai_nom  \\\n",
              "104171   3.60614  -60.52483   2.1   188       58401      São Marcos - RR   \n",
              "104172   4.36053  -60.19799   5.7  1536       37901  Raposa Serra do Sol   \n",
              "104183   4.89771  -60.44083   4.2  1536       37901  Raposa Serra do Sol   \n",
              "104184   3.66900  -59.93990   7.2  1536       37901  Raposa Serra do Sol   \n",
              "104185   3.68810  -59.88202   2.3  1536       37901  Raposa Serra do Sol   \n",
              "...          ...        ...   ...   ...         ...                  ...   \n",
              "108865   0.26244  -69.40307   4.6    15        1101       Alto Rio Negro   \n",
              "108866   0.23068  -69.84807  14.0    15        1101       Alto Rio Negro   \n",
              "108867   0.37145  -69.25004   3.7    15        1101       Alto Rio Negro   \n",
              "108868   0.22909  -69.84876  18.3    15        1101       Alto Rio Negro   \n",
              "108878   0.21188  -69.63763  13.1    15        1101       Alto Rio Negro   \n",
              "\n",
              "                                   etnia_nome       fase_ti  \n",
              "104171                        Makuxí,Wapixana  Regularizada  \n",
              "104172     Taulipáng,Makuxí,Ingarikó,Wapixana  Regularizada  \n",
              "104183     Taulipáng,Makuxí,Ingarikó,Wapixana  Regularizada  \n",
              "104184     Taulipáng,Makuxí,Ingarikó,Wapixana  Regularizada  \n",
              "104185     Taulipáng,Makuxí,Ingarikó,Wapixana  Regularizada  \n",
              "...                                       ...           ...  \n",
              "108865  Arapáso,Karapanã,Barasána,Baré,Wanana  Regularizada  \n",
              "108866  Arapáso,Karapanã,Barasána,Baré,Wanana  Regularizada  \n",
              "108867  Arapáso,Karapanã,Barasána,Baré,Wanana  Regularizada  \n",
              "108868  Arapáso,Karapanã,Barasána,Baré,Wanana  Regularizada  \n",
              "108878  Arapáso,Karapanã,Barasána,Baré,Wanana  Regularizada  \n",
              "\n",
              "[1772 rows x 17 columns]"
            ],
            "text/html": [
              "\n",
              "  <div id=\"df-21910b5b-bd8c-4165-b043-43b78a843a3a\">\n",
              "    <div class=\"colab-df-container\">\n",
              "      <div>\n",
              "<style scoped>\n",
              "    .dataframe tbody tr th:only-of-type {\n",
              "        vertical-align: middle;\n",
              "    }\n",
              "\n",
              "    .dataframe tbody tr th {\n",
              "        vertical-align: top;\n",
              "    }\n",
              "\n",
              "    .dataframe thead th {\n",
              "        text-align: right;\n",
              "    }\n",
              "</style>\n",
              "<table border=\"1\" class=\"dataframe\">\n",
              "  <thead>\n",
              "    <tr style=\"text-align: right;\">\n",
              "      <th></th>\n",
              "      <th>datahora</th>\n",
              "      <th>satelite</th>\n",
              "      <th>pais</th>\n",
              "      <th>estado</th>\n",
              "      <th>municipio</th>\n",
              "      <th>bioma</th>\n",
              "      <th>diasemchuv</th>\n",
              "      <th>precipitac</th>\n",
              "      <th>riscofogo</th>\n",
              "      <th>latitude</th>\n",
              "      <th>longitude</th>\n",
              "      <th>frp</th>\n",
              "      <th>id</th>\n",
              "      <th>terrai_cod</th>\n",
              "      <th>terrai_nom</th>\n",
              "      <th>etnia_nome</th>\n",
              "      <th>fase_ti</th>\n",
              "    </tr>\n",
              "  </thead>\n",
              "  <tbody>\n",
              "    <tr>\n",
              "      <th>104171</th>\n",
              "      <td>2022-01-04 17:38:00</td>\n",
              "      <td>NPP-375</td>\n",
              "      <td>Brasil</td>\n",
              "      <td>RORAIMA</td>\n",
              "      <td>PACARAIMA</td>\n",
              "      <td>Amazonia</td>\n",
              "      <td>4.0</td>\n",
              "      <td>0.0</td>\n",
              "      <td>0.8</td>\n",
              "      <td>3.60614</td>\n",
              "      <td>-60.52483</td>\n",
              "      <td>2.1</td>\n",
              "      <td>188</td>\n",
              "      <td>58401</td>\n",
              "      <td>São Marcos - RR</td>\n",
              "      <td>Makuxí,Wapixana</td>\n",
              "      <td>Regularizada</td>\n",
              "    </tr>\n",
              "    <tr>\n",
              "      <th>104172</th>\n",
              "      <td>2022-01-04 17:38:00</td>\n",
              "      <td>NPP-375</td>\n",
              "      <td>Brasil</td>\n",
              "      <td>RORAIMA</td>\n",
              "      <td>UIRAMUTA</td>\n",
              "      <td>Amazonia</td>\n",
              "      <td>4.0</td>\n",
              "      <td>0.0</td>\n",
              "      <td>1.0</td>\n",
              "      <td>4.36053</td>\n",
              "      <td>-60.19799</td>\n",
              "      <td>5.7</td>\n",
              "      <td>1536</td>\n",
              "      <td>37901</td>\n",
              "      <td>Raposa Serra do Sol</td>\n",
              "      <td>Taulipáng,Makuxí,Ingarikó,Wapixana</td>\n",
              "      <td>Regularizada</td>\n",
              "    </tr>\n",
              "    <tr>\n",
              "      <th>104183</th>\n",
              "      <td>2022-01-21 17:19:00</td>\n",
              "      <td>NPP-375</td>\n",
              "      <td>Brasil</td>\n",
              "      <td>RORAIMA</td>\n",
              "      <td>UIRAMUTA</td>\n",
              "      <td>Amazonia</td>\n",
              "      <td>4.0</td>\n",
              "      <td>2.4</td>\n",
              "      <td>0.7</td>\n",
              "      <td>4.89771</td>\n",
              "      <td>-60.44083</td>\n",
              "      <td>4.2</td>\n",
              "      <td>1536</td>\n",
              "      <td>37901</td>\n",
              "      <td>Raposa Serra do Sol</td>\n",
              "      <td>Taulipáng,Makuxí,Ingarikó,Wapixana</td>\n",
              "      <td>Regularizada</td>\n",
              "    </tr>\n",
              "    <tr>\n",
              "      <th>104184</th>\n",
              "      <td>2022-01-21 17:19:00</td>\n",
              "      <td>NPP-375</td>\n",
              "      <td>Brasil</td>\n",
              "      <td>RORAIMA</td>\n",
              "      <td>NORMANDIA</td>\n",
              "      <td>Amazonia</td>\n",
              "      <td>6.0</td>\n",
              "      <td>0.0</td>\n",
              "      <td>1.0</td>\n",
              "      <td>3.66900</td>\n",
              "      <td>-59.93990</td>\n",
              "      <td>7.2</td>\n",
              "      <td>1536</td>\n",
              "      <td>37901</td>\n",
              "      <td>Raposa Serra do Sol</td>\n",
              "      <td>Taulipáng,Makuxí,Ingarikó,Wapixana</td>\n",
              "      <td>Regularizada</td>\n",
              "    </tr>\n",
              "    <tr>\n",
              "      <th>104185</th>\n",
              "      <td>2022-01-21 17:19:00</td>\n",
              "      <td>NPP-375</td>\n",
              "      <td>Brasil</td>\n",
              "      <td>RORAIMA</td>\n",
              "      <td>NORMANDIA</td>\n",
              "      <td>Amazonia</td>\n",
              "      <td>6.0</td>\n",
              "      <td>0.0</td>\n",
              "      <td>1.0</td>\n",
              "      <td>3.68810</td>\n",
              "      <td>-59.88202</td>\n",
              "      <td>2.3</td>\n",
              "      <td>1536</td>\n",
              "      <td>37901</td>\n",
              "      <td>Raposa Serra do Sol</td>\n",
              "      <td>Taulipáng,Makuxí,Ingarikó,Wapixana</td>\n",
              "      <td>Regularizada</td>\n",
              "    </tr>\n",
              "    <tr>\n",
              "      <th>...</th>\n",
              "      <td>...</td>\n",
              "      <td>...</td>\n",
              "      <td>...</td>\n",
              "      <td>...</td>\n",
              "      <td>...</td>\n",
              "      <td>...</td>\n",
              "      <td>...</td>\n",
              "      <td>...</td>\n",
              "      <td>...</td>\n",
              "      <td>...</td>\n",
              "      <td>...</td>\n",
              "      <td>...</td>\n",
              "      <td>...</td>\n",
              "      <td>...</td>\n",
              "      <td>...</td>\n",
              "      <td>...</td>\n",
              "      <td>...</td>\n",
              "    </tr>\n",
              "    <tr>\n",
              "      <th>108865</th>\n",
              "      <td>2022-01-30 17:49:00</td>\n",
              "      <td>NPP-375</td>\n",
              "      <td>Brasil</td>\n",
              "      <td>AMAZONAS</td>\n",
              "      <td>SAO GABRIEL DA CACHOEIRA</td>\n",
              "      <td>Amazonia</td>\n",
              "      <td>1.0</td>\n",
              "      <td>0.0</td>\n",
              "      <td>0.0</td>\n",
              "      <td>0.26244</td>\n",
              "      <td>-69.40307</td>\n",
              "      <td>4.6</td>\n",
              "      <td>15</td>\n",
              "      <td>1101</td>\n",
              "      <td>Alto Rio Negro</td>\n",
              "      <td>Arapáso,Karapanã,Barasána,Baré,Wanana</td>\n",
              "      <td>Regularizada</td>\n",
              "    </tr>\n",
              "    <tr>\n",
              "      <th>108866</th>\n",
              "      <td>2022-01-30 17:49:00</td>\n",
              "      <td>NPP-375</td>\n",
              "      <td>Brasil</td>\n",
              "      <td>AMAZONAS</td>\n",
              "      <td>SAO GABRIEL DA CACHOEIRA</td>\n",
              "      <td>Amazonia</td>\n",
              "      <td>3.0</td>\n",
              "      <td>0.0</td>\n",
              "      <td>0.0</td>\n",
              "      <td>0.23068</td>\n",
              "      <td>-69.84807</td>\n",
              "      <td>14.0</td>\n",
              "      <td>15</td>\n",
              "      <td>1101</td>\n",
              "      <td>Alto Rio Negro</td>\n",
              "      <td>Arapáso,Karapanã,Barasána,Baré,Wanana</td>\n",
              "      <td>Regularizada</td>\n",
              "    </tr>\n",
              "    <tr>\n",
              "      <th>108867</th>\n",
              "      <td>2022-01-30 17:49:00</td>\n",
              "      <td>NPP-375</td>\n",
              "      <td>Brasil</td>\n",
              "      <td>AMAZONAS</td>\n",
              "      <td>SAO GABRIEL DA CACHOEIRA</td>\n",
              "      <td>Amazonia</td>\n",
              "      <td>3.0</td>\n",
              "      <td>0.0</td>\n",
              "      <td>0.0</td>\n",
              "      <td>0.37145</td>\n",
              "      <td>-69.25004</td>\n",
              "      <td>3.7</td>\n",
              "      <td>15</td>\n",
              "      <td>1101</td>\n",
              "      <td>Alto Rio Negro</td>\n",
              "      <td>Arapáso,Karapanã,Barasána,Baré,Wanana</td>\n",
              "      <td>Regularizada</td>\n",
              "    </tr>\n",
              "    <tr>\n",
              "      <th>108868</th>\n",
              "      <td>2022-01-30 17:49:00</td>\n",
              "      <td>NPP-375</td>\n",
              "      <td>Brasil</td>\n",
              "      <td>AMAZONAS</td>\n",
              "      <td>SAO GABRIEL DA CACHOEIRA</td>\n",
              "      <td>Amazonia</td>\n",
              "      <td>3.0</td>\n",
              "      <td>0.0</td>\n",
              "      <td>0.0</td>\n",
              "      <td>0.22909</td>\n",
              "      <td>-69.84876</td>\n",
              "      <td>18.3</td>\n",
              "      <td>15</td>\n",
              "      <td>1101</td>\n",
              "      <td>Alto Rio Negro</td>\n",
              "      <td>Arapáso,Karapanã,Barasána,Baré,Wanana</td>\n",
              "      <td>Regularizada</td>\n",
              "    </tr>\n",
              "    <tr>\n",
              "      <th>108878</th>\n",
              "      <td>2022-01-30 17:49:00</td>\n",
              "      <td>NPP-375</td>\n",
              "      <td>Brasil</td>\n",
              "      <td>AMAZONAS</td>\n",
              "      <td>SAO GABRIEL DA CACHOEIRA</td>\n",
              "      <td>Amazonia</td>\n",
              "      <td>2.0</td>\n",
              "      <td>0.0</td>\n",
              "      <td>0.0</td>\n",
              "      <td>0.21188</td>\n",
              "      <td>-69.63763</td>\n",
              "      <td>13.1</td>\n",
              "      <td>15</td>\n",
              "      <td>1101</td>\n",
              "      <td>Alto Rio Negro</td>\n",
              "      <td>Arapáso,Karapanã,Barasána,Baré,Wanana</td>\n",
              "      <td>Regularizada</td>\n",
              "    </tr>\n",
              "  </tbody>\n",
              "</table>\n",
              "<p>1772 rows × 17 columns</p>\n",
              "</div>\n",
              "      <button class=\"colab-df-convert\" onclick=\"convertToInteractive('df-21910b5b-bd8c-4165-b043-43b78a843a3a')\"\n",
              "              title=\"Convert this dataframe to an interactive table.\"\n",
              "              style=\"display:none;\">\n",
              "        \n",
              "  <svg xmlns=\"http://www.w3.org/2000/svg\" height=\"24px\"viewBox=\"0 0 24 24\"\n",
              "       width=\"24px\">\n",
              "    <path d=\"M0 0h24v24H0V0z\" fill=\"none\"/>\n",
              "    <path d=\"M18.56 5.44l.94 2.06.94-2.06 2.06-.94-2.06-.94-.94-2.06-.94 2.06-2.06.94zm-11 1L8.5 8.5l.94-2.06 2.06-.94-2.06-.94L8.5 2.5l-.94 2.06-2.06.94zm10 10l.94 2.06.94-2.06 2.06-.94-2.06-.94-.94-2.06-.94 2.06-2.06.94z\"/><path d=\"M17.41 7.96l-1.37-1.37c-.4-.4-.92-.59-1.43-.59-.52 0-1.04.2-1.43.59L10.3 9.45l-7.72 7.72c-.78.78-.78 2.05 0 2.83L4 21.41c.39.39.9.59 1.41.59.51 0 1.02-.2 1.41-.59l7.78-7.78 2.81-2.81c.8-.78.8-2.07 0-2.86zM5.41 20L4 18.59l7.72-7.72 1.47 1.35L5.41 20z\"/>\n",
              "  </svg>\n",
              "      </button>\n",
              "      \n",
              "  <style>\n",
              "    .colab-df-container {\n",
              "      display:flex;\n",
              "      flex-wrap:wrap;\n",
              "      gap: 12px;\n",
              "    }\n",
              "\n",
              "    .colab-df-convert {\n",
              "      background-color: #E8F0FE;\n",
              "      border: none;\n",
              "      border-radius: 50%;\n",
              "      cursor: pointer;\n",
              "      display: none;\n",
              "      fill: #1967D2;\n",
              "      height: 32px;\n",
              "      padding: 0 0 0 0;\n",
              "      width: 32px;\n",
              "    }\n",
              "\n",
              "    .colab-df-convert:hover {\n",
              "      background-color: #E2EBFA;\n",
              "      box-shadow: 0px 1px 2px rgba(60, 64, 67, 0.3), 0px 1px 3px 1px rgba(60, 64, 67, 0.15);\n",
              "      fill: #174EA6;\n",
              "    }\n",
              "\n",
              "    [theme=dark] .colab-df-convert {\n",
              "      background-color: #3B4455;\n",
              "      fill: #D2E3FC;\n",
              "    }\n",
              "\n",
              "    [theme=dark] .colab-df-convert:hover {\n",
              "      background-color: #434B5C;\n",
              "      box-shadow: 0px 1px 3px 1px rgba(0, 0, 0, 0.15);\n",
              "      filter: drop-shadow(0px 1px 2px rgba(0, 0, 0, 0.3));\n",
              "      fill: #FFFFFF;\n",
              "    }\n",
              "  </style>\n",
              "\n",
              "      <script>\n",
              "        const buttonEl =\n",
              "          document.querySelector('#df-21910b5b-bd8c-4165-b043-43b78a843a3a button.colab-df-convert');\n",
              "        buttonEl.style.display =\n",
              "          google.colab.kernel.accessAllowed ? 'block' : 'none';\n",
              "\n",
              "        async function convertToInteractive(key) {\n",
              "          const element = document.querySelector('#df-21910b5b-bd8c-4165-b043-43b78a843a3a');\n",
              "          const dataTable =\n",
              "            await google.colab.kernel.invokeFunction('convertToInteractive',\n",
              "                                                     [key], {});\n",
              "          if (!dataTable) return;\n",
              "\n",
              "          const docLinkHtml = 'Like what you see? Visit the ' +\n",
              "            '<a target=\"_blank\" href=https://colab.research.google.com/notebooks/data_table.ipynb>data table notebook</a>'\n",
              "            + ' to learn more about interactive tables.';\n",
              "          element.innerHTML = '';\n",
              "          dataTable['output_type'] = 'display_data';\n",
              "          await google.colab.output.renderOutput(dataTable, element);\n",
              "          const docLink = document.createElement('div');\n",
              "          docLink.innerHTML = docLinkHtml;\n",
              "          element.appendChild(docLink);\n",
              "        }\n",
              "      </script>\n",
              "    </div>\n",
              "  </div>\n",
              "  "
            ]
          },
          "metadata": {},
          "execution_count": 41
        }
      ]
    },
    {
      "cell_type": "code",
      "source": [
        "filtrado = df_ti22[(df_ti22.datahora.dt.date >= data_inicial) & (df_ti22.datahora.dt.date < data_final)]"
      ],
      "metadata": {
        "id": "5ek96FEqrGKR"
      },
      "execution_count": null,
      "outputs": []
    },
    {
      "cell_type": "code",
      "source": [
        "filtrado.datahora.min(), filtrado.datahora.max()"
      ],
      "metadata": {
        "colab": {
          "base_uri": "https://localhost:8080/"
        },
        "id": "N9T8kGmIrGQ9",
        "outputId": "638bef9c-2110-4b32-a400-10776784a5e0"
      },
      "execution_count": null,
      "outputs": [
        {
          "output_type": "execute_result",
          "data": {
            "text/plain": [
              "(Timestamp('2022-01-01 16:56:00'), Timestamp('2022-01-30 20:55:54'))"
            ]
          },
          "metadata": {},
          "execution_count": 43
        }
      ]
    },
    {
      "cell_type": "code",
      "source": [
        "df_ti22.loc[df_ti22['datahora'] == '2022/08/11', ['estado']].value_counts()"
      ],
      "metadata": {
        "colab": {
          "base_uri": "https://localhost:8080/"
        },
        "id": "t5ecO0s-m3-w",
        "outputId": "b76ab061-d095-44ab-b6d3-2a2a2769fcde"
      },
      "execution_count": null,
      "outputs": [
        {
          "output_type": "execute_result",
          "data": {
            "text/plain": [
              "Series([], dtype: int64)"
            ]
          },
          "metadata": {},
          "execution_count": 44
        }
      ]
    },
    {
      "cell_type": "code",
      "source": [
        "df_ti22.datahora.max()"
      ],
      "metadata": {
        "colab": {
          "base_uri": "https://localhost:8080/"
        },
        "id": "R_iMI4f3okWr",
        "outputId": "fa71650a-3668-471e-8fd6-fca06e2e26b3"
      },
      "execution_count": null,
      "outputs": [
        {
          "output_type": "execute_result",
          "data": {
            "text/plain": [
              "Timestamp('2022-12-31 18:10:00')"
            ]
          },
          "metadata": {},
          "execution_count": 45
        }
      ]
    },
    {
      "cell_type": "code",
      "source": [
        "df_ti22.loc[df_ti22['datahora'] == '2022/06/18 17:39:00', ['estado']].value_counts()"
      ],
      "metadata": {
        "colab": {
          "base_uri": "https://localhost:8080/"
        },
        "id": "qCnohRSgttVk",
        "outputId": "38ee5636-9ad7-4764-f687-eebc38146dd0"
      },
      "execution_count": null,
      "outputs": [
        {
          "output_type": "execute_result",
          "data": {
            "text/plain": [
              "estado     \n",
              "AMAZONAS       22\n",
              "MATO GROSSO     9\n",
              "RONDONIA        1\n",
              "dtype: int64"
            ]
          },
          "metadata": {},
          "execution_count": 46
        }
      ]
    },
    {
      "cell_type": "code",
      "source": [
        "df_ti22.loc[df_ti22['datahora'].dt.date >= data_inicial, ['estado']].value_counts()"
      ],
      "metadata": {
        "colab": {
          "base_uri": "https://localhost:8080/"
        },
        "id": "detJw93AMyXS",
        "outputId": "f7df1a18-ab6a-4593-d8f4-7ea38415aa60"
      },
      "execution_count": null,
      "outputs": [
        {
          "output_type": "execute_result",
          "data": {
            "text/plain": [
              "estado     \n",
              "MATO GROSSO    49464\n",
              "PARA           40825\n",
              "RORAIMA        11681\n",
              "AMAZONAS        9394\n",
              "RONDONIA        9382\n",
              "ACRE            1894\n",
              "MARANHAO        1634\n",
              "AMAPA           1579\n",
              "TOCANTINS          3\n",
              "dtype: int64"
            ]
          },
          "metadata": {},
          "execution_count": 47
        }
      ]
    },
    {
      "cell_type": "code",
      "source": [
        "df_ti22.loc[((df_ti22['datahora'].dt.date >= data_inicial) & (df_ti22['datahora'].dt.date < data_final)), ['estado']].value_counts().plot.bar(color = 'orange')\n",
        "plt.title('Queimadas por Estado no Bioma Amazônico nas Terras Indígenas')\n",
        "plt.xlabel('Estados')\n",
        "plt.ylabel('Quantidade de focos')"
      ],
      "metadata": {
        "colab": {
          "base_uri": "https://localhost:8080/",
          "height": 605
        },
        "id": "LMNg6Ggza52k",
        "outputId": "ef43be9f-a100-4c39-df46-d2399373d4d4"
      },
      "execution_count": null,
      "outputs": [
        {
          "output_type": "execute_result",
          "data": {
            "text/plain": [
              "Text(0, 0.5, 'Quantidade de focos')"
            ]
          },
          "metadata": {},
          "execution_count": 48
        },
        {
          "output_type": "display_data",
          "data": {
            "text/plain": [
              "<Figure size 1080x576 with 1 Axes>"
            ],
            "image/png": "[encoded data removed]"
          },
          "metadata": {
            "needs_background": "light"
          }
        }
      ]
    },
    {
      "cell_type": "code",
      "source": [
        "df_ti22[(df_ti22['datahora'].dt.date >= data_inicial) & (df_ti22['datahora'].dt.date < data_final)].estado.value_counts().plot.bar(color = 'orange')\n",
        "plt.title('Queimadas por Estado no Bioma Amazônico nas Terras Indígenas')\n",
        "plt.xlabel('Estados')\n",
        "plt.ylabel('Quantidade de focos')"
      ],
      "metadata": {
        "colab": {
          "base_uri": "https://localhost:8080/",
          "height": 594
        },
        "id": "6rt2gXvMwjS_",
        "outputId": "9122fc4c-bef3-4501-9f6c-1700abda2592"
      },
      "execution_count": null,
      "outputs": [
        {
          "output_type": "execute_result",
          "data": {
            "text/plain": [
              "Text(0, 0.5, 'Quantidade de focos')"
            ]
          },
          "metadata": {},
          "execution_count": 49
        },
        {
          "output_type": "display_data",
          "data": {
            "text/plain": [
              "<Figure size 1080x576 with 1 Axes>"
            ],
            "image/png": "[encoded data removed]"
          },
          "metadata": {
            "needs_background": "light"
          }
        }
      ]
    },
    {
      "cell_type": "code",
      "source": [
        "data_atual = dt.date.today()\n",
        "data_atual"
      ],
      "metadata": {
        "colab": {
          "base_uri": "https://localhost:8080/"
        },
        "id": "BqBNIYNZDL32",
        "outputId": "f92cc536-e2ff-4583-a65e-86e1ebe18ac8"
      },
      "execution_count": null,
      "outputs": [
        {
          "output_type": "execute_result",
          "data": {
            "text/plain": [
              "datetime.date(2023, 1, 20)"
            ]
          },
          "metadata": {},
          "execution_count": 50
        }
      ]
    },
    {
      "cell_type": "code",
      "source": [
        "data_atual.timetuple()"
      ],
      "metadata": {
        "colab": {
          "base_uri": "https://localhost:8080/"
        },
        "id": "IGCVJPZyGB-I",
        "outputId": "0374d5c9-e9bb-43eb-b653-b86c4d379786"
      },
      "execution_count": null,
      "outputs": [
        {
          "output_type": "execute_result",
          "data": {
            "text/plain": [
              "time.struct_time(tm_year=2023, tm_mon=1, tm_mday=20, tm_hour=0, tm_min=0, tm_sec=0, tm_wday=4, tm_yday=20, tm_isdst=-1)"
            ]
          },
          "metadata": {},
          "execution_count": 51
        }
      ]
    },
    {
      "cell_type": "code",
      "source": [
        "df_ti22.loc[(df_ti22['datahora'].dt.date >= data_inicial), ['estado']].value_counts().plot.pie()\n",
        "plt.title('Queimadas por Estado no Bioma Amazônico nas Terras Indiígenas')\n",
        "plt.xlabel('Estados')\n",
        "plt.ylabel('Quantidade de focos')\n"
      ],
      "metadata": {
        "colab": {
          "base_uri": "https://localhost:8080/",
          "height": 513
        },
        "id": "dh9tlnke3j-Q",
        "outputId": "71758875-99f3-41fb-ec0d-d7b933c03068"
      },
      "execution_count": null,
      "outputs": [
        {
          "output_type": "execute_result",
          "data": {
            "text/plain": [
              "Text(0, 0.5, 'Quantidade de focos')"
            ]
          },
          "metadata": {},
          "execution_count": 52
        },
        {
          "output_type": "display_data",
          "data": {
            "text/plain": [
              "<Figure size 1080x576 with 1 Axes>"
            ],
            "image/png": "[encoded data removed]"
          },
          "metadata": {}
        }
      ]
    },
    {
      "cell_type": "code",
      "source": [
        "df_ti22.datahora = pd.to_datetime(df_ti22.datahora)"
      ],
      "metadata": {
        "id": "OGX7zVIa_Q-8"
      },
      "execution_count": null,
      "outputs": []
    },
    {
      "cell_type": "code",
      "source": [
        "df_ti21.datahora = pd.to_datetime(df_ti21.datahora)"
      ],
      "metadata": {
        "id": "23Fwojza_TTS"
      },
      "execution_count": null,
      "outputs": []
    },
    {
      "cell_type": "code",
      "source": [
        "df_ti20.datahora = pd.to_datetime(df_ti20.datahora)"
      ],
      "metadata": {
        "id": "CJ3YnV3g_UEy"
      },
      "execution_count": null,
      "outputs": []
    },
    {
      "cell_type": "code",
      "source": [
        "def intervalo_ti20_22():\n",
        "  inicio = input('Digite a Data Inicial Desejada no formato \"aaaa/mm/dd\": ')\n",
        "  final = input('Digite a Dta Final Desejada no formato \"aaaa/mm/dd\": ')\n",
        "  # A variavel data_inicio e data_final, servem para transformar as variaveis inicio e final, que são str, em datetime. Com a função date() para usar somente ano, mês, dia.\n",
        "  data_inicio = dt.datetime.strptime(inicio, '%Y/%m/%d').date()\n",
        "  data_final = dt.datetime.strptime(final, '%Y/%m/%d').date()\n",
        "  # Na variavel df_ti20_22, são concatenadas, juntadas as 3 dataframes para serem usadas na criação do gráfico com as função pd.concat().\n",
        "\n",
        "  area = plt.figure(figsize = ((12, 6)))\n",
        "\n",
        "  df_ti20_22 = pd.concat([df_ti20, df_ti21, df_ti22])\n",
        "\n",
        "\n",
        "  grafico1 = area.add_subplot(1, 2, 1)\n",
        "  grafico1 = df_ti20_22[(df_ti20_22['datahora'].dt.date >= data_inicio) & (df_ti20_22['datahora'].dt.date < data_final)].estado.value_counts().plot.bar(color = 'orange')\n",
        "  plt.title('Queimadas por Estado no Bioma Amazônico nas Terras Indígenas Entre 2020 e 2022.')\n",
        "  plt.xlabel('Estados')\n",
        "  plt.ylabel('Quantidade de focos')\n",
        "  \n",
        "\n",
        "  grafico2 = area.add_subplot(1, 2, 2)\n",
        "  grafico2 = df_ti20_22[(df_ti20_22['datahora'].dt.date >= data_inicio) & (df_ti20_22['datahora'].dt.date < data_final)].estado.value_counts().plot.pie()\n",
        "  plt.title('Queimadas por Estado no Bioma Amazônico nas Terras Indígenas Entre 2020 e 2022.')\n",
        "  plt.xlabel('Estados')\n",
        "  plt.ylabel('Quantidade de focos')\n",
        "  \n",
        "   \n",
        "\n",
        "intervalo_ti20_22()   "
      ],
      "metadata": {
        "colab": {
          "base_uri": "https://localhost:8080/",
          "height": 503
        },
        "id": "4DdmJiLUm-QK",
        "outputId": "f5acf1a5-3458-4a60-8ea5-5e130b5089a1"
      },
      "execution_count": null,
      "outputs": [
        {
          "name": "stdout",
          "output_type": "stream",
          "text": [
            "Digite a Data Inicial Desejada no formato \"aaaa/mm/dd\": 2020/01/01\n",
            "Digite a Dta Final Desejada no formato \"aaaa/mm/dd\": 2022/12/31\n"
          ]
        },
        {
          "output_type": "display_data",
          "data": {
            "text/plain": [
              "<Figure size 864x432 with 2 Axes>"
            ],
            "image/png": "[encoded data removed]"
          },
          "metadata": {
            "needs_background": "light"
          }
        }
      ]
    },
    {
      "cell_type": "code",
      "source": [
        "def intervalo_focos20_22():\n",
        "  \n",
        "  area = plt.figure(figsize = (15, 8))  \n",
        "\n",
        "  ano = int(input('Escolha o Ano Entre 2020 à 2022: '))\n",
        "\n",
        "  if ano == 2020:\n",
        "    m_d_inicio = input('Digite o Mês e o Dia \"mm/dd\": ')\n",
        "    m_d_final = input('Digite o Mês e o Dia \"mm/dd\": ')\n",
        "\n",
        "    m_inicio = int(m_d_inicio[:2])\n",
        "    d_inicio = int(m_d_inicio[3:])\n",
        "\n",
        "    m_final = int(m_d_final[:2])\n",
        "    d_final = int(m_d_final[3:])\n",
        "\n",
        "    data_inicio = dt.date(ano, m_inicio, d_inicio)\n",
        "    data_final = dt.date(ano, m_final, d_final)\n",
        "\n",
        "    \n",
        "    grafico1 = area.add_subplot(2, 2, 1)\n",
        "    grafico1 = df_uc20[(df_uc20['datahora'].dt.date >= data_inicio) & (df_uc20['datahora'].dt.date < data_final)].estado.value_counts().plot.bar(color = 'orange')\n",
        "    plt.title('Queimadas por Estado no Bioma Amazônico nas Unidades de Conservação.')\n",
        "    plt.xlabel('Estados')\n",
        "    plt.ylabel('Quantidade de focos')\n",
        "    \n",
        "    grafico2 = area.add_subplot(2, 2, 2)\n",
        "    grafico2 = df_ti20[(df_ti20['datahora'].dt.date >= data_inicio) & (df_ti20['datahora'].dt.date < data_final)].estado.value_counts().plot.bar(color = 'red')\n",
        "    plt.title('Queimadas por Estado no Bioma Amazônico nas Terras Indígenas.')\n",
        "    plt.xlabel('Estados')\n",
        "    plt.ylabel('Quantidade de focos')\n",
        "    \n",
        "    grafico3 = area.add_subplot(2, 2, 3)\n",
        "    grafico3 = df_focos20[(df_focos20['datahora'].dt.date >= data_inicio) & (df_focos20['datahora'].dt.date < data_final)].estado.value_counts().plot.bar(color = 'blue')\n",
        "    plt.title('Queimadas por Estado no Bioma Amazônico.')\n",
        "    plt.xlabel('Estados')\n",
        "    plt.ylabel('Quantidade de focos')\n",
        "    \n",
        "\n",
        "\n",
        "  if ano == 2021:    \n",
        "    m_d_inicio = input('Digite o Mês e o Dia \"mm/dd\": ')\n",
        "    m_d_final = input('Digite o Mês e o Dia \"mm/dd\": ')\n",
        "\n",
        "    m_inicio = int(m_d_inicio[:2])\n",
        "    d_inicio = int(m_d_inicio[3:])\n",
        "\n",
        "    m_final = int(m_d_final[:2])\n",
        "    d_final = int(m_d_final[3:])\n",
        "\n",
        "    data_inicio = dt.date(ano, m_inicio, d_inicio)\n",
        "    data_final = dt.date(ano, m_final, d_final)\n",
        "\n",
        "    \n",
        "\n",
        "    grafico1 = df_uc21[(df_uc21['datahora'].dt.date >= data_inicio) & (df_uc21['datahora'].dt.date < data_final)].estado.value_counts().plot.bar(color = 'orange')\n",
        "    plt.title('Queimadas por Estado no Bioma Amazônico nas Unidades de Conservação.')\n",
        "    plt.xlabel('Estados')\n",
        "    plt.ylabel('Quantidade de focos')\n",
        "    grafico1 = area.add_subplot(2, 2, 1)\n",
        "\n",
        "    grafico2 = df_ti21[(df_ti21['datahora'].dt.date >= data_inicio) & (df_ti21['datahora'].dt.date < data_final)].estado.value_counts().plot.bar(color = 'red')\n",
        "    plt.title('Queimadas por Estado no Bioma Amazônico nas Terras Indígenas.')\n",
        "    plt.xlabel('Estados')\n",
        "    plt.ylabel('Quantidade de focos')\n",
        "    grafico2 = area.add_subplot(2, 2, 2)\n",
        "  \n",
        "    grafico3 = df_focos21[(df_focos21['datahora'].dt.date >= data_inicio) & (df_focos21['datahora'].dt.date < data_final)].estado.value_counts().plot.bar(color = 'blue')\n",
        "    plt.title('Queimadas por Estado no Bioma Amazônico.')\n",
        "    plt.xlabel('Estados')\n",
        "    plt.ylabel('Quantidade de focos')\n",
        "    grafico3 = area.add_subplot(2, 2, 3)\n",
        "\n",
        "\n",
        "\n",
        "  if ano == 2022:\n",
        "    m_d_inicio = input('Digite o Mês e o Dia \"mm/dd\": ')\n",
        "    m_d_final = input('Digite o Mês e o Dia \"mm/dd\": ')\n",
        "\n",
        "    m_inicio = int(m_d_inicio[:2])\n",
        "    d_inicio = int(m_d_inicio[3:])\n",
        "\n",
        "    m_final = int(m_d_final[:2])\n",
        "    d_final = int(m_d_final[3:])\n",
        "\n",
        "    data_inicio = dt.date(ano, m_inicio, d_inicio)\n",
        "    data_final = dt.date(ano, m_final, d_final)\n",
        "\n",
        "    \n",
        "\n",
        "    grafico1 = df_uc22[(df_uc22['datahora'].dt.date >= data_inicio) & (df_uc22['datahora'].dt.date < data_final)].estado.value_counts().plot.bar(color = 'orange')\n",
        "    plt.title('Queimadas por Estado no Bioma Amazônico nas Unidades de Conservação.')\n",
        "    plt.xlabel('Estados')\n",
        "    plt.ylabel('Quantidade de focos')\n",
        "    grafico1 = area.add_subplot(2, 2, 1)\n",
        "\n",
        "    grafico2 = df_ti22[(df_ti22['datahora'].dt.date >= data_inicio) & (df_ti22['datahora'].dt.date < data_final)].estado.value_counts().plot.bar(color = 'red')\n",
        "    plt.title('Queimadas por Estado no Bioma Amazônico nas Terras Indígenas.')\n",
        "    plt.xlabel('Estados')\n",
        "    plt.ylabel('Quantidade de focos')\n",
        "    grafico2 = area.add_subplot(2, 2, 2)\n",
        "  \n",
        "    grafico3 = df_focos22[(df_focos22['datahora'].dt.date >= data_inicio) & (df_focos22['datahora'].dt.date < data_final)].estado.value_counts().plot.bar(color = 'blue')\n",
        "    plt.title('Queimadas por Estado no Bioma Amazônico.')\n",
        "    plt.xlabel('Estados')\n",
        "    plt.ylabel('Quantidade de focos')\n",
        "    grafico3 = area.add_subplot(2, 2, 3)\n",
        "\n",
        "intervalo_focos20_22()\n",
        " "
      ],
      "metadata": {
        "id": "qod2XFhxzJ8g",
        "colab": {
          "base_uri": "https://localhost:8080/",
          "height": 629
        },
        "outputId": "07984fa3-2e5d-4e8b-b848-bc81c88c9520"
      },
      "execution_count": null,
      "outputs": [
        {
          "name": "stdout",
          "output_type": "stream",
          "text": [
            "Escolha o Ano Entre 2020 à 2022: 2020\n",
            "Digite o Mês e o Dia \"mm/dd\": 01/01\n",
            "Digite o Mês e o Dia \"mm/dd\": 12/31\n"
          ]
        },
        {
          "output_type": "display_data",
          "data": {
            "text/plain": [
              "<Figure size 1080x576 with 3 Axes>"
            ],
            "image/png": "[encoded data removed]"
          },
          "metadata": {
            "needs_background": "light"
          }
        }
      ]
    }
  ]
}