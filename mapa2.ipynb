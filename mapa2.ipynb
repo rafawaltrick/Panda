{
  "nbformat": 4,
  "nbformat_minor": 0,
  "metadata": {
    "colab": {
      "provenance": [],
      "mount_file_id": "101z6Fx8QSYJML5nxoe0vm6F-mwIPR47o",
      "authorship_tag": "ABX9TyNgkqyQu4b3fCDMZ9UKoI/M",
      "include_colab_link": true
    },
    "kernelspec": {
      "name": "python3",
      "display_name": "Python 3"
    },
    "language_info": {
      "name": "python"
    }
  },
  "cells": [
    {
      "cell_type": "markdown",
      "metadata": {
        "id": "view-in-github",
        "colab_type": "text"
      },
      "source": [
        "<a href=\"https://colab.research.google.com/github/rafawaltrick/Pandas/blob/main/mapa2.ipynb\" target=\"_parent\"><img src=\"https://colab.research.google.com/assets/colab-badge.svg\" alt=\"Open In Colab\"/></a>"
      ]
    },
    {
      "cell_type": "code",
      "execution_count": 1,
      "metadata": {
        "colab": {
          "base_uri": "https://localhost:8080/"
        },
        "id": "Xd1mu8GHa3wb",
        "outputId": "49b69fb6-dee6-4584-c345-6a8899474923"
      },
      "outputs": [
        {
          "output_type": "stream",
          "name": "stdout",
          "text": [
            "Looking in indexes: https://pypi.org/simple, https://us-python.pkg.dev/colab-wheels/public/simple/\n",
            "Requirement already satisfied: folium in /usr/local/lib/python3.8/dist-packages (0.12.1.post1)\n",
            "Requirement already satisfied: jinja2>=2.9 in /usr/local/lib/python3.8/dist-packages (from folium) (2.11.3)\n",
            "Requirement already satisfied: branca>=0.3.0 in /usr/local/lib/python3.8/dist-packages (from folium) (0.6.0)\n",
            "Requirement already satisfied: numpy in /usr/local/lib/python3.8/dist-packages (from folium) (1.21.6)\n",
            "Requirement already satisfied: requests in /usr/local/lib/python3.8/dist-packages (from folium) (2.25.1)\n",
            "Requirement already satisfied: MarkupSafe>=0.23 in /usr/local/lib/python3.8/dist-packages (from jinja2>=2.9->folium) (2.0.1)\n",
            "Requirement already satisfied: urllib3<1.27,>=1.21.1 in /usr/local/lib/python3.8/dist-packages (from requests->folium) (1.24.3)\n",
            "Requirement already satisfied: idna<3,>=2.5 in /usr/local/lib/python3.8/dist-packages (from requests->folium) (2.10)\n",
            "Requirement already satisfied: certifi>=2017.4.17 in /usr/local/lib/python3.8/dist-packages (from requests->folium) (2022.12.7)\n",
            "Requirement already satisfied: chardet<5,>=3.0.2 in /usr/local/lib/python3.8/dist-packages (from requests->folium) (4.0.0)\n"
          ]
        }
      ],
      "source": [
        "pip install folium"
      ]
    },
    {
      "cell_type": "code",
      "source": [
        "pip install geopandas"
      ],
      "metadata": {
        "colab": {
          "base_uri": "https://localhost:8080/"
        },
        "id": "jxLwIbxOa9CU",
        "outputId": "ff697875-6ac4-4c3e-894c-2afff9d5c57d"
      },
      "execution_count": 2,
      "outputs": [
        {
          "output_type": "stream",
          "name": "stdout",
          "text": [
            "Looking in indexes: https://pypi.org/simple, https://us-python.pkg.dev/colab-wheels/public/simple/\n",
            "Requirement already satisfied: geopandas in /usr/local/lib/python3.8/dist-packages (0.12.2)\n",
            "Requirement already satisfied: pandas>=1.0.0 in /usr/local/lib/python3.8/dist-packages (from geopandas) (1.3.5)\n",
            "Requirement already satisfied: shapely>=1.7 in /usr/local/lib/python3.8/dist-packages (from geopandas) (2.0.0)\n",
            "Requirement already satisfied: pyproj>=2.6.1.post1 in /usr/local/lib/python3.8/dist-packages (from geopandas) (3.4.1)\n",
            "Requirement already satisfied: fiona>=1.8 in /usr/local/lib/python3.8/dist-packages (from geopandas) (1.8.22)\n",
            "Requirement already satisfied: packaging in /usr/local/lib/python3.8/dist-packages (from geopandas) (21.3)\n",
            "Requirement already satisfied: munch in /usr/local/lib/python3.8/dist-packages (from fiona>=1.8->geopandas) (2.5.0)\n",
            "Requirement already satisfied: setuptools in /usr/local/lib/python3.8/dist-packages (from fiona>=1.8->geopandas) (57.4.0)\n",
            "Requirement already satisfied: click-plugins>=1.0 in /usr/local/lib/python3.8/dist-packages (from fiona>=1.8->geopandas) (1.1.1)\n",
            "Requirement already satisfied: click>=4.0 in /usr/local/lib/python3.8/dist-packages (from fiona>=1.8->geopandas) (7.1.2)\n",
            "Requirement already satisfied: six>=1.7 in /usr/local/lib/python3.8/dist-packages (from fiona>=1.8->geopandas) (1.15.0)\n",
            "Requirement already satisfied: attrs>=17 in /usr/local/lib/python3.8/dist-packages (from fiona>=1.8->geopandas) (22.2.0)\n",
            "Requirement already satisfied: cligj>=0.5 in /usr/local/lib/python3.8/dist-packages (from fiona>=1.8->geopandas) (0.7.2)\n",
            "Requirement already satisfied: certifi in /usr/local/lib/python3.8/dist-packages (from fiona>=1.8->geopandas) (2022.12.7)\n",
            "Requirement already satisfied: numpy>=1.17.3 in /usr/local/lib/python3.8/dist-packages (from pandas>=1.0.0->geopandas) (1.21.6)\n",
            "Requirement already satisfied: pytz>=2017.3 in /usr/local/lib/python3.8/dist-packages (from pandas>=1.0.0->geopandas) (2022.7)\n",
            "Requirement already satisfied: python-dateutil>=2.7.3 in /usr/local/lib/python3.8/dist-packages (from pandas>=1.0.0->geopandas) (2.8.2)\n",
            "Requirement already satisfied: pyparsing!=3.0.5,>=2.0.2 in /usr/local/lib/python3.8/dist-packages (from packaging->geopandas) (3.0.9)\n"
          ]
        }
      ]
    },
    {
      "cell_type": "code",
      "source": [
        "import pandas as pd\n",
        "import datetime as dt\n",
        "import geopandas as gpd\n",
        "import folium\n",
        "from shapely.geometry import Polygon, Point, LineString\n",
        "%matplotlib inline\n",
        "import matplotlib.pyplot as plt\n",
        "plt.rc('figure', figsize = (15, 8))"
      ],
      "metadata": {
        "id": "52F6dj7tbBHb"
      },
      "execution_count": 3,
      "outputs": []
    },
    {
      "cell_type": "code",
      "source": [
        "dados_br = '/content/drive/MyDrive/Colab Notebooks/dados prot_amazonas/dados/brasil/BR_Pais_2021.shp'\n",
        "dados_amazonia_bioma = '/content/drive/MyDrive/Colab Notebooks/dados prot_amazonas/dados/bioma amazonico/amazon_biome_border.shp'\n",
        "dados_uc_am = '/content/drive/MyDrive/Colab Notebooks/dados prot_amazonas/dados/bioma amazonico/conservation_units_amazon_biome.shp'\n",
        "dados_ti_am = '/content/drive/MyDrive/Colab Notebooks/dados prot_amazonas/dados/bioma amazonico/indigenous_area_amazon_biome.shp'"
      ],
      "metadata": {
        "id": "Zr7w_Zfmbz-K"
      },
      "execution_count": 4,
      "outputs": []
    },
    {
      "cell_type": "code",
      "source": [
        "dfg_br = gpd.read_file(dados_br)\n",
        "dfg_uc_am = gpd.read_file(dados_uc_am)\n",
        "dgf_ti_am = gpd.read_file(dados_ti_am)\n",
        "dfg_am_bioma = gpd.read_file(dados_amazonia_bioma)"
      ],
      "metadata": {
        "id": "nWxlQ-gQb8nS"
      },
      "execution_count": 5,
      "outputs": []
    },
    {
      "cell_type": "code",
      "source": [
        "focos20 = '/content/drive/MyDrive/Colab Notebooks/dados prot_amazonas/dados/focos 2020/focos_20.csv'\n",
        "#focosUC20 = '/content/drive/MyDrive/Colab Notebooks/dados prot_amazonas/dados/focos 2020/focos_UC_20.csv'\n",
        "#focosTI20 = '/content/drive/MyDrive/Colab Notebooks/dados prot_amazonas/dados/focos 2020/focos_TI_20.csv'\n",
        "focos20_shp = '/content/drive/MyDrive/Colab Notebooks/dados prot_amazonas/dados/focos 2020/Focos_2020-01-01_2020-12-31.shp'\n",
        "#focosUC20_shp = '/content/drive/MyDrive/Colab Notebooks/dados prot_amazonas/dados/focos 2020/focos_UC_20.shp'\n",
        "#focosTI20_shp = '/content/drive/MyDrive/Colab Notebooks/dados prot_amazonas/dados/focos 2020/focos_TI_20.shp'"
      ],
      "metadata": {
        "id": "Fco3ipRubJEL"
      },
      "execution_count": 6,
      "outputs": []
    },
    {
      "cell_type": "code",
      "source": [
        "#df_ti20 = pd.read_csv(focosTI20)\n",
        "df_focos20 = pd.read_csv(focos20)\n",
        "#df_uc20 = pd.read_csv(focosUC20)\n",
        "dfg_focos20 =gpd.read_file(focos20_shp)\n",
        "#dfg_uc20 = gpd.read_file(focosUC20_shp)\n",
        "#dfg_ti20 = gpd.read_file(focosTI20_shp)"
      ],
      "metadata": {
        "id": "7T85rbCJcn6J"
      },
      "execution_count": 7,
      "outputs": []
    },
    {
      "cell_type": "code",
      "source": [
        "focos21 = '/content/drive/MyDrive/Colab Notebooks/dados prot_amazonas/dados/focos 2021/focos-21.csv'\n",
        "#focosUC21 = '/content/drive/MyDrive/Colab Notebooks/dados prot_amazonas/dados/focos 2021/focos-UC-21.csv'\n",
        "#focosTI21 = '/content/drive/MyDrive/Colab Notebooks/dados prot_amazonas/dados/focos 2021/focos-TI-21.csv'\n",
        "focos21_shp = '/content/drive/MyDrive/Colab Notebooks/dados prot_amazonas/dados/focos 2021/Focos_2021-01-01_2021-12-31.shp'\n",
        "#focosUC21_shp = '/content/drive/MyDrive/Colab Notebooks/dados prot_amazonas/dados/focos 2021/focos_UC.shp'\n",
        "#focosTI21_shp = '/content/drive/MyDrive/Colab Notebooks/dados prot_amazonas/dados/focos 2021/focos_ti_21.shp'"
      ],
      "metadata": {
        "id": "Wy53USiNbnya"
      },
      "execution_count": 8,
      "outputs": []
    },
    {
      "cell_type": "code",
      "source": [
        "#df_ti21 = pd.read_csv(focosTI21)\n",
        "df_focos21 = pd.read_csv(focos21)\n",
        "#df_uc21 = pd.read_csv(focosUC21)\n",
        "dfg_focos21 =gpd.read_file(focos21_shp)\n",
        "#dfg_uc21 = gpd.read_file(focosUC21_shp)\n",
        "#dfg_ti21 = gpd.read_file(focosTI21_shp)"
      ],
      "metadata": {
        "id": "Xv-h0eLZbtqi"
      },
      "execution_count": 9,
      "outputs": []
    },
    {
      "cell_type": "code",
      "source": [
        "focos22 = '/content/drive/MyDrive/Colab Notebooks/dados prot_amazonas/dados/focos 2022/focos-22.csv'\n",
        "#focosUC22 = '/content/drive/MyDrive/Colab Notebooks/dados prot_amazonas/dados/focos 2022/focos-UC-2022.csv'\n",
        "#focosTI22 = '/content/drive/MyDrive/Colab Notebooks/dados prot_amazonas/dados/focos 2022/focos-TI-2022.csv'\n",
        "focos22_shp = '/content/drive/MyDrive/Colab Notebooks/dados prot_amazonas/dados/focos 2022/Focos_2022-01-01_2022-12-31.shp'\n",
        "#focosUC22_shp = '/content/drive/MyDrive/Colab Notebooks/dados prot_amazonas/dados/focos 2022/focos_UC.shp'\n",
        "#focosTI22_shp = '/content/drive/MyDrive/Colab Notebooks/dados prot_amazonas/dados/focos 2022/focos_TI.shp'"
      ],
      "metadata": {
        "id": "fRSme_QDh3vH"
      },
      "execution_count": 10,
      "outputs": []
    },
    {
      "cell_type": "code",
      "source": [
        "#df_ti22 = pd.read_csv(focosTI22)\n",
        "df_focos22 = pd.read_csv(focos22)\n",
        "#df_uc22 = pd.read_csv(focosUC22)\n",
        "dfg_focos22 =gpd.read_file(focos22_shp)\n",
        "#dfg_uc22 = gpd.read_file(focosUC22_shp)\n",
        "#dfg_ti22 = gpd.read_file(focosTI22_shp)"
      ],
      "metadata": {
        "id": "0UoHXCT-j3ei"
      },
      "execution_count": 11,
      "outputs": []
    },
    {
      "cell_type": "code",
      "source": [
        "#df_ti20.datahora = pd.to_datetime(df_ti20.datahora)\n",
        "#df_ti21.datahora = pd.to_datetime(df_ti21.datahora)\n",
        "#df_ti22.datahora = pd.to_datetime(df_ti22.datahora)"
      ],
      "metadata": {
        "id": "9QrvSASmnn1S"
      },
      "execution_count": 12,
      "outputs": []
    },
    {
      "cell_type": "code",
      "source": [
        "#df_uc20.datahora = pd.to_datetime(df_ti20.datahora)\n",
        "#df_uc21.datahora = pd.to_datetime(df_uc21.datahora)\n",
        "#df_uc22.datahora = pd.to_datetime(df_uc22.datahora)"
      ],
      "metadata": {
        "id": "-4aV4j71noy5"
      },
      "execution_count": 13,
      "outputs": []
    },
    {
      "cell_type": "code",
      "source": [
        "df_focos20.datahora = pd.to_datetime(df_focos20.datahora)\n",
        "df_focos21.datahora = pd.to_datetime(df_focos21.datahora)\n",
        "df_focos22.datahora = pd.to_datetime(df_focos22.datahora)\n",
        "\n",
        "df_focos20_22 = pd.concat([df_focos20, df_focos21, df_focos22])"
      ],
      "metadata": {
        "id": "ZUMDEUf7nrEr"
      },
      "execution_count": 14,
      "outputs": []
    },
    {
      "cell_type": "code",
      "source": [
        "dfg_focos20.datahora = pd.to_datetime(dfg_focos20.datahora)\n",
        "dfg_focos21.datahora = pd.to_datetime(dfg_focos21.datahora)\n",
        "dfg_focos22.datahora = pd.to_datetime(dfg_focos22.datahora)\n",
        "\n",
        "dfg_focos20_22 = pd.concat([dfg_focos20, dfg_focos21, dfg_focos22]) "
      ],
      "metadata": {
        "id": "OD2983a3FHNw"
      },
      "execution_count": 15,
      "outputs": []
    },
    {
      "cell_type": "code",
      "source": [
        "dfg_focos20_22.info()"
      ],
      "metadata": {
        "colab": {
          "base_uri": "https://localhost:8080/"
        },
        "id": "WKTvsHSRG9WM",
        "outputId": "e83b5567-406d-4c28-a93e-caac8b6e5f27"
      },
      "execution_count": 16,
      "outputs": [
        {
          "output_type": "stream",
          "name": "stdout",
          "text": [
            "<class 'geopandas.geodataframe.GeoDataFrame'>\n",
            "Int64Index: 6741298 entries, 0 to 2585513\n",
            "Data columns (total 13 columns):\n",
            " #   Column      Dtype         \n",
            "---  ------      -----         \n",
            " 0   datahora    datetime64[ns]\n",
            " 1   satelite    object        \n",
            " 2   pais        object        \n",
            " 3   estado      object        \n",
            " 4   municipio   object        \n",
            " 5   bioma       object        \n",
            " 6   diasemchuv  float64       \n",
            " 7   precipitac  float64       \n",
            " 8   riscofogo   float64       \n",
            " 9   latitude    float64       \n",
            " 10  longitude   float64       \n",
            " 11  frp         float64       \n",
            " 12  geometry    geometry      \n",
            "dtypes: datetime64[ns](1), float64(6), geometry(1), object(5)\n",
            "memory usage: 720.0+ MB\n"
          ]
        }
      ]
    },
    {
      "cell_type": "code",
      "source": [
        "# Para mostrar todos os dados do mapa e facilitar na visualização e renderização dos dados, vou utilizar um plugin do folium.\n",
        "from folium.plugins import FastMarkerCluster\n",
        "#Criando mapas de calor com o plugin HeatMap.\n",
        "from folium.plugins import HeatMap"
      ],
      "metadata": {
        "id": "nn6D3wwYGZld"
      },
      "execution_count": 17,
      "outputs": []
    },
    {
      "cell_type": "code",
      "source": [
        "def intervalo_focos20_22():\n",
        "  inicio = input('Digite a Data Inicial Desejada no formato \"aaaa/mm/dd\": ')\n",
        "  final = input('Digite a Dta Final Desejada no formato \"aaaa/mm/dd\": ')\n",
        "  # A variavel data_inicio e data_final, servem para transformar as variaveis inicio e final, que são str, em datetime. Com a função date() para usar somente ano, mês, dia.\n",
        "  data_inicio = dt.datetime.strptime(inicio, '%Y/%m/%d').date()\n",
        "  data_final = dt.datetime.strptime(final, '%Y/%m/%d').date()\n",
        "  # Na variavel df_focos20_22, são concatenadas, juntadas as 3 dataframes para serem usadas na criação do gráfico com as função pd.concat().\n",
        "\n",
        "  area = plt.figure(figsize = ((12, 6)))\n",
        "\n",
        "  intervalo = df_focos20_22[(df_focos20_22['datahora'].dt.date >= data_inicio) & (df_focos20_22['datahora'].dt.date < data_final)].estado.value_counts()\n",
        "\n",
        "\n",
        "  # Primeiro trazemos a gdf(geodataframe) com os dados de fogo.\n",
        "  dfg_focos20_22\n",
        "\n",
        "  #Retornar o zoom do mapa em relação a latitude e longitude dos focos.\n",
        "  media_lat = dfg_focos20_22['latitude'].mean()\n",
        "  media_lon = dfg_focos20_22['longitude'].mean()\n",
        "\n",
        "  #Trazemos o mapa com o parametro de localização das médias lat e lon.\n",
        "  mapa = folium.Map(location = [media_lat, media_lon], zoom_start = 5, tiles = 'cartodbpositron')\n",
        "\n",
        "  #Adicionar as fronteiras do bioma. Trocar o estilo através do 'style_function'.\n",
        "  limites = folium.GeoJson(dfg_am_bioma,\n",
        "                         style_function = lambda feture: {\n",
        "                             'color': 'black',\n",
        "                             #tamanho\n",
        "                             'weight': 2,\n",
        "                             #opacidade\n",
        "                             'fillOpacity': 0.0\n",
        "                         })\n",
        "  \n",
        "  mapa1 = mapa.add_to(limites)\n",
        "\n",
        "  folium.Marker(\n",
        "      location = [limites]\n",
        "      icon = folium.Icon(icon = 'bi bi-fire')\n",
        "  )\n",
        "  \n",
        "  mc = FastMarkerCluster(dfg_focos20_22[['latitude', 'longitude']])\n",
        "  \n",
        "  mapa1 = mapa.add_child(mc)\n",
        "\n",
        "  grafico1 = area.add_subplot(2, 2, 1)\n",
        "  grafico1 = intervalo.plot.bar(color = 'orange')\n",
        "  plt.title('Queimadas por Estado no Bioma Amazônico Entre 2020 e 2022.')\n",
        "  plt.xlabel('Estados')\n",
        "  plt.ylabel('Quantidade de focos')\n",
        "  \n",
        "\n",
        "  grafico2 = area.add_subplot(2, 2, 2)\n",
        "  grafico2 = intervalo.plot.pie()\n",
        "  plt.title('Queimadas por Estado no Bioma Amazônico Entre 2020 e 2022.')\n",
        "  plt.xlabel('Estados')\n",
        "  plt.ylabel('Quantidade de focos')\n",
        "\n",
        " \n",
        "  area1 = plt.figure(figsize = ((15, 15)))\n",
        "  mapa1 = area1.add_subplot(1, 1, 1)\n",
        " \n",
        " \n",
        "\n",
        " \n",
        " \n",
        "  \n",
        "  \n",
        "   \n",
        "\n",
        "intervalo_focos20_22()   "
      ],
      "metadata": {
        "colab": {
          "base_uri": "https://localhost:8080/",
          "height": 1000
        },
        "id": "YJry586qj_P7",
        "outputId": "22abe228-7f7f-433c-f5d1-440d64339fe4"
      },
      "execution_count": 20,
      "outputs": [
        {
          "name": "stdout",
          "output_type": "stream",
          "text": [
            "Digite a Data Inicial Desejada no formato \"aaaa/mm/dd\": 2020/01/01\n",
            "Digite a Dta Final Desejada no formato \"aaaa/mm/dd\": 2020/01/10\n"
          ]
        },
        {
          "output_type": "display_data",
          "data": {
            "text/plain": [
              "<Figure size 864x432 with 2 Axes>"
            ],
            "image/png": "[encoded data removed]"
          },
          "metadata": {
            "needs_background": "light"
          }
        },
        {
          "output_type": "display_data",
          "data": {
            "text/plain": [
              "<Figure size 1080x1080 with 1 Axes>"
            ],
            "image/png": "[encoded data removed]"
          },
          "metadata": {
            "needs_background": "light"
          }
        }
      ]
    },
    {
      "cell_type": "code",
      "source": [
        " # # Primeiro trazemos a gdf(geodataframe) com os dados de fogo.\n",
        "dfg_focos20_22\n",
        " # #Retornar o zoom do mapa em relação a latitude e longitude dos focos.\n",
        "media_lat = dfg_focos20_22['latitude'].mean()\n",
        "media_lon = dfg_focos20_22['longitude'].mean()\n",
        " # #Trazemos o mapa com o parametro de localização das médias lat e lon.\n",
        "mapa = folium.Map(location = [media_lat, media_lon], tiles = 'cartodbpositron')\n",
        " # #Adicionar as fronteiras do bioma. Trocar o estilo através do 'style_function'.\n",
        "limites = folium.GeoJson(dfg_am_bioma,\n",
        "                         style_function = lambda feture: {\n",
        "                             'color': 'black',\n",
        "                             #tamanho\n",
        "                             'weight': 2,\n",
        "                             #opacidade\n",
        "                             'fillOpacity': 0.0\n",
        "                         })\n",
        "# #Inserir os dados no mapa mas utilizando o plugin.\n",
        "mc = FastMarkerCluster(dfg_focos20_22[['latitude', 'longitude']])\n",
        "# #Adicionar o 'limite' ao mapa.\n",
        "mapa.add_child(limites)\n",
        "# #Adicionar os dados no mapa.\n",
        "mapa.add_child(mc)"
      ],
      "metadata": {
        "id": "60ZE8X1uk-B5"
      },
      "execution_count": null,
      "outputs": []
    },
    {
      "cell_type": "code",
      "source": [
        "mapa\n"
      ],
      "metadata": {
        "id": "m-U1go8XWuOi"
      },
      "execution_count": null,
      "outputs": []
    }
  ]
}