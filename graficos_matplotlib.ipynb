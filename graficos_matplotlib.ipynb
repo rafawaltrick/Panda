{
  "nbformat": 4,
  "nbformat_minor": 0,
  "metadata": {
    "colab": {
      "provenance": [],
      "authorship_tag": "ABX9TyMdwg4dgYv4cTo69QXRpvqL",
      "include_colab_link": true
    },
    "kernelspec": {
      "name": "python3",
      "display_name": "Python 3"
    },
    "language_info": {
      "name": "python"
    }
  },
  "cells": [
    {
      "cell_type": "markdown",
      "metadata": {
        "id": "view-in-github",
        "colab_type": "text"
      },
      "source": [
        "<a href=\"https://colab.research.google.com/github/rafawaltrick/Pandas/blob/main/graficos_matplotlib.ipynb\" target=\"_parent\"><img src=\"https://colab.research.google.com/assets/colab-badge.svg\" alt=\"Open In Colab\"/></a>"
      ]
    },
    {
      "cell_type": "code",
      "execution_count": 43,
      "metadata": {
        "id": "6foqezwue2pV"
      },
      "outputs": [],
      "source": [
        "import pandas as pd\n",
        "import matplotlib.pyplot as plt \n",
        "%matplotlib inline\n"
      ]
    },
    {
      "cell_type": "code",
      "source": [
        "dados_12_2022 = 'https://queimadas.dgi.inpe.br/home/downloadfile?path=%2Fapp%2Fapi%2Fdata%2Fdados_abertos%2Ffocos%2FMensal%2Ffocos_abertos_mensal_202212.csv'"
      ],
      "metadata": {
        "id": "Jo55tNKFg_wQ"
      },
      "execution_count": 44,
      "outputs": []
    },
    {
      "cell_type": "code",
      "source": [
        "dados_12 = pd.read_csv(dados_12_2022)"
      ],
      "metadata": {
        "colab": {
          "base_uri": "https://localhost:8080/"
        },
        "id": "v6R5YuET5Ucm",
        "outputId": "2c1d1034-66de-44a0-9120-d0a84b06c85a"
      },
      "execution_count": 45,
      "outputs": [
        {
          "output_type": "stream",
          "name": "stderr",
          "text": [
            "/usr/local/lib/python3.8/dist-packages/IPython/core/interactiveshell.py:3326: DtypeWarning: Columns (14) have mixed types.Specify dtype option on import or set low_memory=False.\n",
            "  exec(code_obj, self.user_global_ns, self.user_ns)\n"
          ]
        }
      ]
    },
    {
      "cell_type": "code",
      "source": [
        "america_do_sul = ['Venezuela', 'Brasil', 'Peru', 'Bolivia', 'Chile', 'Argentina', 'Ecuador', 'Paraguay', 'Colombia', 'Uruguay', 'Guyana', 'Suriname']"
      ],
      "metadata": {
        "id": "z9XNnMyz5YFu"
      },
      "execution_count": 46,
      "outputs": []
    },
    {
      "cell_type": "code",
      "source": [
        "paises_america_sul_12 = dados_12['pais'].isin(america_do_sul)"
      ],
      "metadata": {
        "id": "VO1p-y5J5rwN"
      },
      "execution_count": 47,
      "outputs": []
    },
    {
      "cell_type": "code",
      "source": [
        "tabela_paises_america_sul_12 = dados_12[paises_america_sul_12].copy()"
      ],
      "metadata": {
        "id": "TY4_-kjx5zIN"
      },
      "execution_count": 48,
      "outputs": []
    },
    {
      "cell_type": "code",
      "source": [
        "display(paises_america_sul_12)"
      ],
      "metadata": {
        "colab": {
          "base_uri": "https://localhost:8080/",
          "height": 225
        },
        "id": "hYm_ijb_566F",
        "outputId": "6fe5c7b0-50d9-44a5-9f50-c85116d51715"
      },
      "execution_count": 49,
      "outputs": [
        {
          "output_type": "display_data",
          "data": {
            "text/plain": [
              "0          False\n",
              "1           True\n",
              "2           True\n",
              "3           True\n",
              "4           True\n",
              "           ...  \n",
              "2465380    False\n",
              "2465381    False\n",
              "2465382    False\n",
              "2465383    False\n",
              "2465384    False\n",
              "Name: pais, Length: 2465385, dtype: bool"
            ]
          },
          "metadata": {}
        }
      ]
    },
    {
      "cell_type": "code",
      "source": [
        "tabela_paises_america_sul_12"
      ],
      "metadata": {
        "colab": {
          "base_uri": "https://localhost:8080/",
          "height": 956
        },
        "id": "DgaHEFDL7Flu",
        "outputId": "014c8097-b444-4484-cdd3-adb2c8936b74"
      },
      "execution_count": 50,
      "outputs": [
        {
          "output_type": "execute_result",
          "data": {
            "text/plain": [
              "                                           id      lat      lon  \\\n",
              "1        a6f3fd60-c7df-349e-92ec-5603d351e0f9  -2.9669 -48.1228   \n",
              "2        ff2c3121-180e-3f1a-b21d-78e27ffd094b  -3.3770 -47.5228   \n",
              "3        2115f9e2-3843-30ef-9ef5-1efa2f5211f4  -3.3769 -47.5446   \n",
              "4        b0b09ccb-7537-3b5f-850f-8e04d0de7f43  -3.3220 -47.3940   \n",
              "5        0f5e62e5-2cea-336c-b9f5-3ae46e330ad1  -3.3584 -47.5453   \n",
              "...                                       ...      ...      ...   \n",
              "2465303  cff3ac80-b7a1-3ccf-8df0-e9f3554d72ef -23.4711 -59.6061   \n",
              "2465304  7b9794bd-fde2-3082-84cc-02840935d661 -23.4924 -59.5820   \n",
              "2465305  49e59775-9a11-3115-8a72-72f23da0f00e -23.4318 -63.1747   \n",
              "2465306  2b5fa12a-5822-382f-b2f3-cc2505fda78e -23.4715 -59.5850   \n",
              "2465307  9cf9116b-f5ba-3b8b-b9a9-3ff2d5c0327c -24.4119 -63.3368   \n",
              "\n",
              "               data_hora_gmt satelite        municipio            estado  \\\n",
              "1        2022-12-01 00:05:23  GOES-16  IPIXUNA DO PARÁ              PARÁ   \n",
              "2        2022-12-01 00:05:25  GOES-16      PARAGOMINAS              PARÁ   \n",
              "3        2022-12-01 00:05:25  GOES-16      PARAGOMINAS              PARÁ   \n",
              "4        2022-12-01 00:05:25  GOES-16      PARAGOMINAS              PARÁ   \n",
              "5        2022-12-01 00:05:25  GOES-16      PARAGOMINAS              PARÁ   \n",
              "...                      ...      ...              ...               ...   \n",
              "2465303  2022-12-28 23:57:16  GOES-16      Villa Hayes  Presidente Hayes   \n",
              "2465304  2022-12-28 23:57:16  GOES-16      Villa Hayes  Presidente Hayes   \n",
              "2465305  2022-12-28 23:57:16  GOES-16        Rivadavia             Salta   \n",
              "2465306  2022-12-28 23:57:16  GOES-16      Villa Hayes  Presidente Hayes   \n",
              "2465307  2022-12-28 23:57:21  GOES-16             Anta             Salta   \n",
              "\n",
              "              pais  municipio_id  estado_id  pais_id  numero_dias_sem_chuva  \\\n",
              "1           Brasil       1503457         15       33                    2.0   \n",
              "2           Brasil       1505502         15       33                    1.0   \n",
              "3           Brasil       1505502         15       33                    0.0   \n",
              "4           Brasil       1505502         15       33                    6.0   \n",
              "5           Brasil       1505502         15       33                    0.0   \n",
              "...            ...           ...        ...      ...                    ...   \n",
              "2465303   Paraguay           203         17      177                    4.0   \n",
              "2465304   Paraguay           203         17      177                    4.0   \n",
              "2465305  Argentina           400         17       12                    4.0   \n",
              "2465306   Paraguay           203         17      177                    4.0   \n",
              "2465307  Argentina           382         17       12                    3.0   \n",
              "\n",
              "         precipitacao  risco_fogo     bioma    frp  \\\n",
              "1               17.00        0.00  Amazônia   43.7   \n",
              "2                5.81        0.06  Amazônia  109.1   \n",
              "3                5.90        0.01  Amazônia  139.3   \n",
              "4                4.92        0.29  Amazônia   81.3   \n",
              "5                5.07        0.02  Amazônia   63.7   \n",
              "...               ...         ...       ...    ...   \n",
              "2465303          0.00        0.48       NaN  118.4   \n",
              "2465304          0.00        0.53       NaN  123.2   \n",
              "2465305          0.00        1.00       NaN   96.1   \n",
              "2465306          0.00        0.52       NaN  421.3   \n",
              "2465307          0.00        1.00       NaN   97.9   \n",
              "\n",
              "                                                      geom  \n",
              "1        0101000020E610000072F90FE9B70F48C0EA04341136BC...  \n",
              "2        0101000020E6100000A52C431CEBC247C06ABC74931804...  \n",
              "3        0101000020E610000068B3EA73B5C547C032E6AE25E403...  \n",
              "4        0101000020E6100000DF4F8D976EB247C0FA7E6ABC7493...  \n",
              "5        0101000020E61000002041F163CCC547C05917B7D100DE...  \n",
              "...                                                    ...  \n",
              "2465303  0101000020E6100000840D4FAF94CD4DC0462575029A78...  \n",
              "2465304  0101000020E6100000D122DBF97ECA4DC0E78C28ED0D7E...  \n",
              "2465305  0101000020E61000003C4ED1915C964FC0AD69DE718A6E...  \n",
              "2465306  0101000020E61000007B14AE47E1CA4DC062105839B478...  \n",
              "2465307  0101000020E61000007AA52C431CAB4FC0EF3845477269...  \n",
              "\n",
              "[291706 rows x 17 columns]"
            ],
            "text/html": [
              "\n",
              "  <div id=\"df-82f4fb85-1513-440b-904a-9acf1f4a9b9c\">\n",
              "    <div class=\"colab-df-container\">\n",
              "      <div>\n",
              "<style scoped>\n",
              "    .dataframe tbody tr th:only-of-type {\n",
              "        vertical-align: middle;\n",
              "    }\n",
              "\n",
              "    .dataframe tbody tr th {\n",
              "        vertical-align: top;\n",
              "    }\n",
              "\n",
              "    .dataframe thead th {\n",
              "        text-align: right;\n",
              "    }\n",
              "</style>\n",
              "<table border=\"1\" class=\"dataframe\">\n",
              "  <thead>\n",
              "    <tr style=\"text-align: right;\">\n",
              "      <th></th>\n",
              "      <th>id</th>\n",
              "      <th>lat</th>\n",
              "      <th>lon</th>\n",
              "      <th>data_hora_gmt</th>\n",
              "      <th>satelite</th>\n",
              "      <th>municipio</th>\n",
              "      <th>estado</th>\n",
              "      <th>pais</th>\n",
              "      <th>municipio_id</th>\n",
              "      <th>estado_id</th>\n",
              "      <th>pais_id</th>\n",
              "      <th>numero_dias_sem_chuva</th>\n",
              "      <th>precipitacao</th>\n",
              "      <th>risco_fogo</th>\n",
              "      <th>bioma</th>\n",
              "      <th>frp</th>\n",
              "      <th>geom</th>\n",
              "    </tr>\n",
              "  </thead>\n",
              "  <tbody>\n",
              "    <tr>\n",
              "      <th>1</th>\n",
              "      <td>a6f3fd60-c7df-349e-92ec-5603d351e0f9</td>\n",
              "      <td>-2.9669</td>\n",
              "      <td>-48.1228</td>\n",
              "      <td>2022-12-01 00:05:23</td>\n",
              "      <td>GOES-16</td>\n",
              "      <td>IPIXUNA DO PARÁ</td>\n",
              "      <td>PARÁ</td>\n",
              "      <td>Brasil</td>\n",
              "      <td>1503457</td>\n",
              "      <td>15</td>\n",
              "      <td>33</td>\n",
              "      <td>2.0</td>\n",
              "      <td>17.00</td>\n",
              "      <td>0.00</td>\n",
              "      <td>Amazônia</td>\n",
              "      <td>43.7</td>\n",
              "      <td>0101000020E610000072F90FE9B70F48C0EA04341136BC...</td>\n",
              "    </tr>\n",
              "    <tr>\n",
              "      <th>2</th>\n",
              "      <td>ff2c3121-180e-3f1a-b21d-78e27ffd094b</td>\n",
              "      <td>-3.3770</td>\n",
              "      <td>-47.5228</td>\n",
              "      <td>2022-12-01 00:05:25</td>\n",
              "      <td>GOES-16</td>\n",
              "      <td>PARAGOMINAS</td>\n",
              "      <td>PARÁ</td>\n",
              "      <td>Brasil</td>\n",
              "      <td>1505502</td>\n",
              "      <td>15</td>\n",
              "      <td>33</td>\n",
              "      <td>1.0</td>\n",
              "      <td>5.81</td>\n",
              "      <td>0.06</td>\n",
              "      <td>Amazônia</td>\n",
              "      <td>109.1</td>\n",
              "      <td>0101000020E6100000A52C431CEBC247C06ABC74931804...</td>\n",
              "    </tr>\n",
              "    <tr>\n",
              "      <th>3</th>\n",
              "      <td>2115f9e2-3843-30ef-9ef5-1efa2f5211f4</td>\n",
              "      <td>-3.3769</td>\n",
              "      <td>-47.5446</td>\n",
              "      <td>2022-12-01 00:05:25</td>\n",
              "      <td>GOES-16</td>\n",
              "      <td>PARAGOMINAS</td>\n",
              "      <td>PARÁ</td>\n",
              "      <td>Brasil</td>\n",
              "      <td>1505502</td>\n",
              "      <td>15</td>\n",
              "      <td>33</td>\n",
              "      <td>0.0</td>\n",
              "      <td>5.90</td>\n",
              "      <td>0.01</td>\n",
              "      <td>Amazônia</td>\n",
              "      <td>139.3</td>\n",
              "      <td>0101000020E610000068B3EA73B5C547C032E6AE25E403...</td>\n",
              "    </tr>\n",
              "    <tr>\n",
              "      <th>4</th>\n",
              "      <td>b0b09ccb-7537-3b5f-850f-8e04d0de7f43</td>\n",
              "      <td>-3.3220</td>\n",
              "      <td>-47.3940</td>\n",
              "      <td>2022-12-01 00:05:25</td>\n",
              "      <td>GOES-16</td>\n",
              "      <td>PARAGOMINAS</td>\n",
              "      <td>PARÁ</td>\n",
              "      <td>Brasil</td>\n",
              "      <td>1505502</td>\n",
              "      <td>15</td>\n",
              "      <td>33</td>\n",
              "      <td>6.0</td>\n",
              "      <td>4.92</td>\n",
              "      <td>0.29</td>\n",
              "      <td>Amazônia</td>\n",
              "      <td>81.3</td>\n",
              "      <td>0101000020E6100000DF4F8D976EB247C0FA7E6ABC7493...</td>\n",
              "    </tr>\n",
              "    <tr>\n",
              "      <th>5</th>\n",
              "      <td>0f5e62e5-2cea-336c-b9f5-3ae46e330ad1</td>\n",
              "      <td>-3.3584</td>\n",
              "      <td>-47.5453</td>\n",
              "      <td>2022-12-01 00:05:25</td>\n",
              "      <td>GOES-16</td>\n",
              "      <td>PARAGOMINAS</td>\n",
              "      <td>PARÁ</td>\n",
              "      <td>Brasil</td>\n",
              "      <td>1505502</td>\n",
              "      <td>15</td>\n",
              "      <td>33</td>\n",
              "      <td>0.0</td>\n",
              "      <td>5.07</td>\n",
              "      <td>0.02</td>\n",
              "      <td>Amazônia</td>\n",
              "      <td>63.7</td>\n",
              "      <td>0101000020E61000002041F163CCC547C05917B7D100DE...</td>\n",
              "    </tr>\n",
              "    <tr>\n",
              "      <th>...</th>\n",
              "      <td>...</td>\n",
              "      <td>...</td>\n",
              "      <td>...</td>\n",
              "      <td>...</td>\n",
              "      <td>...</td>\n",
              "      <td>...</td>\n",
              "      <td>...</td>\n",
              "      <td>...</td>\n",
              "      <td>...</td>\n",
              "      <td>...</td>\n",
              "      <td>...</td>\n",
              "      <td>...</td>\n",
              "      <td>...</td>\n",
              "      <td>...</td>\n",
              "      <td>...</td>\n",
              "      <td>...</td>\n",
              "      <td>...</td>\n",
              "    </tr>\n",
              "    <tr>\n",
              "      <th>2465303</th>\n",
              "      <td>cff3ac80-b7a1-3ccf-8df0-e9f3554d72ef</td>\n",
              "      <td>-23.4711</td>\n",
              "      <td>-59.6061</td>\n",
              "      <td>2022-12-28 23:57:16</td>\n",
              "      <td>GOES-16</td>\n",
              "      <td>Villa Hayes</td>\n",
              "      <td>Presidente Hayes</td>\n",
              "      <td>Paraguay</td>\n",
              "      <td>203</td>\n",
              "      <td>17</td>\n",
              "      <td>177</td>\n",
              "      <td>4.0</td>\n",
              "      <td>0.00</td>\n",
              "      <td>0.48</td>\n",
              "      <td>NaN</td>\n",
              "      <td>118.4</td>\n",
              "      <td>0101000020E6100000840D4FAF94CD4DC0462575029A78...</td>\n",
              "    </tr>\n",
              "    <tr>\n",
              "      <th>2465304</th>\n",
              "      <td>7b9794bd-fde2-3082-84cc-02840935d661</td>\n",
              "      <td>-23.4924</td>\n",
              "      <td>-59.5820</td>\n",
              "      <td>2022-12-28 23:57:16</td>\n",
              "      <td>GOES-16</td>\n",
              "      <td>Villa Hayes</td>\n",
              "      <td>Presidente Hayes</td>\n",
              "      <td>Paraguay</td>\n",
              "      <td>203</td>\n",
              "      <td>17</td>\n",
              "      <td>177</td>\n",
              "      <td>4.0</td>\n",
              "      <td>0.00</td>\n",
              "      <td>0.53</td>\n",
              "      <td>NaN</td>\n",
              "      <td>123.2</td>\n",
              "      <td>0101000020E6100000D122DBF97ECA4DC0E78C28ED0D7E...</td>\n",
              "    </tr>\n",
              "    <tr>\n",
              "      <th>2465305</th>\n",
              "      <td>49e59775-9a11-3115-8a72-72f23da0f00e</td>\n",
              "      <td>-23.4318</td>\n",
              "      <td>-63.1747</td>\n",
              "      <td>2022-12-28 23:57:16</td>\n",
              "      <td>GOES-16</td>\n",
              "      <td>Rivadavia</td>\n",
              "      <td>Salta</td>\n",
              "      <td>Argentina</td>\n",
              "      <td>400</td>\n",
              "      <td>17</td>\n",
              "      <td>12</td>\n",
              "      <td>4.0</td>\n",
              "      <td>0.00</td>\n",
              "      <td>1.00</td>\n",
              "      <td>NaN</td>\n",
              "      <td>96.1</td>\n",
              "      <td>0101000020E61000003C4ED1915C964FC0AD69DE718A6E...</td>\n",
              "    </tr>\n",
              "    <tr>\n",
              "      <th>2465306</th>\n",
              "      <td>2b5fa12a-5822-382f-b2f3-cc2505fda78e</td>\n",
              "      <td>-23.4715</td>\n",
              "      <td>-59.5850</td>\n",
              "      <td>2022-12-28 23:57:16</td>\n",
              "      <td>GOES-16</td>\n",
              "      <td>Villa Hayes</td>\n",
              "      <td>Presidente Hayes</td>\n",
              "      <td>Paraguay</td>\n",
              "      <td>203</td>\n",
              "      <td>17</td>\n",
              "      <td>177</td>\n",
              "      <td>4.0</td>\n",
              "      <td>0.00</td>\n",
              "      <td>0.52</td>\n",
              "      <td>NaN</td>\n",
              "      <td>421.3</td>\n",
              "      <td>0101000020E61000007B14AE47E1CA4DC062105839B478...</td>\n",
              "    </tr>\n",
              "    <tr>\n",
              "      <th>2465307</th>\n",
              "      <td>9cf9116b-f5ba-3b8b-b9a9-3ff2d5c0327c</td>\n",
              "      <td>-24.4119</td>\n",
              "      <td>-63.3368</td>\n",
              "      <td>2022-12-28 23:57:21</td>\n",
              "      <td>GOES-16</td>\n",
              "      <td>Anta</td>\n",
              "      <td>Salta</td>\n",
              "      <td>Argentina</td>\n",
              "      <td>382</td>\n",
              "      <td>17</td>\n",
              "      <td>12</td>\n",
              "      <td>3.0</td>\n",
              "      <td>0.00</td>\n",
              "      <td>1.00</td>\n",
              "      <td>NaN</td>\n",
              "      <td>97.9</td>\n",
              "      <td>0101000020E61000007AA52C431CAB4FC0EF3845477269...</td>\n",
              "    </tr>\n",
              "  </tbody>\n",
              "</table>\n",
              "<p>291706 rows × 17 columns</p>\n",
              "</div>\n",
              "      <button class=\"colab-df-convert\" onclick=\"convertToInteractive('df-82f4fb85-1513-440b-904a-9acf1f4a9b9c')\"\n",
              "              title=\"Convert this dataframe to an interactive table.\"\n",
              "              style=\"display:none;\">\n",
              "        \n",
              "  <svg xmlns=\"http://www.w3.org/2000/svg\" height=\"24px\"viewBox=\"0 0 24 24\"\n",
              "       width=\"24px\">\n",
              "    <path d=\"M0 0h24v24H0V0z\" fill=\"none\"/>\n",
              "    <path d=\"M18.56 5.44l.94 2.06.94-2.06 2.06-.94-2.06-.94-.94-2.06-.94 2.06-2.06.94zm-11 1L8.5 8.5l.94-2.06 2.06-.94-2.06-.94L8.5 2.5l-.94 2.06-2.06.94zm10 10l.94 2.06.94-2.06 2.06-.94-2.06-.94-.94-2.06-.94 2.06-2.06.94z\"/><path d=\"M17.41 7.96l-1.37-1.37c-.4-.4-.92-.59-1.43-.59-.52 0-1.04.2-1.43.59L10.3 9.45l-7.72 7.72c-.78.78-.78 2.05 0 2.83L4 21.41c.39.39.9.59 1.41.59.51 0 1.02-.2 1.41-.59l7.78-7.78 2.81-2.81c.8-.78.8-2.07 0-2.86zM5.41 20L4 18.59l7.72-7.72 1.47 1.35L5.41 20z\"/>\n",
              "  </svg>\n",
              "      </button>\n",
              "      \n",
              "  <style>\n",
              "    .colab-df-container {\n",
              "      display:flex;\n",
              "      flex-wrap:wrap;\n",
              "      gap: 12px;\n",
              "    }\n",
              "\n",
              "    .colab-df-convert {\n",
              "      background-color: #E8F0FE;\n",
              "      border: none;\n",
              "      border-radius: 50%;\n",
              "      cursor: pointer;\n",
              "      display: none;\n",
              "      fill: #1967D2;\n",
              "      height: 32px;\n",
              "      padding: 0 0 0 0;\n",
              "      width: 32px;\n",
              "    }\n",
              "\n",
              "    .colab-df-convert:hover {\n",
              "      background-color: #E2EBFA;\n",
              "      box-shadow: 0px 1px 2px rgba(60, 64, 67, 0.3), 0px 1px 3px 1px rgba(60, 64, 67, 0.15);\n",
              "      fill: #174EA6;\n",
              "    }\n",
              "\n",
              "    [theme=dark] .colab-df-convert {\n",
              "      background-color: #3B4455;\n",
              "      fill: #D2E3FC;\n",
              "    }\n",
              "\n",
              "    [theme=dark] .colab-df-convert:hover {\n",
              "      background-color: #434B5C;\n",
              "      box-shadow: 0px 1px 3px 1px rgba(0, 0, 0, 0.15);\n",
              "      filter: drop-shadow(0px 1px 2px rgba(0, 0, 0, 0.3));\n",
              "      fill: #FFFFFF;\n",
              "    }\n",
              "  </style>\n",
              "\n",
              "      <script>\n",
              "        const buttonEl =\n",
              "          document.querySelector('#df-82f4fb85-1513-440b-904a-9acf1f4a9b9c button.colab-df-convert');\n",
              "        buttonEl.style.display =\n",
              "          google.colab.kernel.accessAllowed ? 'block' : 'none';\n",
              "\n",
              "        async function convertToInteractive(key) {\n",
              "          const element = document.querySelector('#df-82f4fb85-1513-440b-904a-9acf1f4a9b9c');\n",
              "          const dataTable =\n",
              "            await google.colab.kernel.invokeFunction('convertToInteractive',\n",
              "                                                     [key], {});\n",
              "          if (!dataTable) return;\n",
              "\n",
              "          const docLinkHtml = 'Like what you see? Visit the ' +\n",
              "            '<a target=\"_blank\" href=https://colab.research.google.com/notebooks/data_table.ipynb>data table notebook</a>'\n",
              "            + ' to learn more about interactive tables.';\n",
              "          element.innerHTML = '';\n",
              "          dataTable['output_type'] = 'display_data';\n",
              "          await google.colab.output.renderOutput(dataTable, element);\n",
              "          const docLink = document.createElement('div');\n",
              "          docLink.innerHTML = docLinkHtml;\n",
              "          element.appendChild(docLink);\n",
              "        }\n",
              "      </script>\n",
              "    </div>\n",
              "  </div>\n",
              "  "
            ]
          },
          "metadata": {},
          "execution_count": 50
        }
      ]
    },
    {
      "cell_type": "code",
      "source": [
        "tabaela_america_sul_12_reduzida = tabela_paises_america_sul_12[['pais', 'precipitacao', 'frp', 'bioma']]"
      ],
      "metadata": {
        "id": "hAfCza9h79sW"
      },
      "execution_count": 51,
      "outputs": []
    },
    {
      "cell_type": "code",
      "source": [
        "tabaela_america_sul_12_reduzida"
      ],
      "metadata": {
        "colab": {
          "base_uri": "https://localhost:8080/",
          "height": 424
        },
        "id": "fItrk79D8vI-",
        "outputId": "09e7629a-a434-4f67-9376-e7e507329bb9"
      },
      "execution_count": 52,
      "outputs": [
        {
          "output_type": "execute_result",
          "data": {
            "text/plain": [
              "              pais  precipitacao    frp     bioma\n",
              "1           Brasil         17.00   43.7  Amazônia\n",
              "2           Brasil          5.81  109.1  Amazônia\n",
              "3           Brasil          5.90  139.3  Amazônia\n",
              "4           Brasil          4.92   81.3  Amazônia\n",
              "5           Brasil          5.07   63.7  Amazônia\n",
              "...            ...           ...    ...       ...\n",
              "2465303   Paraguay          0.00  118.4       NaN\n",
              "2465304   Paraguay          0.00  123.2       NaN\n",
              "2465305  Argentina          0.00   96.1       NaN\n",
              "2465306   Paraguay          0.00  421.3       NaN\n",
              "2465307  Argentina          0.00   97.9       NaN\n",
              "\n",
              "[291706 rows x 4 columns]"
            ],
            "text/html": [
              "\n",
              "  <div id=\"df-10ef1400-7c0b-4e80-9889-3ef9a725435a\">\n",
              "    <div class=\"colab-df-container\">\n",
              "      <div>\n",
              "<style scoped>\n",
              "    .dataframe tbody tr th:only-of-type {\n",
              "        vertical-align: middle;\n",
              "    }\n",
              "\n",
              "    .dataframe tbody tr th {\n",
              "        vertical-align: top;\n",
              "    }\n",
              "\n",
              "    .dataframe thead th {\n",
              "        text-align: right;\n",
              "    }\n",
              "</style>\n",
              "<table border=\"1\" class=\"dataframe\">\n",
              "  <thead>\n",
              "    <tr style=\"text-align: right;\">\n",
              "      <th></th>\n",
              "      <th>pais</th>\n",
              "      <th>precipitacao</th>\n",
              "      <th>frp</th>\n",
              "      <th>bioma</th>\n",
              "    </tr>\n",
              "  </thead>\n",
              "  <tbody>\n",
              "    <tr>\n",
              "      <th>1</th>\n",
              "      <td>Brasil</td>\n",
              "      <td>17.00</td>\n",
              "      <td>43.7</td>\n",
              "      <td>Amazônia</td>\n",
              "    </tr>\n",
              "    <tr>\n",
              "      <th>2</th>\n",
              "      <td>Brasil</td>\n",
              "      <td>5.81</td>\n",
              "      <td>109.1</td>\n",
              "      <td>Amazônia</td>\n",
              "    </tr>\n",
              "    <tr>\n",
              "      <th>3</th>\n",
              "      <td>Brasil</td>\n",
              "      <td>5.90</td>\n",
              "      <td>139.3</td>\n",
              "      <td>Amazônia</td>\n",
              "    </tr>\n",
              "    <tr>\n",
              "      <th>4</th>\n",
              "      <td>Brasil</td>\n",
              "      <td>4.92</td>\n",
              "      <td>81.3</td>\n",
              "      <td>Amazônia</td>\n",
              "    </tr>\n",
              "    <tr>\n",
              "      <th>5</th>\n",
              "      <td>Brasil</td>\n",
              "      <td>5.07</td>\n",
              "      <td>63.7</td>\n",
              "      <td>Amazônia</td>\n",
              "    </tr>\n",
              "    <tr>\n",
              "      <th>...</th>\n",
              "      <td>...</td>\n",
              "      <td>...</td>\n",
              "      <td>...</td>\n",
              "      <td>...</td>\n",
              "    </tr>\n",
              "    <tr>\n",
              "      <th>2465303</th>\n",
              "      <td>Paraguay</td>\n",
              "      <td>0.00</td>\n",
              "      <td>118.4</td>\n",
              "      <td>NaN</td>\n",
              "    </tr>\n",
              "    <tr>\n",
              "      <th>2465304</th>\n",
              "      <td>Paraguay</td>\n",
              "      <td>0.00</td>\n",
              "      <td>123.2</td>\n",
              "      <td>NaN</td>\n",
              "    </tr>\n",
              "    <tr>\n",
              "      <th>2465305</th>\n",
              "      <td>Argentina</td>\n",
              "      <td>0.00</td>\n",
              "      <td>96.1</td>\n",
              "      <td>NaN</td>\n",
              "    </tr>\n",
              "    <tr>\n",
              "      <th>2465306</th>\n",
              "      <td>Paraguay</td>\n",
              "      <td>0.00</td>\n",
              "      <td>421.3</td>\n",
              "      <td>NaN</td>\n",
              "    </tr>\n",
              "    <tr>\n",
              "      <th>2465307</th>\n",
              "      <td>Argentina</td>\n",
              "      <td>0.00</td>\n",
              "      <td>97.9</td>\n",
              "      <td>NaN</td>\n",
              "    </tr>\n",
              "  </tbody>\n",
              "</table>\n",
              "<p>291706 rows × 4 columns</p>\n",
              "</div>\n",
              "      <button class=\"colab-df-convert\" onclick=\"convertToInteractive('df-10ef1400-7c0b-4e80-9889-3ef9a725435a')\"\n",
              "              title=\"Convert this dataframe to an interactive table.\"\n",
              "              style=\"display:none;\">\n",
              "        \n",
              "  <svg xmlns=\"http://www.w3.org/2000/svg\" height=\"24px\"viewBox=\"0 0 24 24\"\n",
              "       width=\"24px\">\n",
              "    <path d=\"M0 0h24v24H0V0z\" fill=\"none\"/>\n",
              "    <path d=\"M18.56 5.44l.94 2.06.94-2.06 2.06-.94-2.06-.94-.94-2.06-.94 2.06-2.06.94zm-11 1L8.5 8.5l.94-2.06 2.06-.94-2.06-.94L8.5 2.5l-.94 2.06-2.06.94zm10 10l.94 2.06.94-2.06 2.06-.94-2.06-.94-.94-2.06-.94 2.06-2.06.94z\"/><path d=\"M17.41 7.96l-1.37-1.37c-.4-.4-.92-.59-1.43-.59-.52 0-1.04.2-1.43.59L10.3 9.45l-7.72 7.72c-.78.78-.78 2.05 0 2.83L4 21.41c.39.39.9.59 1.41.59.51 0 1.02-.2 1.41-.59l7.78-7.78 2.81-2.81c.8-.78.8-2.07 0-2.86zM5.41 20L4 18.59l7.72-7.72 1.47 1.35L5.41 20z\"/>\n",
              "  </svg>\n",
              "      </button>\n",
              "      \n",
              "  <style>\n",
              "    .colab-df-container {\n",
              "      display:flex;\n",
              "      flex-wrap:wrap;\n",
              "      gap: 12px;\n",
              "    }\n",
              "\n",
              "    .colab-df-convert {\n",
              "      background-color: #E8F0FE;\n",
              "      border: none;\n",
              "      border-radius: 50%;\n",
              "      cursor: pointer;\n",
              "      display: none;\n",
              "      fill: #1967D2;\n",
              "      height: 32px;\n",
              "      padding: 0 0 0 0;\n",
              "      width: 32px;\n",
              "    }\n",
              "\n",
              "    .colab-df-convert:hover {\n",
              "      background-color: #E2EBFA;\n",
              "      box-shadow: 0px 1px 2px rgba(60, 64, 67, 0.3), 0px 1px 3px 1px rgba(60, 64, 67, 0.15);\n",
              "      fill: #174EA6;\n",
              "    }\n",
              "\n",
              "    [theme=dark] .colab-df-convert {\n",
              "      background-color: #3B4455;\n",
              "      fill: #D2E3FC;\n",
              "    }\n",
              "\n",
              "    [theme=dark] .colab-df-convert:hover {\n",
              "      background-color: #434B5C;\n",
              "      box-shadow: 0px 1px 3px 1px rgba(0, 0, 0, 0.15);\n",
              "      filter: drop-shadow(0px 1px 2px rgba(0, 0, 0, 0.3));\n",
              "      fill: #FFFFFF;\n",
              "    }\n",
              "  </style>\n",
              "\n",
              "      <script>\n",
              "        const buttonEl =\n",
              "          document.querySelector('#df-10ef1400-7c0b-4e80-9889-3ef9a725435a button.colab-df-convert');\n",
              "        buttonEl.style.display =\n",
              "          google.colab.kernel.accessAllowed ? 'block' : 'none';\n",
              "\n",
              "        async function convertToInteractive(key) {\n",
              "          const element = document.querySelector('#df-10ef1400-7c0b-4e80-9889-3ef9a725435a');\n",
              "          const dataTable =\n",
              "            await google.colab.kernel.invokeFunction('convertToInteractive',\n",
              "                                                     [key], {});\n",
              "          if (!dataTable) return;\n",
              "\n",
              "          const docLinkHtml = 'Like what you see? Visit the ' +\n",
              "            '<a target=\"_blank\" href=https://colab.research.google.com/notebooks/data_table.ipynb>data table notebook</a>'\n",
              "            + ' to learn more about interactive tables.';\n",
              "          element.innerHTML = '';\n",
              "          dataTable['output_type'] = 'display_data';\n",
              "          await google.colab.output.renderOutput(dataTable, element);\n",
              "          const docLink = document.createElement('div');\n",
              "          docLink.innerHTML = docLinkHtml;\n",
              "          element.appendChild(docLink);\n",
              "        }\n",
              "      </script>\n",
              "    </div>\n",
              "  </div>\n",
              "  "
            ]
          },
          "metadata": {},
          "execution_count": 52
        }
      ]
    },
    {
      "cell_type": "code",
      "source": [
        "tabela_remocao = tabaela_america_sul_12_reduzida.loc[(tabaela_america_sul_12_reduzida['pais'] != 'Brasil')]"
      ],
      "metadata": {
        "id": "zeOIi8b18xFu"
      },
      "execution_count": 53,
      "outputs": []
    },
    {
      "cell_type": "code",
      "source": [
        "tabela_brasil = tabaela_america_sul_12_reduzida.drop(tabela_remocao.index)"
      ],
      "metadata": {
        "id": "I_BT-lN294I2"
      },
      "execution_count": 54,
      "outputs": []
    },
    {
      "cell_type": "code",
      "source": [
        "tabela_brasil"
      ],
      "metadata": {
        "colab": {
          "base_uri": "https://localhost:8080/",
          "height": 424
        },
        "id": "I3h0yciL-HHW",
        "outputId": "dd3b61ea-5648-468b-8153-982554c283d9"
      },
      "execution_count": 55,
      "outputs": [
        {
          "output_type": "execute_result",
          "data": {
            "text/plain": [
              "           pais  precipitacao    frp           bioma\n",
              "1        Brasil         17.00   43.7        Amazônia\n",
              "2        Brasil          5.81  109.1        Amazônia\n",
              "3        Brasil          5.90  139.3        Amazônia\n",
              "4        Brasil          4.92   81.3        Amazônia\n",
              "5        Brasil          5.07   63.7        Amazônia\n",
              "...         ...           ...    ...             ...\n",
              "2465205  Brasil          0.96   76.0        Amazônia\n",
              "2465206  Brasil          0.90   58.1        Amazônia\n",
              "2465207  Brasil          0.00   68.6  Mata Atlântica\n",
              "2465270  Brasil          0.90   62.8        Amazônia\n",
              "2465271  Brasil          0.96   69.6        Amazônia\n",
              "\n",
              "[106230 rows x 4 columns]"
            ],
            "text/html": [
              "\n",
              "  <div id=\"df-20e95395-2cd4-4d0f-9832-690d114dce51\">\n",
              "    <div class=\"colab-df-container\">\n",
              "      <div>\n",
              "<style scoped>\n",
              "    .dataframe tbody tr th:only-of-type {\n",
              "        vertical-align: middle;\n",
              "    }\n",
              "\n",
              "    .dataframe tbody tr th {\n",
              "        vertical-align: top;\n",
              "    }\n",
              "\n",
              "    .dataframe thead th {\n",
              "        text-align: right;\n",
              "    }\n",
              "</style>\n",
              "<table border=\"1\" class=\"dataframe\">\n",
              "  <thead>\n",
              "    <tr style=\"text-align: right;\">\n",
              "      <th></th>\n",
              "      <th>pais</th>\n",
              "      <th>precipitacao</th>\n",
              "      <th>frp</th>\n",
              "      <th>bioma</th>\n",
              "    </tr>\n",
              "  </thead>\n",
              "  <tbody>\n",
              "    <tr>\n",
              "      <th>1</th>\n",
              "      <td>Brasil</td>\n",
              "      <td>17.00</td>\n",
              "      <td>43.7</td>\n",
              "      <td>Amazônia</td>\n",
              "    </tr>\n",
              "    <tr>\n",
              "      <th>2</th>\n",
              "      <td>Brasil</td>\n",
              "      <td>5.81</td>\n",
              "      <td>109.1</td>\n",
              "      <td>Amazônia</td>\n",
              "    </tr>\n",
              "    <tr>\n",
              "      <th>3</th>\n",
              "      <td>Brasil</td>\n",
              "      <td>5.90</td>\n",
              "      <td>139.3</td>\n",
              "      <td>Amazônia</td>\n",
              "    </tr>\n",
              "    <tr>\n",
              "      <th>4</th>\n",
              "      <td>Brasil</td>\n",
              "      <td>4.92</td>\n",
              "      <td>81.3</td>\n",
              "      <td>Amazônia</td>\n",
              "    </tr>\n",
              "    <tr>\n",
              "      <th>5</th>\n",
              "      <td>Brasil</td>\n",
              "      <td>5.07</td>\n",
              "      <td>63.7</td>\n",
              "      <td>Amazônia</td>\n",
              "    </tr>\n",
              "    <tr>\n",
              "      <th>...</th>\n",
              "      <td>...</td>\n",
              "      <td>...</td>\n",
              "      <td>...</td>\n",
              "      <td>...</td>\n",
              "    </tr>\n",
              "    <tr>\n",
              "      <th>2465205</th>\n",
              "      <td>Brasil</td>\n",
              "      <td>0.96</td>\n",
              "      <td>76.0</td>\n",
              "      <td>Amazônia</td>\n",
              "    </tr>\n",
              "    <tr>\n",
              "      <th>2465206</th>\n",
              "      <td>Brasil</td>\n",
              "      <td>0.90</td>\n",
              "      <td>58.1</td>\n",
              "      <td>Amazônia</td>\n",
              "    </tr>\n",
              "    <tr>\n",
              "      <th>2465207</th>\n",
              "      <td>Brasil</td>\n",
              "      <td>0.00</td>\n",
              "      <td>68.6</td>\n",
              "      <td>Mata Atlântica</td>\n",
              "    </tr>\n",
              "    <tr>\n",
              "      <th>2465270</th>\n",
              "      <td>Brasil</td>\n",
              "      <td>0.90</td>\n",
              "      <td>62.8</td>\n",
              "      <td>Amazônia</td>\n",
              "    </tr>\n",
              "    <tr>\n",
              "      <th>2465271</th>\n",
              "      <td>Brasil</td>\n",
              "      <td>0.96</td>\n",
              "      <td>69.6</td>\n",
              "      <td>Amazônia</td>\n",
              "    </tr>\n",
              "  </tbody>\n",
              "</table>\n",
              "<p>106230 rows × 4 columns</p>\n",
              "</div>\n",
              "      <button class=\"colab-df-convert\" onclick=\"convertToInteractive('df-20e95395-2cd4-4d0f-9832-690d114dce51')\"\n",
              "              title=\"Convert this dataframe to an interactive table.\"\n",
              "              style=\"display:none;\">\n",
              "        \n",
              "  <svg xmlns=\"http://www.w3.org/2000/svg\" height=\"24px\"viewBox=\"0 0 24 24\"\n",
              "       width=\"24px\">\n",
              "    <path d=\"M0 0h24v24H0V0z\" fill=\"none\"/>\n",
              "    <path d=\"M18.56 5.44l.94 2.06.94-2.06 2.06-.94-2.06-.94-.94-2.06-.94 2.06-2.06.94zm-11 1L8.5 8.5l.94-2.06 2.06-.94-2.06-.94L8.5 2.5l-.94 2.06-2.06.94zm10 10l.94 2.06.94-2.06 2.06-.94-2.06-.94-.94-2.06-.94 2.06-2.06.94z\"/><path d=\"M17.41 7.96l-1.37-1.37c-.4-.4-.92-.59-1.43-.59-.52 0-1.04.2-1.43.59L10.3 9.45l-7.72 7.72c-.78.78-.78 2.05 0 2.83L4 21.41c.39.39.9.59 1.41.59.51 0 1.02-.2 1.41-.59l7.78-7.78 2.81-2.81c.8-.78.8-2.07 0-2.86zM5.41 20L4 18.59l7.72-7.72 1.47 1.35L5.41 20z\"/>\n",
              "  </svg>\n",
              "      </button>\n",
              "      \n",
              "  <style>\n",
              "    .colab-df-container {\n",
              "      display:flex;\n",
              "      flex-wrap:wrap;\n",
              "      gap: 12px;\n",
              "    }\n",
              "\n",
              "    .colab-df-convert {\n",
              "      background-color: #E8F0FE;\n",
              "      border: none;\n",
              "      border-radius: 50%;\n",
              "      cursor: pointer;\n",
              "      display: none;\n",
              "      fill: #1967D2;\n",
              "      height: 32px;\n",
              "      padding: 0 0 0 0;\n",
              "      width: 32px;\n",
              "    }\n",
              "\n",
              "    .colab-df-convert:hover {\n",
              "      background-color: #E2EBFA;\n",
              "      box-shadow: 0px 1px 2px rgba(60, 64, 67, 0.3), 0px 1px 3px 1px rgba(60, 64, 67, 0.15);\n",
              "      fill: #174EA6;\n",
              "    }\n",
              "\n",
              "    [theme=dark] .colab-df-convert {\n",
              "      background-color: #3B4455;\n",
              "      fill: #D2E3FC;\n",
              "    }\n",
              "\n",
              "    [theme=dark] .colab-df-convert:hover {\n",
              "      background-color: #434B5C;\n",
              "      box-shadow: 0px 1px 3px 1px rgba(0, 0, 0, 0.15);\n",
              "      filter: drop-shadow(0px 1px 2px rgba(0, 0, 0, 0.3));\n",
              "      fill: #FFFFFF;\n",
              "    }\n",
              "  </style>\n",
              "\n",
              "      <script>\n",
              "        const buttonEl =\n",
              "          document.querySelector('#df-20e95395-2cd4-4d0f-9832-690d114dce51 button.colab-df-convert');\n",
              "        buttonEl.style.display =\n",
              "          google.colab.kernel.accessAllowed ? 'block' : 'none';\n",
              "\n",
              "        async function convertToInteractive(key) {\n",
              "          const element = document.querySelector('#df-20e95395-2cd4-4d0f-9832-690d114dce51');\n",
              "          const dataTable =\n",
              "            await google.colab.kernel.invokeFunction('convertToInteractive',\n",
              "                                                     [key], {});\n",
              "          if (!dataTable) return;\n",
              "\n",
              "          const docLinkHtml = 'Like what you see? Visit the ' +\n",
              "            '<a target=\"_blank\" href=https://colab.research.google.com/notebooks/data_table.ipynb>data table notebook</a>'\n",
              "            + ' to learn more about interactive tables.';\n",
              "          element.innerHTML = '';\n",
              "          dataTable['output_type'] = 'display_data';\n",
              "          await google.colab.output.renderOutput(dataTable, element);\n",
              "          const docLink = document.createElement('div');\n",
              "          docLink.innerHTML = docLinkHtml;\n",
              "          element.appendChild(docLink);\n",
              "        }\n",
              "      </script>\n",
              "    </div>\n",
              "  </div>\n",
              "  "
            ]
          },
          "metadata": {},
          "execution_count": 55
        }
      ]
    },
    {
      "cell_type": "code",
      "source": [
        "tabela_brasil_g = tabela_brasil.groupby('bioma')['precipitacao']"
      ],
      "metadata": {
        "id": "UcP2GsiirYp9"
      },
      "execution_count": 56,
      "outputs": []
    },
    {
      "cell_type": "code",
      "source": [
        "area = plt.figure()"
      ],
      "metadata": {
        "colab": {
          "base_uri": "https://localhost:8080/",
          "height": 34
        },
        "id": "sdC56R26E-vd",
        "outputId": "d786632d-8ad2-4903-9806-68d2b35d1d64"
      },
      "execution_count": 57,
      "outputs": [
        {
          "output_type": "display_data",
          "data": {
            "text/plain": [
              "<Figure size 432x288 with 0 Axes>"
            ]
          },
          "metadata": {}
        }
      ]
    },
    {
      "cell_type": "code",
      "source": [
        "g1 = area.add_subplot(111)"
      ],
      "metadata": {
        "id": "8nGkIfcsFEl3"
      },
      "execution_count": 58,
      "outputs": []
    },
    {
      "cell_type": "code",
      "source": [
        "plt.bar(tabela_brasil['frp'], tabela_brasil['precipitacao'])"
      ],
      "metadata": {
        "colab": {
          "base_uri": "https://localhost:8080/",
          "height": 282
        },
        "id": "hu9O2DwA-JHe",
        "outputId": "0aa70f93-5452-46f6-edc7-01ec654477bd"
      },
      "execution_count": 59,
      "outputs": [
        {
          "output_type": "execute_result",
          "data": {
            "text/plain": [
              "<BarContainer object of 106230 artists>"
            ]
          },
          "metadata": {},
          "execution_count": 59
        },
        {
          "output_type": "display_data",
          "data": {
            "text/plain": [
              "<Figure size 432x288 with 1 Axes>"
            ],
            "image/png": "[encoded data removed]"
          },
          "metadata": {
            "needs_background": "light"
          }
        }
      ]
    },
    {
      "cell_type": "code",
      "source": [
        "tabela_brasil_g"
      ],
      "metadata": {
        "colab": {
          "base_uri": "https://localhost:8080/"
        },
        "id": "u_l87qP7CNme",
        "outputId": "45cb2dd9-94a6-4be3-8917-e3f90a09bc4b"
      },
      "execution_count": 60,
      "outputs": [
        {
          "output_type": "execute_result",
          "data": {
            "text/plain": [
              "<pandas.core.groupby.generic.SeriesGroupBy object at 0x7f773cdd7490>"
            ]
          },
          "metadata": {},
          "execution_count": 60
        }
      ]
    },
    {
      "cell_type": "code",
      "source": [
        "label = tabela_brasil_g.mean().index"
      ],
      "metadata": {
        "id": "3b8h5q-BJYME"
      },
      "execution_count": 61,
      "outputs": []
    },
    {
      "cell_type": "code",
      "source": [
        "precipitacao = tabela_brasil_g.mean().values"
      ],
      "metadata": {
        "id": "cK3j3NPGIHBt"
      },
      "execution_count": 62,
      "outputs": []
    },
    {
      "cell_type": "code",
      "source": [
        "plt.bar(label, precipitacao)\n",
        "plt.xticks(rotation=30, ha = 'right')"
      ],
      "metadata": {
        "colab": {
          "base_uri": "https://localhost:8080/",
          "height": 317
        },
        "id": "5G1mpDplCSU9",
        "outputId": "585f3589-9b46-46e8-9ddc-a00ced821bc9"
      },
      "execution_count": 67,
      "outputs": [
        {
          "output_type": "execute_result",
          "data": {
            "text/plain": [
              "([0, 1, 2, 3, 4, 5], <a list of 6 Text major ticklabel objects>)"
            ]
          },
          "metadata": {},
          "execution_count": 67
        },
        {
          "output_type": "display_data",
          "data": {
            "text/plain": [
              "<Figure size 432x288 with 1 Axes>"
            ],
            "image/png": "[encoded data removed]"
          },
          "metadata": {
            "needs_background": "light"
          }
        }
      ]
    }
  ]
}